{
  "nbformat": 4,
  "nbformat_minor": 0,
  "metadata": {
    "colab": {
      "name": "02_CNN_Introduction.ipynb",
      "provenance": [],
      "include_colab_link": true
    },
    "kernelspec": {
      "name": "python3",
      "display_name": "Python 3"
    },
    "accelerator": "GPU",
    "gpuClass": "standard"
  },
  "cells": [
    {
      "cell_type": "markdown",
      "metadata": {
        "id": "view-in-github",
        "colab_type": "text"
      },
      "source": [
        "<a href=\"https://colab.research.google.com/github/limited-fion/deep-learning-cw/blob/master/02_CNN_Introduction.ipynb\" target=\"_parent\"><img src=\"https://colab.research.google.com/assets/colab-badge.svg\" alt=\"Open In Colab\"/></a>"
      ]
    },
    {
      "cell_type": "markdown",
      "metadata": {
        "id": "5uoxdNjkDw2K"
      },
      "source": [
        "# Introduction to Convolutional Neural Networks\n",
        "\n",
        "This tutorial addresses the basic concepts regarding Convolutional Neural Networks and their implementation using the Keras framework.\n",
        "Convolutional Neural Networks (CNNs) are a class of feed-forward artificial neural architecture. They are applied to analyse visual 2D imagery, meaning that we can feed images directly into a CNN without the need to flatten them into a 1D vector as done in the previous tutorial.\n",
        "CNNs have revolutionised the field of computer vision in the last decade. In 2012 Alex Krizhevsky introduced the AlexNet architecture to win the ImageNet Challenge (one of the most important competitions on image classification within the Computer Vision community), by reducing the top-5 error more than 10 percentage points, which was an incredible improvement at that time. As of now, CNNs are used not only on image classification but in many other computer vision tasks.\n",
        "\n",
        "![](https://cdn-5f733ed3c1ac190fbc56ef88.closte.com/wp-content/uploads/2017/03/alexnet_small-1.png)\n",
        "\n",
        "The image above is from [cv-tricks' blog](https://cv-tricks.com/cnn/understand-resnet-alexnet-vgg-inception/) and shows the proposed AlexNet architecture. It is composed of 5 convolutional layers followed by 3 fully connected layers. Nowadays, we can find much deeper and more complex architectures, which outperform AlexNet on the ImageNet Challenge. \n",
        "\n",
        "\n",
        "\n",
        "\n",
        "\n"
      ]
    },
    {
      "cell_type": "markdown",
      "metadata": {
        "id": "dJ2d_oQ2UEPz"
      },
      "source": [
        "## CNN Structure\n",
        "\n",
        "The basic pipeline of common CNNs consists of an image as input and a stack of convolutional layers that extract a feature representation from the input image. The final shape of the image representation is conditioned on the type of problem/task that the architecture is facing. For instance, the output of the last layer in a classification problem is a probability vector. Each dimension of the probability vector represents how likely is that the input image belongs to a specific class. However, the architecture design is up to us, and therefore, we could code a network that outputs a single value for regression problems, or that generates a new image map for semantic segmentation. Now, let's dig in a bit into CNN and introduce some layers that are widely used. "
      ]
    },
    {
      "cell_type": "markdown",
      "metadata": {
        "id": "wvNKve9GZL4M"
      },
      "source": [
        "### 2D Convolutional Layer\n",
        "\n",
        "The most common layer in any CNN architecture is the 2D convolutional layer. Convolutional layers are specifically designed to extract features from images or even extract features from previously extracted features. As shown in the following illustration, 2D convolutions apply the same filter to the full image. And therefore, due to its nature, 2D convolutional filters exploit the local information presented in images, making them a powerful tool for image analysis. \n",
        "\n",
        "![](https://cdn-images-1.medium.com/max/800/1*Fw-ehcNBR9byHtho-Rxbtw.gif)\n",
        "\n",
        "Image [source](https://towardsdatascience.com/intuitively-understanding-convolutions-for-deep-learning-1f6f42faee1).\n",
        "\n",
        "The latest deep learning frameworks have made possible the integration of convolutional layers easily on our architectures with only a single line of code. We will address here how 2D convolutions work since full understanding is needed to comprehend how any CNN operates. The following images and some explanations can be further explored on the original [Irhum Shafkat's blog](https://towardsdatascience.com/intuitively-understanding-convolutions-for-deep-learning-1f6f42faee1) or in the [Neural Networks and Deep Learning](http://neuralnetworksanddeeplearning.com/) book. Both are strongly recommended.\n",
        "\n",
        "To understand 2D convolutions, we need to define first what a kernel is. Kernels are simply matrices of numbers. The numbers on the kernels are the so-called weights, and the weights on the kernels change as we train the network. Hence, network training aims to optimise the network's parameters (update the kernel weights) such that the cost function is minimised. \n",
        "\n",
        "The 2D convolution operation takes the network's kernels and \"slides\" them over the input image (alike to a sliding window) as in the following image from [PyImageSearch](https://www.pyimagesearch.com/2015/03/23/sliding-windows-for-object-detection-with-python-and-opencv/) blog:\n",
        "\n",
        "![](https://pyimagesearch.com/wp-content/uploads/2014/10/sliding_window_example.gif)\n",
        "\n",
        "In each step, the network performs an element-wise multiplication with the elements that are currently on. The results of this elementwise multiplication are added to obtain the output value of the operation. CNNs repeat previous step for all the positions of the sliding window, composing at the end the feature map. This generated feature map can go through another 2D convolutional layer and create more powerful features. \n",
        "\n",
        "> \n",
        "\n",
        "![](https://cdn-images-1.medium.com/max/800/1*Zx-ZMLKab7VOCQTxdZ1OAw.gif)\n",
        "\n",
        "> \n",
        "The previous image shows the 2D convolution operation. Thus, the new feature values are the weighted sum of all the elements in the sliding window after the elementwise multiplication between input and kernel.  The bigger the size of the kernel is, the more feature elements contribute to the final output value. In contrast to fully connected layers, where a new feature value is a weighted sum over **all** input values, as mentioned, 2D convolutions compute features based on local areas. In other words, instead of looking at every input component, they consider only features coming from close locations. \n",
        "\n",
        "In the above example, the input image on the left has a size of 5x5 and the dimension of the resulting feature map is 3x3, showing that the size of the output maps is not always equal to the input. Hence, the output size can be computed by doing:\n",
        "\n",
        "$O = W - K + 1$,\n",
        "\n",
        "where $O$ is the output height/length, $W$ is the input height/length and $K$ is the kernel size. The output size is not only conditioned on the input size but also on the kernel size. Check in the following code cell how the output feature map shape changes as you increase the kernel size. In Keras, we define the layer by using `Conv2D` from `keras.layers` (documentation [here](https://keras.io/layers/convolutional/#conv2d)).\n",
        "\n",
        "\n",
        "\n",
        "\n",
        "\n",
        "\n",
        "\n"
      ]
    },
    {
      "cell_type": "code",
      "metadata": {
        "id": "ez90vQEksR9b",
        "colab": {
          "base_uri": "https://localhost:8080/"
        },
        "outputId": "f2f62fb2-a21a-4f5b-cc06-e1521169f698"
      },
      "source": [
        "import numpy as np\n",
        "import keras\n",
        "import tensorflow as tf\n",
        "from keras.models import Sequential\n",
        "from keras.layers import Conv2D\n",
        "\n",
        "# Generate dummy data\n",
        "input_feature = np.random.random((1, 100, 100, 1))\n",
        "\n",
        "# input: 100x100 image with 1 channels -> (100, 100, 1) tensor.\n",
        "# this applies 1 convolution filter of size 3x3 each.\n",
        "model = Sequential()\n",
        "model.add(Conv2D(1, (3, 3), input_shape=(100, 100, 1)))\n",
        "\n",
        "output_feature = model.predict(input_feature)\n",
        "\n",
        "print('Input size: ({:}, {:})'.format(input_feature.shape[1], input_feature.shape[2]))\n",
        "print('Output size: ({:}, {:})'.format(output_feature.shape[1], output_feature.shape[2]))"
      ],
      "execution_count": null,
      "outputs": [
        {
          "output_type": "stream",
          "name": "stdout",
          "text": [
            "1/1 [==============================] - 12s 12s/step\n",
            "Input size: (100, 100)\n",
            "Output size: (98, 98)\n"
          ]
        }
      ]
    },
    {
      "cell_type": "markdown",
      "metadata": {
        "id": "mNOhth4FuNob"
      },
      "source": [
        "Moreover, the kernel size and the input size are not the only parameters affecting the output size. We are going to introduce two extra elements that change the size of the output map: the padding and the stride."
      ]
    },
    {
      "cell_type": "markdown",
      "metadata": {
        "id": "mT6f_n5QiU8X"
      },
      "source": [
        "### Adding Padding to Input Features\n",
        "\n",
        "In some tasks, such as [image translation](https://arxiv.org/pdf/1611.07004.pdf), we need the output size to be equal to the input size. The solution to that is using padding, where extra edges are added to the input features so that the dimension is not reduced after the convolutional layer. Normally those pixels have $0$ value (termed zero-padding), but depending on the application other methods could be used, e.g., reflection or symmetric padding.\n",
        "\n",
        "![](https://cdn-images-1.medium.com/max/800/1*1okwhewf5KCtIPaFib4XaA.gif)\n",
        "\n",
        "If padding is used, the new output size can be computed by doing:\n",
        "\n",
        "$O = W - K + 2P+ 1$, \n",
        "\n",
        "where $P$ is the padding value. $P$ must be set in concordance with the kernel size if dimensionality wants to be preserved. Padding can be added to the `Conv2d` layer in Keras by using the padding argument and selecting one of the two settings: `valid`, which is the default value and means no padding; and `same`, which adapts the padding value to have the same output size as input size."
      ]
    },
    {
      "cell_type": "code",
      "metadata": {
        "id": "X7Z5G2O00Etd",
        "colab": {
          "base_uri": "https://localhost:8080/"
        },
        "outputId": "cbed4db7-39ad-4cdb-b67c-852324f88575"
      },
      "source": [
        "import numpy as np\n",
        "import keras\n",
        "import tensorflow as tf\n",
        "from keras.models import Sequential\n",
        "from keras.layers import Conv2D\n",
        "\n",
        "# Generate dummy data\n",
        "input_feature = np.random.random((1, 100, 100, 1))\n",
        "\n",
        "# input: 100x100 image with 1 channels -> (100, 100, 1) tensor.\n",
        "# this applies 1 convolution filter of size 3x3 each.\n",
        "# attribute padding='same' applies zero-padding to the input feature map\n",
        "model = Sequential()\n",
        "model.add(Conv2D(1, (3, 3), input_shape=(100, 100, 1), padding='same'))\n",
        "\n",
        "output_feature = model.predict(input_feature)\n",
        "\n",
        "print('Input size: ({:}, {:})'.format(input_feature.shape[1], input_feature.shape[2]))\n",
        "print('Output size: ({:}, {:})'.format(output_feature.shape[1], output_feature.shape[2]))"
      ],
      "execution_count": null,
      "outputs": [
        {
          "output_type": "stream",
          "name": "stdout",
          "text": [
            "1/1 [==============================] - 0s 221ms/step\n",
            "Input size: (100, 100)\n",
            "Output size: (100, 100)\n"
          ]
        }
      ]
    },
    {
      "cell_type": "markdown",
      "metadata": {
        "id": "tdB4jMeswXVA"
      },
      "source": [
        "### Using Stride in Convolutional Layers\n",
        "\n",
        "The stride operation allows the convolutional layers to skip some of the sliding windows explained above. Hence, instead of jumping one pixel apart, we can define the number of skipped elements before computing the weighting sum between the kernel's weights and input features. A stride of 1 means that features will be extracted from all windows a pixel apart, so basically, every single window is computed. A stride of 2 means that we are selecting windows 2 pixels apart, skipping every other window in the process. Strides reduce the number of computations and consequently the size of the output map. In practice, as we go deeper into the CNN, the spatial size of the feature map gets smaller while the number of channels increases. Moreover, we can further reduce the size of the feature map using pooling operations, which we introduce later in this tutorial.\n",
        "\n",
        "![](https://cdn-images-1.medium.com/max/800/1*BMngs93_rm2_BpJFH2mS0Q.gif)\n",
        "\n",
        "If strides are used, the new output size can be computed as:\n",
        "\n",
        "$O = \\dfrac{W - K + 2P}{S}+ 1$, \n",
        "\n",
        "where $S$ is the stride value. The stride is set in the layer by using the `strides` argument."
      ]
    },
    {
      "cell_type": "code",
      "metadata": {
        "id": "Y8GjztiH0hnw",
        "colab": {
          "base_uri": "https://localhost:8080/"
        },
        "outputId": "3507d278-bc0b-4209-de7f-9cdd84dcfdeb"
      },
      "source": [
        "import numpy as np\n",
        "import keras\n",
        "import tensorflow as tf\n",
        "from keras.models import Sequential\n",
        "from keras.layers import Conv2D\n",
        "\n",
        "# Generate dummy data\n",
        "input_feature = np.random.random((1, 100, 100, 1))\n",
        "\n",
        "# input: 100x100 image with 1 channels -> (100, 100, 1) tensor.\n",
        "# this applies 1 convolution filter of size 3x3 each.\n",
        "# attribute padding='same' applies zero-padding to the input feature map\n",
        "# attribute strides=2 applies applies stride of 2\n",
        "model = Sequential()\n",
        "model.add(Conv2D(1, (3, 3), input_shape=(100, 100, 1), padding='same', strides=2))\n",
        "\n",
        "output_feature = model.predict(input_feature)\n",
        "\n",
        "print('Input size: ({:}, {:})'.format(input_feature.shape[1], input_feature.shape[2]))\n",
        "print('Output size: ({:}, {:})'.format(output_feature.shape[1], output_feature.shape[2]))"
      ],
      "execution_count": null,
      "outputs": [
        {
          "output_type": "stream",
          "name": "stdout",
          "text": [
            "1/1 [==============================] - 0s 57ms/step\n",
            "Input size: (100, 100)\n",
            "Output size: (50, 50)\n"
          ]
        }
      ]
    },
    {
      "cell_type": "markdown",
      "metadata": {
        "id": "f-fKvgJ3H2gr"
      },
      "source": [
        "## Differences Between Kernel and Filters\n",
        "\n",
        "The examples above take as input a single-channel image and compute a feature map with also one channel. However, when dealing with RGB images or feature maps, the input is no longer a single-channel map but, instead, they can have multiple channels. In the case of an RGB image, for each 2D convolution, we will need to define 3 kernels to interact with each of the image's channel colours. This group of kernels is called a filter. Thus, a filter is a collection of kernels that produces a single output.\n",
        "\n",
        "As a regular practice when defining Deep Learning models, we increase the number of filters in each convolutional layer as we go deeper into the model. Due to the element-wise multiplication, the number of kernels on each filter must be the same that the number of channels in the input feature map. Keras already deals with the number of kernels inside each filter. Keras keeps track of the input size in each convolutional layer unlike other frameworks (Pytorch or TensorFlow). Hence, in Keras, we must only decide the number of filters (output channels) in each layer.\n",
        "\n",
        "The next figure shows how the convolution is performed when having three input channels. First, one filter uses its three independent kernels to convolve with the RGB channels of the input image:\n",
        "\n",
        "![](https://cdn-images-1.medium.com/max/1000/1*8dx6nxpUh2JqvYWPadTwMQ.gif)\n",
        "\n",
        "Next, each of the processed feature maps is added together to obtain a single channel:\n",
        "\n",
        "![](https://cdn-images-1.medium.com/max/1000/1*CYB2dyR3EhFs1xNLK8ewiA.gif)\n",
        "\n",
        "Finally, we add the bias term to obtain the feature map. There is a single bias for the full output channel map. This operation is repeated for all the filters inside the convolutional layer.\n",
        "\n",
        "Now, we show how to use a `Conv2D` layer that takes an input image with 3 channels and generates an output map with 32 channels.\n"
      ]
    },
    {
      "cell_type": "code",
      "metadata": {
        "id": "nqiEwpdROxga",
        "colab": {
          "base_uri": "https://localhost:8080/"
        },
        "outputId": "305dbc1b-ae48-428a-c541-38ad3014c987"
      },
      "source": [
        "import numpy as np\n",
        "import keras\n",
        "import tensorflow as tf\n",
        "from keras.models import Sequential\n",
        "from keras.layers import Conv2D\n",
        "\n",
        "# Generate dummy data\n",
        "input_feature = np.random.random((1, 100, 100, 3))\n",
        "\n",
        "# input: 100x100 image with 3 channels -> (100, 100, 3) tensor.\n",
        "# this applies 32 convolution filters of size 3x3 each.\n",
        "# attribute padding='same' applies zero-padding to the input feature map\n",
        "# attribute strides=2 applies applies stride of 2\n",
        "model = Sequential()\n",
        "model.add(Conv2D(32, (3, 3), input_shape=(100, 100, 3), padding='same', strides=2))\n",
        "\n",
        "output_feature = model.predict(input_feature)\n",
        "\n",
        "print('Input size: ({:}, {:}, {:})'.format(input_feature.shape[1], input_feature.shape[2], input_feature.shape[3]))\n",
        "print('Output size: ({:}, {:}, {:})'.format(output_feature.shape[1], output_feature.shape[2], output_feature.shape[3]))"
      ],
      "execution_count": null,
      "outputs": [
        {
          "output_type": "stream",
          "name": "stdout",
          "text": [
            "1/1 [==============================] - 0s 75ms/step\n",
            "Input size: (100, 100, 3)\n",
            "Output size: (50, 50, 32)\n"
          ]
        }
      ]
    },
    {
      "cell_type": "markdown",
      "metadata": {
        "id": "S50cYwkhPqka"
      },
      "source": [
        "## Activation Functions\n",
        "\n",
        "As seen in previous tutorials, after a `Dense` layer we usually can find an activation function. We introduce here how to use them after `Conv2D` layers. Those activation functions are a set of operators that maps the feature values to a new set of values, the mapping depends on the function at hand. The main reason for using activation functions is that they add non-linearities to the network, giving more expressive power to the network, which will be able to reproduce more complex functions. \n",
        "\n",
        "\n",
        "The complete list of activation functions that Keras offers can be found [here](https://keras.io/activations/). We introduce here some of them:\n",
        "\n",
        "*  **Sigmoid Function** sets the output in the range (0, 1). The sigmoid function is widely used in binary classification problems since its output can be taken as a probability value. `keras.activations.sigmoid(x)`:\n",
        "\n",
        ">![](https://i.ibb.co/Ph8dsTv/sigmoid.png)\n",
        "\n",
        "*  **Tanh Function** is a logistic function as sigmoid, but the range of the tanh function is (-1, 1). Contrary to sigmoid function, where the values close to 0 are set around 0.5, in the tanh function they will be still mapped around the 0 value. `keras.activations.tanh(x)`:\n",
        "\n",
        ">![](https://i.ibb.co/68g7LpL/tanh.png)\n",
        "\n",
        "*  **ReLU Function** is the most common activation function you can find in any current CNN as in general works better than the rest. The range of this function is in \\[0, inf). It sets all negative values to 0 and hence is computationally easy to implement. As a drawback, during training some neurons *die*, meaning that the output is 0 for all available data points and no gradient is propagated there. `keras.activations.relu(x, alpha=0.0, max_value=None, threshold=0.0)`:\n",
        "\n",
        ">![](https://i.ibb.co/Zd9H8Z4/relu.png)\n",
        "\n",
        "*  **LeakyReLU Function** is a modified version of the ReLU activation above, which attempts to solve the problem of dying neurons that ReLU has. While ReLU does not backpropagate negative values, Leaky ReLU smooths those values without setting them to 0. That allows the gradients to backpropagate through the network even for negative values. `keras.layers.LeakyReLU(alpha=0.3)`:\n",
        "\n",
        ">![](https://i.ibb.co/dmnJ6h1/leakyrelu.png)\n",
        "\n",
        "*  **Softmax Function** is another widely activation function for multi-class classification problems and usually is employed as the last activation function in the classification model. This function sets all of the output elements to the range (0, 1). However, the softmax function does not take independently the input values to map it into its probability value. Softmax Function takes an un-normalized vector, $s$, and normalizes it into a probability distribution, $p$, following the softmax expression. As the output is a probability, the output elements add up to 1. `keras.activations.softmax(x, axis=-1)`. Thus, the output value $p_i$ is computed as:\n",
        "\n",
        "> $p_{i} = \\dfrac{e^{s_i}}{\\sum_{\\substack{j}}^{N} e^{s_j}}$"
      ]
    },
    {
      "cell_type": "markdown",
      "metadata": {
        "id": "-MWo2VsYr5T2"
      },
      "source": [
        "The following example shows the feature maps before and after of the ReLU activation function. All values that are negative are set to 0 after the activation function.\n",
        "\n",
        "\n"
      ]
    },
    {
      "cell_type": "code",
      "metadata": {
        "id": "lp1HH0VOqN0N",
        "colab": {
          "base_uri": "https://localhost:8080/"
        },
        "outputId": "6debdb7a-68df-4450-d8df-c3d5b2d270a7"
      },
      "source": [
        "import numpy as np\n",
        "import keras\n",
        "import tensorflow as tf\n",
        "tf.compat.v1.logging.set_verbosity(tf.compat.v1.logging.ERROR)\n",
        "from keras.models import Sequential, Model\n",
        "from keras.layers import Conv2D, Activation\n",
        "\n",
        "# Generate dummy data\n",
        "input_feature = np.random.random((1, 3, 3, 1)) - 0.5\n",
        "\n",
        "# input: 3x3 image with 1 channel -> (3, 3, 1) tensor.\n",
        "# This applies a 1 convolution filter of size 3x3 each.\n",
        "# This applies a ReLU activation function\n",
        "model = Sequential()\n",
        "model.add(Conv2D(1, (3, 3), input_shape=(3, 3, 1), padding='same', strides=1, name='conv'))\n",
        "model.add(Activation('relu'))\n",
        "\n",
        "model_before_ReLU = Model(inputs=model.input, outputs=model.get_layer('conv').output)\n",
        "\n",
        "output_feature = model_before_ReLU.predict(input_feature)\n",
        "output_ReLu_feature = model.predict(input_feature)\n",
        "\n",
        "print('Output Network without activation function')\n",
        "print(output_feature)\n",
        "\n",
        "print('')\n",
        "print('Output Network after ReLU activation function')\n",
        "print(output_ReLu_feature)\n"
      ],
      "execution_count": null,
      "outputs": [
        {
          "output_type": "stream",
          "name": "stdout",
          "text": [
            "1/1 [==============================] - 0s 122ms/step\n",
            "1/1 [==============================] - 0s 64ms/step\n",
            "Output Network without activation function\n",
            "[[[[-0.1285749 ]\n",
            "   [ 0.13717073]\n",
            "   [-0.46456495]]\n",
            "\n",
            "  [[-0.3495824 ]\n",
            "   [-0.30257282]\n",
            "   [-0.23059608]]\n",
            "\n",
            "  [[ 0.29468232]\n",
            "   [ 0.24366759]\n",
            "   [-0.04371584]]]]\n",
            "\n",
            "Output Network after ReLU activation function\n",
            "[[[[0.        ]\n",
            "   [0.13717073]\n",
            "   [0.        ]]\n",
            "\n",
            "  [[0.        ]\n",
            "   [0.        ]\n",
            "   [0.        ]]\n",
            "\n",
            "  [[0.29468232]\n",
            "   [0.24366759]\n",
            "   [0.        ]]]]\n"
          ]
        }
      ]
    },
    {
      "cell_type": "markdown",
      "metadata": {
        "id": "Ys6ZB1DOTLH6"
      },
      "source": [
        "## Pooling Layer\n",
        "\n",
        "It is a common practice to insert a pooling layer between convolutional layers in CNNs. In a standard CNN architecture, we set the feature sizes to become smaller progressively to reduce the computation in the networks, and to merge the information from different spatial locations. To reduce the feature map sizes, we can either use bigger stride size in the convolutional layers or we can use pooling layers. Pooling layers perform a spatial sliding window and apply an operation to reduce the spatial size. Those operations vary depending on the architecture, being the max, mean and min pooling the most typical ones. Here, we will explain the max pooling, although all the others work similarly. Max pooling keeps only the max value in a neighbourhood, where the neighbourhood is defined by the size of the kernel. Let's visualise it, the next example shows the result of a Max Pooling layer with a 2x2 kernel and a stride of 2.\n",
        "\n",
        "![](https://i.ibb.co/Xp454S4/MaxPool.png)\n",
        "\n",
        "As in convolutional layers, the final size is conditioned to the stride size of the pooling layer. However, contrary to convolutional layers, pooling layers operate independently on each of the input channels, without modifying the depth of the feature maps. To add max pooling to our model we need to import `MaxPooling2d` from `keras.layers` and define the stride and pooling size."
      ]
    },
    {
      "cell_type": "code",
      "metadata": {
        "id": "HzoTGOwDmQm4",
        "colab": {
          "base_uri": "https://localhost:8080/"
        },
        "outputId": "edbac47a-a773-4412-e2ba-dd8130fff305"
      },
      "source": [
        "import numpy as np\n",
        "import keras\n",
        "import tensorflow as tf\n",
        "from keras.models import Sequential\n",
        "from keras.layers import Conv2D, Activation, MaxPooling2D\n",
        "\n",
        "# Generate dummy data\n",
        "input_feature = np.random.random((1, 100, 100, 3))\n",
        "\n",
        "# input: 100x100 image with 3 channels -> (100, 100, 3) tensor.\n",
        "# this applies 32 convolution filters of size 3x3 each.\n",
        "# attribute padding='same' applies zero-padding to the input feature map\n",
        "# attribute strides=1 applies applies stride of 1\n",
        "model = Sequential()\n",
        "model.add(Conv2D(32, (3, 3), input_shape=(100, 100, 3), padding='same', strides=1))\n",
        "model.add(Activation('relu'))\n",
        "model.add(MaxPooling2D(pool_size=(2, 2), strides=(2, 2), padding='same'))\n",
        "\n",
        "output_feature = model.predict(input_feature)\n",
        "\n",
        "print('Input size: ({:}, {:}, {:})'.format(input_feature.shape[1], input_feature.shape[2], input_feature.shape[3]))\n",
        "print('Output size: ({:}, {:}, {:})'.format(output_feature.shape[1], output_feature.shape[2], output_feature.shape[3]))"
      ],
      "execution_count": null,
      "outputs": [
        {
          "output_type": "stream",
          "name": "stdout",
          "text": [
            "1/1 [==============================] - 0s 93ms/step\n",
            "Input size: (100, 100, 3)\n",
            "Output size: (50, 50, 32)\n"
          ]
        }
      ]
    },
    {
      "cell_type": "markdown",
      "metadata": {
        "id": "LKU4-GbZHw0R"
      },
      "source": [
        "# Example: Classification on MNIST\n",
        "\n",
        "As opposed to the *Introduction to Keras* tutorial, in this section, we show how to perform image classification when the input data is a 2D image instead of a flat 1D vector. \n",
        "\n",
        "As discussed above, Convolutional Neural Networks aim to extract and exploit the local relationships on 2D maps, hence, CNNs are much more convenient for images than Multi-layer Perceptron models. \n",
        "\n",
        "First of all, we load the MNIST dataset from Keras' framework. The definition of the data is almost identical than in the Keras tutorial, although this time we are not reshaping the input images into a 1D vector."
      ]
    },
    {
      "cell_type": "code",
      "metadata": {
        "id": "3t0Wq9ArL4EZ",
        "colab": {
          "base_uri": "https://localhost:8080/"
        },
        "outputId": "1a9300e3-d7ed-4214-84de-5c60f5814351"
      },
      "source": [
        "import tensorflow as tf\n",
        "tf.compat.v1.logging.set_verbosity(tf.compat.v1.logging.ERROR)\n",
        "from keras.models import Sequential\n",
        "from keras.layers import Dense, Dropout, Activation, BatchNormalization\n",
        "from keras.utils import np_utils\n",
        "from keras.datasets import mnist\n",
        "from keras.optimizers import RMSprop\n",
        "from keras.layers import Conv2D, MaxPooling2D, Flatten\n",
        "import numpy as np\n",
        "\n",
        "# the data, shuffled and split between train and test sets\n",
        "# Here we are using the official test set as our validation set, in further\n",
        "# tutorials, test and validation splits will be explained properly.\n",
        "# Hence, even though the variables are `x_test` and `y_test`, they represent our validation set\n",
        "(x_train, y_train), (x_test, y_test) = mnist.load_data()\n",
        "\n",
        "shape = x_train.shape\n",
        "\n",
        "# Normalize and reshape the input images\n",
        "x_train = np.expand_dims(x_train.astype('float32'), -1)\n",
        "x_test = np.expand_dims(x_test.astype('float32'), -1)\n",
        "\n",
        "x_train /= 255\n",
        "x_test /= 255\n",
        "\n",
        "y_train_class = np_utils.to_categorical(y_train, 10)\n",
        "y_test_class = np_utils.to_categorical(y_test, 10)\n",
        "\n",
        "print('Image shape: {0}'.format(x_train.shape[1:]))\n",
        "print('Total number of training samples: {0}'.format(x_train.shape[0]))\n",
        "print('Total number of validation samples: {0}'.format(x_test.shape[0]))"
      ],
      "execution_count": null,
      "outputs": [
        {
          "output_type": "stream",
          "name": "stdout",
          "text": [
            "Downloading data from https://storage.googleapis.com/tensorflow/tf-keras-datasets/mnist.npz\n",
            "11490434/11490434 [==============================] - 2s 0us/step\n",
            "Image shape: (28, 28, 1)\n",
            "Total number of training samples: 60000\n",
            "Total number of validation samples: 10000\n"
          ]
        }
      ]
    },
    {
      "cell_type": "markdown",
      "metadata": {
        "id": "4Wp29GszMO-j"
      },
      "source": [
        "As illustrated in the cell, this time the input image before the model is 28x28x1. \n",
        "\n",
        "Now we can define a model composed of convolutional layers, activation functions, and maxpool operators:"
      ]
    },
    {
      "cell_type": "code",
      "metadata": {
        "id": "B78NUAqwMeFR"
      },
      "source": [
        "model = Sequential()\n",
        "model.add(Conv2D(16, (3,3), padding='same', input_shape=x_train.shape[1:]))\n",
        "model.add(Activation('relu'))\n",
        "model.add(MaxPooling2D(pool_size=(2,2)))\n",
        "model.add(Conv2D(16, (3,3), padding='same'))\n",
        "model.add(Activation('relu'))\n",
        "model.add(MaxPooling2D(pool_size=(2,2)))"
      ],
      "execution_count": null,
      "outputs": []
    },
    {
      "cell_type": "markdown",
      "metadata": {
        "id": "BX_KAFlBMnVZ"
      },
      "source": [
        "As explained in the previous tutorial, in a classification problem, the output of the model is a probability vector. Each dimension of the vector indicates how likely is that the input image belongs to a specific class. \n",
        "\n",
        "Up to now, the resulting feature map of the model is a map with the shape *Batch x Weight' x Height' x Channel*, and it needs to be mapped into a vector with shape *Batch x Num Classes*. A common technique to process this mapping is to add a Flatten layer that will reshape the feature map to *Batch x (Weight' * Height' * Channel)*. Following the Flatten layer, we add a dense layer which maps this new feature map to the desired output size. "
      ]
    },
    {
      "cell_type": "code",
      "metadata": {
        "id": "3CAc1r2vOJQv"
      },
      "source": [
        "model.add(Flatten())\n",
        "model.add(Dense(10))\n",
        "model.add(Activation('softmax'))"
      ],
      "execution_count": null,
      "outputs": []
    },
    {
      "cell_type": "markdown",
      "metadata": {
        "id": "aHInEJ-aON5v"
      },
      "source": [
        "Let's visualize the output shape in each layer."
      ]
    },
    {
      "cell_type": "code",
      "metadata": {
        "id": "UD4NZtIxOTbY",
        "colab": {
          "base_uri": "https://localhost:8080/"
        },
        "outputId": "dcb9712a-349f-4789-f26a-4e75b50d8662"
      },
      "source": [
        "model.summary()"
      ],
      "execution_count": null,
      "outputs": [
        {
          "output_type": "stream",
          "name": "stdout",
          "text": [
            "Model: \"sequential_6\"\n",
            "_________________________________________________________________\n",
            " Layer (type)                Output Shape              Param #   \n",
            "=================================================================\n",
            " conv2d_5 (Conv2D)           (None, 28, 28, 16)        160       \n",
            "                                                                 \n",
            " activation_2 (Activation)   (None, 28, 28, 16)        0         \n",
            "                                                                 \n",
            " max_pooling2d_1 (MaxPooling  (None, 14, 14, 16)       0         \n",
            " 2D)                                                             \n",
            "                                                                 \n",
            " conv2d_6 (Conv2D)           (None, 14, 14, 16)        2320      \n",
            "                                                                 \n",
            " activation_3 (Activation)   (None, 14, 14, 16)        0         \n",
            "                                                                 \n",
            " max_pooling2d_2 (MaxPooling  (None, 7, 7, 16)         0         \n",
            " 2D)                                                             \n",
            "                                                                 \n",
            " flatten (Flatten)           (None, 784)               0         \n",
            "                                                                 \n",
            " dense (Dense)               (None, 10)                7850      \n",
            "                                                                 \n",
            " activation_4 (Activation)   (None, 10)                0         \n",
            "                                                                 \n",
            "=================================================================\n",
            "Total params: 10,330\n",
            "Trainable params: 10,330\n",
            "Non-trainable params: 0\n",
            "_________________________________________________________________\n"
          ]
        }
      ]
    },
    {
      "cell_type": "markdown",
      "metadata": {
        "id": "_F66ds58OTBu"
      },
      "source": [
        "Finally, we can train our CNN and check its performance on MNIST. "
      ]
    },
    {
      "cell_type": "code",
      "metadata": {
        "id": "BmeolsG_Pi8A",
        "colab": {
          "base_uri": "https://localhost:8080/"
        },
        "outputId": "290f35aa-c7f2-4bdf-9dbf-d137c2d681ee"
      },
      "source": [
        "# initiate RMSprop optimizer\n",
        "opt = RMSprop(lr=0.0001, decay=1e-6)\n",
        "\n",
        "model.compile(loss='categorical_crossentropy',\n",
        "              optimizer=opt,\n",
        "              metrics=['accuracy'])\n",
        "\n",
        "model.fit(x_train, y_train_class, batch_size=32, epochs=10,  verbose=0)\n",
        "\n",
        "score = model.evaluate(x_test, y_test_class, verbose=0)\n",
        "print('Validation loss:', score[0])\n",
        "print('Validation accuracy:', score[1])"
      ],
      "execution_count": null,
      "outputs": [
        {
          "output_type": "stream",
          "name": "stderr",
          "text": [
            "/usr/local/lib/python3.8/dist-packages/keras/optimizers/optimizer_v2/rmsprop.py:135: UserWarning: The `lr` argument is deprecated, use `learning_rate` instead.\n",
            "  super(RMSprop, self).__init__(name, **kwargs)\n"
          ]
        },
        {
          "output_type": "stream",
          "name": "stdout",
          "text": [
            "Validation loss: 0.08020985871553421\n",
            "Validation accuracy: 0.9751999974250793\n"
          ]
        }
      ]
    },
    {
      "cell_type": "markdown",
      "metadata": {
        "id": "Q0ZorPBtpLlZ"
      },
      "source": [
        "# Coursework\n"
      ]
    },
    {
      "cell_type": "markdown",
      "metadata": {
        "id": "2gkM3dPZbNcX"
      },
      "source": [
        "## Task 1: Classification\n",
        "\n",
        "At this point, we know what is a CNN, how they work, and the components needed to design them. In this first task, we want you to create a CNN that is able to outperform the Multi-layer Perceptron model from Tutorial 1. For the first part of the coursework, we train on CIFAR10, a  classical dataset for image classification. Note that in these tutorials, we mainly use the official test sets of several standard datasets as our validation data. The reason we use the given test sets as validation data for the tutorials is that is an easy way to make sure that we all work with the same split and report results using the same data. However, in a proper machine learning setup, your validation set should be separate from the test set, so you can tune the model/parameters on the validation set and then check the final performance in the test set. Thus, even though the variables are `x_test` and `y_test`, they represent our validation set.\n",
        "\n",
        "Let's first load the dataset and visualise some examples:"
      ]
    },
    {
      "cell_type": "code",
      "metadata": {
        "id": "zKWvv0VwZPH3",
        "colab": {
          "base_uri": "https://localhost:8080/",
          "height": 895
        },
        "outputId": "93d94fe8-823b-4c7d-966b-882a3fc5df98"
      },
      "source": [
        "import matplotlib.pyplot as plt\n",
        "import numpy as np\n",
        "import tensorflow as tf\n",
        "tf.compat.v1.logging.set_verbosity(tf.compat.v1.logging.ERROR)\n",
        "from keras.models import Sequential\n",
        "from keras.layers import Dense, Dropout, Activation\n",
        "from keras.utils import np_utils\n",
        "from keras.datasets import cifar10\n",
        "from keras.optimizers import RMSprop\n",
        "\n",
        "# the data, shuffled and split between train and test sets\n",
        "# Here we are using the official test set as our validation set, in further\n",
        "# tutorials, test and validation splits will be explained properly.\n",
        "# Hence, even though the variables are `x_test` and `y_test`, they represent our validation set\n",
        "(X_train, y_train), (X_test, y_test) = cifar10.load_data()\n",
        "\n",
        "print('Image shape: {0}'.format(X_train.shape[1:]))\n",
        "print('Total number of training samples: {0}'.format(X_train.shape[0]))\n",
        "print('Total number of validation samples: {0}'.format(X_test.shape[0]))\n",
        "\n",
        "# Let's visualize some examples\n",
        "N=5\n",
        "fig1 = plt.figure(figsize=(10,10))\n",
        "fig1 = plt.imshow(X_train[0], cmap='gray')\n",
        "start_val = 0 # pick an element for the code to plot the following N**2 values\n",
        "fig, axes = plt.subplots(N,N)\n",
        "items = list(range(0, 10))\n",
        "for row in range(N):\n",
        "  for col in range(N):\n",
        "    idx = start_val+row+N*col\n",
        "    axes[row,col].imshow(X_train[idx], cmap='gray')\n",
        "    fig.subplots_adjust(hspace=0.5)\n",
        "    y_target = int(y_train[idx])\n",
        "    target = str(items[y_target])\n",
        "    axes[row,col].set_title(target)\n",
        "    axes[row,col].set_xticks([])\n",
        "    axes[row,col].set_yticks([])"
      ],
      "execution_count": 100,
      "outputs": [
        {
          "output_type": "stream",
          "name": "stdout",
          "text": [
            "Image shape: (32, 32, 3)\n",
            "Total number of training samples: 50000\n",
            "Total number of validation samples: 10000\n"
          ]
        },
        {
          "output_type": "display_data",
          "data": {
            "text/plain": [
              "<Figure size 720x720 with 1 Axes>"
            ],
            "image/png": "[encoded data removed]"
          },
          "metadata": {
            "needs_background": "light"
          }
        },
        {
          "output_type": "display_data",
          "data": {
            "text/plain": [
              "<Figure size 432x288 with 25 Axes>"
            ],
            "image/png": "[encoded data removed]"
          },
          "metadata": {}
        }
      ]
    },
    {
      "cell_type": "markdown",
      "metadata": {
        "id": "-p9uVP3pccOW"
      },
      "source": [
        "CIFAR10 contains 50,000 32x32 color training images, labeled over 10 categories and 10,000 test images. As mentioned, we use those test images as our validation set in this tutorial. We need to preprocess the images for the 1D neural network defined in the previous tutorial:"
      ]
    },
    {
      "cell_type": "code",
      "metadata": {
        "id": "bFurVCqpclnm",
        "colab": {
          "base_uri": "https://localhost:8080/"
        },
        "outputId": "43ac96ba-6bd0-426f-d0e2-015c97063a95"
      },
      "source": [
        "# Preprocess dataset for a 1D neural network\n",
        "X_train = X_train.astype('float32')\n",
        "X_test = X_test.astype('float32')\n",
        "\n",
        "# Normalize the image\n",
        "X_train /= 255\n",
        "X_test /= 255\n",
        "\n",
        "X_train_flatten = X_train.reshape(X_train.shape[0], X_train.shape[1] * X_train.shape[2]*3)\n",
        "X_test_flatten = X_test.reshape(X_test.shape[0], X_test.shape[1] * X_test.shape[2]*3)\n",
        "\n",
        "print('New X_train shape: {0}'.format(X_train_flatten.shape))\n",
        "\n",
        "Y_train_class = np_utils.to_categorical(y_train, 10)\n",
        "Y_test_class = np_utils.to_categorical(y_test, 10)\n",
        "\n",
        "print('New Y_train shape: {0}'.format(Y_train_class.shape))\n"
      ],
      "execution_count": null,
      "outputs": [
        {
          "output_type": "stream",
          "name": "stdout",
          "text": [
            "New X_train shape: (50000, 3072)\n",
            "New Y_train shape: (50000, 10)\n"
          ]
        }
      ]
    },
    {
      "cell_type": "markdown",
      "metadata": {
        "id": "mxFx2s3Fc6wM"
      },
      "source": [
        "Now, we are ready to define the Multi-layer Perceptron model and train it."
      ]
    },
    {
      "cell_type": "code",
      "metadata": {
        "id": "KEZW-1pxbKlC",
        "colab": {
          "base_uri": "https://localhost:8080/"
        },
        "outputId": "35d00624-572b-4271-de98-2d7544279db3"
      },
      "source": [
        "model = Sequential()\n",
        "\n",
        "model.add(Dense(32, activation='relu', input_shape=(X_train_flatten.shape[1:])))\n",
        "model.add(Dense(64, activation='relu'))\n",
        "model.add(Dense(128, activation='relu'))\n",
        "model.add(Dense(256, activation='relu'))\n",
        "model.add(Dense(512, activation='relu'))\n",
        "model.add(Dense(10, activation='softmax'))\n",
        "\n",
        "# initiate RMSprop optimizer\n",
        "opt = RMSprop(lr=0.0001, decay=1e-6)\n",
        "\n",
        "# Let's train the model using RMSprop\n",
        "model.compile(loss='categorical_crossentropy',\n",
        "              optimizer=opt,\n",
        "              metrics=['accuracy'])\n",
        "\n",
        "model.fit(X_train_flatten, Y_train_class, batch_size=32, epochs=20)\n",
        "\n",
        "score = model.evaluate(X_test_flatten, Y_test_class, verbose=0)\n",
        "print('Validation loss:', score[0])\n",
        "print('Validation accuracy:', score[1])"
      ],
      "execution_count": null,
      "outputs": [
        {
          "output_type": "stream",
          "name": "stdout",
          "text": [
            "Epoch 1/20\n",
            "1563/1563 [==============================] - 7s 4ms/step - loss: 1.9454 - accuracy: 0.2879\n",
            "Epoch 2/20\n",
            "1563/1563 [==============================] - 6s 4ms/step - loss: 1.7721 - accuracy: 0.3567\n",
            "Epoch 3/20\n",
            "1563/1563 [==============================] - 6s 4ms/step - loss: 1.6954 - accuracy: 0.3854\n",
            "Epoch 4/20\n",
            "1563/1563 [==============================] - 7s 4ms/step - loss: 1.6420 - accuracy: 0.4103\n",
            "Epoch 5/20\n",
            "1563/1563 [==============================] - 6s 4ms/step - loss: 1.6014 - accuracy: 0.4253\n",
            "Epoch 6/20\n",
            "1563/1563 [==============================] - 6s 4ms/step - loss: 1.5657 - accuracy: 0.4397\n",
            "Epoch 7/20\n",
            "1563/1563 [==============================] - 6s 4ms/step - loss: 1.5389 - accuracy: 0.4496\n",
            "Epoch 8/20\n",
            "1563/1563 [==============================] - 6s 4ms/step - loss: 1.5119 - accuracy: 0.4586\n",
            "Epoch 9/20\n",
            "1563/1563 [==============================] - 6s 4ms/step - loss: 1.4910 - accuracy: 0.4668\n",
            "Epoch 10/20\n",
            "1563/1563 [==============================] - 6s 4ms/step - loss: 1.4729 - accuracy: 0.4736\n",
            "Epoch 11/20\n",
            "1563/1563 [==============================] - 6s 4ms/step - loss: 1.4556 - accuracy: 0.4796\n",
            "Epoch 12/20\n",
            "1563/1563 [==============================] - 6s 4ms/step - loss: 1.4400 - accuracy: 0.4847\n",
            "Epoch 13/20\n",
            "1563/1563 [==============================] - 7s 4ms/step - loss: 1.4243 - accuracy: 0.4892\n",
            "Epoch 14/20\n",
            "1563/1563 [==============================] - 6s 4ms/step - loss: 1.4102 - accuracy: 0.4975\n",
            "Epoch 15/20\n",
            "1563/1563 [==============================] - 6s 4ms/step - loss: 1.3955 - accuracy: 0.5024\n",
            "Epoch 16/20\n",
            "1563/1563 [==============================] - 6s 4ms/step - loss: 1.3854 - accuracy: 0.5069\n",
            "Epoch 17/20\n",
            "1563/1563 [==============================] - 6s 4ms/step - loss: 1.3702 - accuracy: 0.5127\n",
            "Epoch 18/20\n",
            "1563/1563 [==============================] - 6s 4ms/step - loss: 1.3586 - accuracy: 0.5142\n",
            "Epoch 19/20\n",
            "1563/1563 [==============================] - 6s 4ms/step - loss: 1.3467 - accuracy: 0.5198\n",
            "Epoch 20/20\n",
            "1563/1563 [==============================] - 6s 4ms/step - loss: 1.3356 - accuracy: 0.5238\n",
            "Validation loss: 1.4425725936889648\n",
            "Validation accuracy: 0.4925999939441681\n"
          ]
        }
      ]
    },
    {
      "cell_type": "markdown",
      "metadata": {
        "id": "CEuYNmyHlVJd"
      },
      "source": [
        "### Problem Definition\n",
        "\n",
        "In this exercise, you are asked to test several CNN architectures in the code provided below. Do not modify the optimizer, loss used or parameters related to the training such as the learning rate, they will be investigated in future tutorials. You must focus on the architecture itself: number of convolutional layers, number of filters in every layer, activation functions, pooling operators, among others. Batch Normalization and Dropout layers, which are quite used in CNN architectures, will be also investigated in a future tutorial so you do not have to discuss them.\n",
        "\n",
        "\n",
        "**Report**:\n",
        "*   Present a bar figure with the training and validation accuracies for different design choices. Discuss only the parameters that have a significant influence on the network's performance. Explain any discrepancy between training and validation accuracies.\n",
        "*   Present a sketch that introduces your best architecture. See some examples on how to display networks in [cv-tricks' blog](https://cv-tricks.com/cnn/understand-resnet-alexnet-vgg-inception/).\n"
      ]
    },
    {
      "cell_type": "markdown",
      "source": [
        "**Experiment 1 : Number of layers**\n",
        "1.   16\n",
        "2.   16, 32\n",
        "3.   16, 32, 64\n",
        "4.   64, 128\n",
        "5.   64, 128, 256\n",
        "6.   64\n",
        "7.   128, 256\n",
        "8.   128, 256, 512\n"
      ],
      "metadata": {
        "id": "73vPOEi2iTsP"
      }
    },
    {
      "cell_type": "code",
      "source": [
        "import tensorflow as tf\n",
        "tf.compat.v1.logging.set_verbosity(tf.compat.v1.logging.ERROR)\n",
        "from keras.models import Sequential\n",
        "from keras.layers import Dense, Activation\n",
        "from keras.utils import np_utils\n",
        "from keras.datasets import cifar10\n",
        "from keras.optimizers import RMSprop\n",
        "from keras.layers import Conv2D, MaxPooling2D, Flatten, AveragePooling2D\n",
        "from google.colab import drive\n",
        "from keras.models import load_model\n",
        "drive.mount('/content/drive')\n",
        "\n",
        "(x_train, y_train), (x_test, y_test) = cifar10.load_data()\n",
        "\n",
        "print('Image shape: {0}'.format(x_train.shape[1:]))\n",
        "print('Total number of training samples: {0}'.format(x_train.shape[0]))\n",
        "print('Total number of validation samples: {0}'.format(x_test.shape[0]))\n",
        "\n",
        "x_train = x_train.astype('float32')\n",
        "x_test = x_test.astype('float32')\n",
        "x_train /= 255\n",
        "x_test /= 255\n",
        "y_train_class = np_utils.to_categorical(y_train, 10)\n",
        "y_test_class = np_utils.to_categorical(y_test, 10)\n",
        "\n",
        "model = load_model('/content/drive/MyDrive/dl-cw/layer_4')\n",
        "\n",
        "opt = RMSprop(lr=0.0001, decay=1e-6)\n",
        "\n",
        "model.summary()\n",
        "model.compile(loss='categorical_crossentropy', optimizer=opt, metrics=['accuracy'])\n",
        "model.fit(x_train, y_train_class, batch_size=32, epochs=20, validation_data=(x_test, y_test_class))\n",
        "\n",
        "score = model.evaluate(x_test, y_test_class, verbose=0)\n",
        "print('Validation loss:', score[0])\n",
        "print('Validation accuracy:', score[1])\n",
        "\n",
        "model.save('/content/drive/MyDrive/dl-cw/layer_4')"
      ],
      "metadata": {
        "colab": {
          "base_uri": "https://localhost:8080/"
        },
        "id": "Sm8UHbrWkCEP",
        "outputId": "5167f624-ae8c-4188-9e22-232e5c0170a4"
      },
      "execution_count": 60,
      "outputs": [
        {
          "output_type": "stream",
          "name": "stdout",
          "text": [
            "Drive already mounted at /content/drive; to attempt to forcibly remount, call drive.mount(\"/content/drive\", force_remount=True).\n",
            "Image shape: (32, 32, 3)\n",
            "Total number of training samples: 50000\n",
            "Total number of validation samples: 10000\n",
            "Model: \"sequential_12\"\n",
            "_________________________________________________________________\n",
            " Layer (type)                Output Shape              Param #   \n",
            "=================================================================\n",
            " conv2d_32 (Conv2D)          (None, 32, 32, 64)        1792      \n",
            "                                                                 \n",
            " activation_32 (Activation)  (None, 32, 32, 64)        0         \n",
            "                                                                 \n",
            " max_pooling2d_32 (MaxPoolin  (None, 16, 16, 64)       0         \n",
            " g2D)                                                            \n",
            "                                                                 \n",
            " average_pooling2d_12 (Avera  (None, 8, 8, 64)         0         \n",
            " gePooling2D)                                                    \n",
            "                                                                 \n",
            " flatten_12 (Flatten)        (None, 4096)              0         \n",
            "                                                                 \n",
            " dense_30 (Dense)            (None, 50)                204850    \n",
            "                                                                 \n",
            " dense_31 (Dense)            (None, 10)                510       \n",
            "                                                                 \n",
            "=================================================================\n",
            "Total params: 207,152\n",
            "Trainable params: 207,152\n",
            "Non-trainable params: 0\n",
            "_________________________________________________________________\n"
          ]
        },
        {
          "output_type": "stream",
          "name": "stderr",
          "text": [
            "/usr/local/lib/python3.8/dist-packages/keras/optimizers/optimizer_v2/rmsprop.py:135: UserWarning: The `lr` argument is deprecated, use `learning_rate` instead.\n",
            "  super(RMSprop, self).__init__(name, **kwargs)\n"
          ]
        },
        {
          "output_type": "stream",
          "name": "stdout",
          "text": [
            "Epoch 1/20\n",
            "1563/1563 [==============================] - 9s 5ms/step - loss: 1.0842 - accuracy: 0.6252 - val_loss: 1.1173 - val_accuracy: 0.6054\n",
            "Epoch 2/20\n",
            "1563/1563 [==============================] - 9s 6ms/step - loss: 1.0733 - accuracy: 0.6288 - val_loss: 1.1262 - val_accuracy: 0.6081\n",
            "Epoch 3/20\n",
            "1563/1563 [==============================] - 9s 6ms/step - loss: 1.0638 - accuracy: 0.6334 - val_loss: 1.0846 - val_accuracy: 0.6234\n",
            "Epoch 4/20\n",
            "1563/1563 [==============================] - 7s 5ms/step - loss: 1.0529 - accuracy: 0.6361 - val_loss: 1.0859 - val_accuracy: 0.6269\n",
            "Epoch 5/20\n",
            "1563/1563 [==============================] - 8s 5ms/step - loss: 1.0431 - accuracy: 0.6395 - val_loss: 1.0863 - val_accuracy: 0.6225\n",
            "Epoch 6/20\n",
            "1563/1563 [==============================] - 10s 6ms/step - loss: 1.0331 - accuracy: 0.6418 - val_loss: 1.0709 - val_accuracy: 0.6333\n",
            "Epoch 7/20\n",
            "1563/1563 [==============================] - 9s 6ms/step - loss: 1.0245 - accuracy: 0.6453 - val_loss: 1.0832 - val_accuracy: 0.6212\n",
            "Epoch 8/20\n",
            "1563/1563 [==============================] - 7s 4ms/step - loss: 1.0147 - accuracy: 0.6503 - val_loss: 1.0589 - val_accuracy: 0.6336\n",
            "Epoch 9/20\n",
            "1563/1563 [==============================] - 8s 5ms/step - loss: 1.0063 - accuracy: 0.6527 - val_loss: 1.0448 - val_accuracy: 0.6376\n",
            "Epoch 10/20\n",
            "1563/1563 [==============================] - 7s 4ms/step - loss: 0.9969 - accuracy: 0.6566 - val_loss: 1.0471 - val_accuracy: 0.6335\n",
            "Epoch 11/20\n",
            "1563/1563 [==============================] - 7s 5ms/step - loss: 0.9891 - accuracy: 0.6593 - val_loss: 1.0518 - val_accuracy: 0.6343\n",
            "Epoch 12/20\n",
            "1563/1563 [==============================] - 7s 4ms/step - loss: 0.9810 - accuracy: 0.6614 - val_loss: 1.0320 - val_accuracy: 0.6396\n",
            "Epoch 13/20\n",
            "1563/1563 [==============================] - 7s 5ms/step - loss: 0.9729 - accuracy: 0.6633 - val_loss: 1.0176 - val_accuracy: 0.6493\n",
            "Epoch 14/20\n",
            "1563/1563 [==============================] - 7s 4ms/step - loss: 0.9650 - accuracy: 0.6662 - val_loss: 1.0215 - val_accuracy: 0.6475\n",
            "Epoch 15/20\n",
            "1563/1563 [==============================] - 7s 5ms/step - loss: 0.9587 - accuracy: 0.6694 - val_loss: 1.0271 - val_accuracy: 0.6423\n",
            "Epoch 16/20\n",
            "1563/1563 [==============================] - 9s 5ms/step - loss: 0.9516 - accuracy: 0.6721 - val_loss: 1.0028 - val_accuracy: 0.6515\n",
            "Epoch 17/20\n",
            "1563/1563 [==============================] - 11s 7ms/step - loss: 0.9448 - accuracy: 0.6741 - val_loss: 1.0026 - val_accuracy: 0.6501\n",
            "Epoch 18/20\n",
            "1563/1563 [==============================] - 7s 4ms/step - loss: 0.9373 - accuracy: 0.6775 - val_loss: 0.9965 - val_accuracy: 0.6576\n",
            "Epoch 19/20\n",
            "1563/1563 [==============================] - 9s 6ms/step - loss: 0.9322 - accuracy: 0.6782 - val_loss: 0.9910 - val_accuracy: 0.6572\n",
            "Epoch 20/20\n",
            "1563/1563 [==============================] - 8s 5ms/step - loss: 0.9259 - accuracy: 0.6812 - val_loss: 1.0038 - val_accuracy: 0.6538\n",
            "Validation loss: 1.003771185874939\n",
            "Validation accuracy: 0.6538000106811523\n"
          ]
        },
        {
          "output_type": "stream",
          "name": "stderr",
          "text": [
            "WARNING:absl:Found untraced functions such as _jit_compiled_convolution_op while saving (showing 1 of 1). These functions will not be directly callable after loading.\n"
          ]
        }
      ]
    },
    {
      "cell_type": "code",
      "source": [
        "import tensorflow as tf\n",
        "tf.compat.v1.logging.set_verbosity(tf.compat.v1.logging.ERROR)\n",
        "from keras.models import Sequential\n",
        "from keras.layers import Dense, Activation\n",
        "from keras.utils import np_utils\n",
        "from keras.datasets import cifar10\n",
        "from keras.optimizers import RMSprop\n",
        "from keras.layers import Conv2D, MaxPooling2D, Flatten, AveragePooling2D\n",
        "from google.colab import drive\n",
        "from keras.models import load_model\n",
        "drive.mount('/content/drive')\n",
        "\n",
        "(x_train, y_train), (x_test, y_test) = cifar10.load_data()\n",
        "\n",
        "print('Image shape: {0}'.format(x_train.shape[1:]))\n",
        "print('Total number of training samples: {0}'.format(x_train.shape[0]))\n",
        "print('Total number of validation samples: {0}'.format(x_test.shape[0]))\n",
        "\n",
        "x_train = x_train.astype('float32')\n",
        "x_test = x_test.astype('float32')\n",
        "x_train /= 255\n",
        "x_test /= 255\n",
        "y_train_class = np_utils.to_categorical(y_train, 10)\n",
        "y_test_class = np_utils.to_categorical(y_test, 10)\n",
        "\n",
        "model = load_model('/content/drive/MyDrive/dl-cw/layer_5')\n",
        "\n",
        "opt = RMSprop(lr=0.0001, decay=1e-6)\n",
        "\n",
        "model.summary()\n",
        "model.compile(loss='categorical_crossentropy', optimizer=opt, metrics=['accuracy'])\n",
        "model.fit(x_train, y_train_class, batch_size=32, epochs=20, validation_data=(x_test, y_test_class))\n",
        "\n",
        "score = model.evaluate(x_test, y_test_class, verbose=0)\n",
        "print('Validation loss:', score[0])\n",
        "print('Validation accuracy:', score[1])\n",
        "\n",
        "model.save('/content/drive/MyDrive/dl-cw/layer_5')"
      ],
      "metadata": {
        "id": "CFydW4lj9nD6",
        "outputId": "7e84f9ab-2924-4101-cba8-8bbce538874a",
        "colab": {
          "base_uri": "https://localhost:8080/"
        }
      },
      "execution_count": 61,
      "outputs": [
        {
          "output_type": "stream",
          "name": "stdout",
          "text": [
            "Drive already mounted at /content/drive; to attempt to forcibly remount, call drive.mount(\"/content/drive\", force_remount=True).\n",
            "Image shape: (32, 32, 3)\n",
            "Total number of training samples: 50000\n",
            "Total number of validation samples: 10000\n",
            "Model: \"sequential_10\"\n",
            "_________________________________________________________________\n",
            " Layer (type)                Output Shape              Param #   \n",
            "=================================================================\n",
            " conv2d_27 (Conv2D)          (None, 32, 32, 64)        1792      \n",
            "                                                                 \n",
            " activation_27 (Activation)  (None, 32, 32, 64)        0         \n",
            "                                                                 \n",
            " max_pooling2d_27 (MaxPoolin  (None, 16, 16, 64)       0         \n",
            " g2D)                                                            \n",
            "                                                                 \n",
            " conv2d_28 (Conv2D)          (None, 16, 16, 128)       73856     \n",
            "                                                                 \n",
            " activation_28 (Activation)  (None, 16, 16, 128)       0         \n",
            "                                                                 \n",
            " max_pooling2d_28 (MaxPoolin  (None, 8, 8, 128)        0         \n",
            " g2D)                                                            \n",
            "                                                                 \n",
            " average_pooling2d_10 (Avera  (None, 4, 4, 128)        0         \n",
            " gePooling2D)                                                    \n",
            "                                                                 \n",
            " flatten_10 (Flatten)        (None, 2048)              0         \n",
            "                                                                 \n",
            " dense_26 (Dense)            (None, 50)                102450    \n",
            "                                                                 \n",
            " dense_27 (Dense)            (None, 10)                510       \n",
            "                                                                 \n",
            "=================================================================\n",
            "Total params: 178,608\n",
            "Trainable params: 178,608\n",
            "Non-trainable params: 0\n",
            "_________________________________________________________________\n"
          ]
        },
        {
          "output_type": "stream",
          "name": "stderr",
          "text": [
            "/usr/local/lib/python3.8/dist-packages/keras/optimizers/optimizer_v2/rmsprop.py:135: UserWarning: The `lr` argument is deprecated, use `learning_rate` instead.\n",
            "  super(RMSprop, self).__init__(name, **kwargs)\n"
          ]
        },
        {
          "output_type": "stream",
          "name": "stdout",
          "text": [
            "Epoch 1/20\n",
            "1563/1563 [==============================] - 11s 7ms/step - loss: 0.8969 - accuracy: 0.6878 - val_loss: 0.9344 - val_accuracy: 0.6734\n",
            "Epoch 2/20\n",
            "1563/1563 [==============================] - 8s 5ms/step - loss: 0.8833 - accuracy: 0.6930 - val_loss: 0.9639 - val_accuracy: 0.6684\n",
            "Epoch 3/20\n",
            "1563/1563 [==============================] - 8s 5ms/step - loss: 0.8708 - accuracy: 0.6972 - val_loss: 0.9021 - val_accuracy: 0.6926\n",
            "Epoch 4/20\n",
            "1563/1563 [==============================] - 8s 5ms/step - loss: 0.8579 - accuracy: 0.7050 - val_loss: 0.9008 - val_accuracy: 0.6926\n",
            "Epoch 5/20\n",
            "1563/1563 [==============================] - 11s 7ms/step - loss: 0.8456 - accuracy: 0.7084 - val_loss: 0.9277 - val_accuracy: 0.6758\n",
            "Epoch 6/20\n",
            "1563/1563 [==============================] - 11s 7ms/step - loss: 0.8345 - accuracy: 0.7102 - val_loss: 0.8941 - val_accuracy: 0.6948\n",
            "Epoch 7/20\n",
            "1563/1563 [==============================] - 9s 6ms/step - loss: 0.8235 - accuracy: 0.7163 - val_loss: 0.8931 - val_accuracy: 0.6899\n",
            "Epoch 8/20\n",
            "1563/1563 [==============================] - 11s 7ms/step - loss: 0.8125 - accuracy: 0.7195 - val_loss: 0.8874 - val_accuracy: 0.6963\n",
            "Epoch 9/20\n",
            "1563/1563 [==============================] - 11s 7ms/step - loss: 0.8031 - accuracy: 0.7209 - val_loss: 0.9042 - val_accuracy: 0.6866\n",
            "Epoch 10/20\n",
            "1563/1563 [==============================] - 10s 6ms/step - loss: 0.7914 - accuracy: 0.7268 - val_loss: 0.8793 - val_accuracy: 0.6970\n",
            "Epoch 11/20\n",
            "1563/1563 [==============================] - 10s 7ms/step - loss: 0.7826 - accuracy: 0.7284 - val_loss: 0.8926 - val_accuracy: 0.6939\n",
            "Epoch 12/20\n",
            "1563/1563 [==============================] - 11s 7ms/step - loss: 0.7727 - accuracy: 0.7329 - val_loss: 0.8587 - val_accuracy: 0.7051\n",
            "Epoch 13/20\n",
            "1563/1563 [==============================] - 10s 6ms/step - loss: 0.7631 - accuracy: 0.7372 - val_loss: 0.8571 - val_accuracy: 0.7041\n",
            "Epoch 14/20\n",
            "1563/1563 [==============================] - 11s 7ms/step - loss: 0.7540 - accuracy: 0.7395 - val_loss: 0.8554 - val_accuracy: 0.7026\n",
            "Epoch 15/20\n",
            "1563/1563 [==============================] - 11s 7ms/step - loss: 0.7466 - accuracy: 0.7417 - val_loss: 0.8983 - val_accuracy: 0.6876\n",
            "Epoch 16/20\n",
            "1563/1563 [==============================] - 9s 6ms/step - loss: 0.7367 - accuracy: 0.7450 - val_loss: 0.8429 - val_accuracy: 0.7105\n",
            "Epoch 17/20\n",
            "1563/1563 [==============================] - 8s 5ms/step - loss: 0.7287 - accuracy: 0.7485 - val_loss: 0.8190 - val_accuracy: 0.7255\n",
            "Epoch 18/20\n",
            "1563/1563 [==============================] - 8s 5ms/step - loss: 0.7200 - accuracy: 0.7514 - val_loss: 0.8315 - val_accuracy: 0.7167\n",
            "Epoch 19/20\n",
            "1563/1563 [==============================] - 9s 6ms/step - loss: 0.7134 - accuracy: 0.7543 - val_loss: 0.8354 - val_accuracy: 0.7136\n",
            "Epoch 20/20\n",
            "1563/1563 [==============================] - 8s 5ms/step - loss: 0.7052 - accuracy: 0.7575 - val_loss: 0.8287 - val_accuracy: 0.7167\n",
            "Validation loss: 0.8286691308021545\n",
            "Validation accuracy: 0.71670001745224\n"
          ]
        },
        {
          "output_type": "stream",
          "name": "stderr",
          "text": [
            "WARNING:absl:Found untraced functions such as _jit_compiled_convolution_op, _jit_compiled_convolution_op while saving (showing 2 of 2). These functions will not be directly callable after loading.\n"
          ]
        }
      ]
    },
    {
      "cell_type": "code",
      "source": [
        "import tensorflow as tf\n",
        "tf.compat.v1.logging.set_verbosity(tf.compat.v1.logging.ERROR)\n",
        "from keras.models import Sequential\n",
        "from keras.layers import Dense, Activation\n",
        "from keras.utils import np_utils\n",
        "from keras.datasets import cifar10\n",
        "from keras.optimizers import RMSprop\n",
        "from keras.layers import Conv2D, MaxPooling2D, Flatten, AveragePooling2D\n",
        "from google.colab import drive\n",
        "from keras.models import load_model\n",
        "drive.mount('/content/drive')\n",
        "\n",
        "(x_train, y_train), (x_test, y_test) = cifar10.load_data()\n",
        "\n",
        "print('Image shape: {0}'.format(x_train.shape[1:]))\n",
        "print('Total number of training samples: {0}'.format(x_train.shape[0]))\n",
        "print('Total number of validation samples: {0}'.format(x_test.shape[0]))\n",
        "\n",
        "x_train = x_train.astype('float32')\n",
        "x_test = x_test.astype('float32')\n",
        "x_train /= 255\n",
        "x_test /= 255\n",
        "y_train_class = np_utils.to_categorical(y_train, 10)\n",
        "y_test_class = np_utils.to_categorical(y_test, 10)\n",
        "\n",
        "model = load_model('/content/drive/MyDrive/dl-cw/layer_6')\n",
        "\n",
        "opt = RMSprop(lr=0.0001, decay=1e-6)\n",
        "\n",
        "model.summary()\n",
        "model.compile(loss='categorical_crossentropy', optimizer=opt, metrics=['accuracy'])\n",
        "model.fit(x_train, y_train_class, batch_size=32, epochs=20, validation_data=(x_test, y_test_class))\n",
        "\n",
        "score = model.evaluate(x_test, y_test_class, verbose=0)\n",
        "print('Validation loss:', score[0])\n",
        "print('Validation accuracy:', score[1])\n",
        "\n",
        "model.save('/content/drive/MyDrive/dl-cw/layer_6')"
      ],
      "metadata": {
        "id": "MBwRBBHq9-oB",
        "outputId": "f0b7e37c-b292-4f32-e054-90c99b0157b5",
        "colab": {
          "base_uri": "https://localhost:8080/"
        }
      },
      "execution_count": 62,
      "outputs": [
        {
          "output_type": "stream",
          "name": "stdout",
          "text": [
            "Drive already mounted at /content/drive; to attempt to forcibly remount, call drive.mount(\"/content/drive\", force_remount=True).\n",
            "Image shape: (32, 32, 3)\n",
            "Total number of training samples: 50000\n",
            "Total number of validation samples: 10000\n",
            "Model: \"sequential_11\"\n",
            "_________________________________________________________________\n",
            " Layer (type)                Output Shape              Param #   \n",
            "=================================================================\n",
            " conv2d_29 (Conv2D)          (None, 32, 32, 64)        1792      \n",
            "                                                                 \n",
            " activation_29 (Activation)  (None, 32, 32, 64)        0         \n",
            "                                                                 \n",
            " max_pooling2d_29 (MaxPoolin  (None, 16, 16, 64)       0         \n",
            " g2D)                                                            \n",
            "                                                                 \n",
            " conv2d_30 (Conv2D)          (None, 16, 16, 128)       73856     \n",
            "                                                                 \n",
            " activation_30 (Activation)  (None, 16, 16, 128)       0         \n",
            "                                                                 \n",
            " max_pooling2d_30 (MaxPoolin  (None, 8, 8, 128)        0         \n",
            " g2D)                                                            \n",
            "                                                                 \n",
            " conv2d_31 (Conv2D)          (None, 8, 8, 256)         295168    \n",
            "                                                                 \n",
            " activation_31 (Activation)  (None, 8, 8, 256)         0         \n",
            "                                                                 \n",
            " max_pooling2d_31 (MaxPoolin  (None, 4, 4, 256)        0         \n",
            " g2D)                                                            \n",
            "                                                                 \n",
            " average_pooling2d_11 (Avera  (None, 2, 2, 256)        0         \n",
            " gePooling2D)                                                    \n",
            "                                                                 \n",
            " flatten_11 (Flatten)        (None, 1024)              0         \n",
            "                                                                 \n",
            " dense_28 (Dense)            (None, 50)                51250     \n",
            "                                                                 \n",
            " dense_29 (Dense)            (None, 10)                510       \n",
            "                                                                 \n",
            "=================================================================\n",
            "Total params: 422,576\n",
            "Trainable params: 422,576\n",
            "Non-trainable params: 0\n",
            "_________________________________________________________________\n"
          ]
        },
        {
          "output_type": "stream",
          "name": "stderr",
          "text": [
            "/usr/local/lib/python3.8/dist-packages/keras/optimizers/optimizer_v2/rmsprop.py:135: UserWarning: The `lr` argument is deprecated, use `learning_rate` instead.\n",
            "  super(RMSprop, self).__init__(name, **kwargs)\n"
          ]
        },
        {
          "output_type": "stream",
          "name": "stdout",
          "text": [
            "Epoch 1/20\n",
            "1563/1563 [==============================] - 10s 6ms/step - loss: 0.7044 - accuracy: 0.7588 - val_loss: 0.8112 - val_accuracy: 0.7213\n",
            "Epoch 2/20\n",
            "1563/1563 [==============================] - 9s 6ms/step - loss: 0.6849 - accuracy: 0.7659 - val_loss: 0.8666 - val_accuracy: 0.7112\n",
            "Epoch 3/20\n",
            "1563/1563 [==============================] - 9s 6ms/step - loss: 0.6671 - accuracy: 0.7713 - val_loss: 0.7576 - val_accuracy: 0.7413\n",
            "Epoch 4/20\n",
            "1563/1563 [==============================] - 9s 6ms/step - loss: 0.6481 - accuracy: 0.7789 - val_loss: 0.7650 - val_accuracy: 0.7397\n",
            "Epoch 5/20\n",
            "1563/1563 [==============================] - 9s 6ms/step - loss: 0.6319 - accuracy: 0.7847 - val_loss: 0.7751 - val_accuracy: 0.7366\n",
            "Epoch 6/20\n",
            "1563/1563 [==============================] - 9s 6ms/step - loss: 0.6156 - accuracy: 0.7882 - val_loss: 0.7859 - val_accuracy: 0.7345\n",
            "Epoch 7/20\n",
            "1563/1563 [==============================] - 9s 6ms/step - loss: 0.5989 - accuracy: 0.7957 - val_loss: 0.7609 - val_accuracy: 0.7460\n",
            "Epoch 8/20\n",
            "1563/1563 [==============================] - 10s 7ms/step - loss: 0.5827 - accuracy: 0.8025 - val_loss: 0.7409 - val_accuracy: 0.7501\n",
            "Epoch 9/20\n",
            "1563/1563 [==============================] - 9s 6ms/step - loss: 0.5690 - accuracy: 0.8068 - val_loss: 0.7903 - val_accuracy: 0.7330\n",
            "Epoch 10/20\n",
            "1563/1563 [==============================] - 9s 6ms/step - loss: 0.5513 - accuracy: 0.8120 - val_loss: 0.7881 - val_accuracy: 0.7373\n",
            "Epoch 11/20\n",
            "1563/1563 [==============================] - 9s 6ms/step - loss: 0.5368 - accuracy: 0.8155 - val_loss: 0.7521 - val_accuracy: 0.7497\n",
            "Epoch 12/20\n",
            "1563/1563 [==============================] - 9s 6ms/step - loss: 0.5230 - accuracy: 0.8217 - val_loss: 0.7574 - val_accuracy: 0.7450\n",
            "Epoch 13/20\n",
            "1563/1563 [==============================] - 9s 6ms/step - loss: 0.5091 - accuracy: 0.8271 - val_loss: 0.7614 - val_accuracy: 0.7459\n",
            "Epoch 14/20\n",
            "1563/1563 [==============================] - 9s 6ms/step - loss: 0.4932 - accuracy: 0.8323 - val_loss: 0.7485 - val_accuracy: 0.7538\n",
            "Epoch 15/20\n",
            "1563/1563 [==============================] - 9s 6ms/step - loss: 0.4809 - accuracy: 0.8349 - val_loss: 0.8605 - val_accuracy: 0.7178\n",
            "Epoch 16/20\n",
            "1563/1563 [==============================] - 9s 6ms/step - loss: 0.4657 - accuracy: 0.8419 - val_loss: 0.7447 - val_accuracy: 0.7564\n",
            "Epoch 17/20\n",
            "1563/1563 [==============================] - 9s 6ms/step - loss: 0.4527 - accuracy: 0.8463 - val_loss: 0.7428 - val_accuracy: 0.7580\n",
            "Epoch 18/20\n",
            "1563/1563 [==============================] - 9s 6ms/step - loss: 0.4374 - accuracy: 0.8527 - val_loss: 0.8018 - val_accuracy: 0.7400\n",
            "Epoch 19/20\n",
            "1563/1563 [==============================] - 9s 6ms/step - loss: 0.4256 - accuracy: 0.8564 - val_loss: 0.7721 - val_accuracy: 0.7521\n",
            "Epoch 20/20\n",
            "1563/1563 [==============================] - 9s 6ms/step - loss: 0.4124 - accuracy: 0.8606 - val_loss: 0.7634 - val_accuracy: 0.7536\n",
            "Validation loss: 0.7633538246154785\n",
            "Validation accuracy: 0.753600001335144\n"
          ]
        },
        {
          "output_type": "stream",
          "name": "stderr",
          "text": [
            "WARNING:absl:Found untraced functions such as _jit_compiled_convolution_op, _jit_compiled_convolution_op, _jit_compiled_convolution_op while saving (showing 3 of 3). These functions will not be directly callable after loading.\n"
          ]
        }
      ]
    },
    {
      "cell_type": "code",
      "source": [
        "import tensorflow as tf\n",
        "tf.compat.v1.logging.set_verbosity(tf.compat.v1.logging.ERROR)\n",
        "from keras.models import Sequential\n",
        "from keras.layers import Dense, Activation\n",
        "from keras.utils import np_utils\n",
        "from keras.datasets import cifar10\n",
        "from keras.optimizers import RMSprop\n",
        "from keras.layers import Conv2D, MaxPooling2D, Flatten, AveragePooling2D\n",
        "from google.colab import drive\n",
        "from keras.models import load_model\n",
        "drive.mount('/content/drive')\n",
        "\n",
        "(x_train, y_train), (x_test, y_test) = cifar10.load_data()\n",
        "\n",
        "print('Image shape: {0}'.format(x_train.shape[1:]))\n",
        "print('Total number of training samples: {0}'.format(x_train.shape[0]))\n",
        "print('Total number of validation samples: {0}'.format(x_test.shape[0]))\n",
        "\n",
        "x_train = x_train.astype('float32')\n",
        "x_test = x_test.astype('float32')\n",
        "x_train /= 255\n",
        "x_test /= 255\n",
        "y_train_class = np_utils.to_categorical(y_train, 10)\n",
        "y_test_class = np_utils.to_categorical(y_test, 10)\n",
        "\n",
        "model = load_model('/content/drive/MyDrive/dl-cw/layer_3')\n",
        "\n",
        "opt = RMSprop(lr=0.0001, decay=1e-6)\n",
        "\n",
        "model.summary()\n",
        "model.compile(loss='categorical_crossentropy', optimizer=opt, metrics=['accuracy'])\n",
        "model.fit(x_train, y_train_class, batch_size=32, epochs=20, validation_data=(x_test, y_test_class))\n",
        "\n",
        "score = model.evaluate(x_test, y_test_class, verbose=0)\n",
        "print('Validation loss:', score[0])\n",
        "print('Validation accuracy:', score[1])\n",
        "\n",
        "model.save('/content/drive/MyDrive/dl-cw/layer_3')"
      ],
      "metadata": {
        "id": "YIlgcqh3-EIx",
        "outputId": "90055415-a8e1-44c6-ffbc-746afd364cca",
        "colab": {
          "base_uri": "https://localhost:8080/"
        }
      },
      "execution_count": 64,
      "outputs": [
        {
          "output_type": "stream",
          "name": "stdout",
          "text": [
            "Drive already mounted at /content/drive; to attempt to forcibly remount, call drive.mount(\"/content/drive\", force_remount=True).\n",
            "Image shape: (32, 32, 3)\n",
            "Total number of training samples: 50000\n",
            "Total number of validation samples: 10000\n",
            "Model: \"sequential_9\"\n",
            "_________________________________________________________________\n",
            " Layer (type)                Output Shape              Param #   \n",
            "=================================================================\n",
            " conv2d_24 (Conv2D)          (None, 32, 32, 16)        448       \n",
            "                                                                 \n",
            " activation_24 (Activation)  (None, 32, 32, 16)        0         \n",
            "                                                                 \n",
            " max_pooling2d_24 (MaxPoolin  (None, 16, 16, 16)       0         \n",
            " g2D)                                                            \n",
            "                                                                 \n",
            " conv2d_25 (Conv2D)          (None, 16, 16, 32)        4640      \n",
            "                                                                 \n",
            " activation_25 (Activation)  (None, 16, 16, 32)        0         \n",
            "                                                                 \n",
            " max_pooling2d_25 (MaxPoolin  (None, 8, 8, 32)         0         \n",
            " g2D)                                                            \n",
            "                                                                 \n",
            " conv2d_26 (Conv2D)          (None, 8, 8, 64)          18496     \n",
            "                                                                 \n",
            " activation_26 (Activation)  (None, 8, 8, 64)          0         \n",
            "                                                                 \n",
            " max_pooling2d_26 (MaxPoolin  (None, 4, 4, 64)         0         \n",
            " g2D)                                                            \n",
            "                                                                 \n",
            " average_pooling2d_9 (Averag  (None, 2, 2, 64)         0         \n",
            " ePooling2D)                                                     \n",
            "                                                                 \n",
            " flatten_9 (Flatten)         (None, 256)               0         \n",
            "                                                                 \n",
            " dense_24 (Dense)            (None, 50)                12850     \n",
            "                                                                 \n",
            " dense_25 (Dense)            (None, 10)                510       \n",
            "                                                                 \n",
            "=================================================================\n",
            "Total params: 36,944\n",
            "Trainable params: 36,944\n",
            "Non-trainable params: 0\n",
            "_________________________________________________________________\n"
          ]
        },
        {
          "output_type": "stream",
          "name": "stderr",
          "text": [
            "/usr/local/lib/python3.8/dist-packages/keras/optimizers/optimizer_v2/rmsprop.py:135: UserWarning: The `lr` argument is deprecated, use `learning_rate` instead.\n",
            "  super(RMSprop, self).__init__(name, **kwargs)\n"
          ]
        },
        {
          "output_type": "stream",
          "name": "stdout",
          "text": [
            "Epoch 1/20\n",
            "1563/1563 [==============================] - 9s 5ms/step - loss: 1.1471 - accuracy: 0.5965 - val_loss: 1.1523 - val_accuracy: 0.5880\n",
            "Epoch 2/20\n",
            "1563/1563 [==============================] - 8s 5ms/step - loss: 1.1315 - accuracy: 0.6007 - val_loss: 1.2279 - val_accuracy: 0.5708\n",
            "Epoch 3/20\n",
            "1563/1563 [==============================] - 8s 5ms/step - loss: 1.1202 - accuracy: 0.6064 - val_loss: 1.1207 - val_accuracy: 0.6085\n",
            "Epoch 4/20\n",
            "1563/1563 [==============================] - 8s 5ms/step - loss: 1.1080 - accuracy: 0.6116 - val_loss: 1.1043 - val_accuracy: 0.6157\n",
            "Epoch 5/20\n",
            "1563/1563 [==============================] - 8s 5ms/step - loss: 1.0954 - accuracy: 0.6148 - val_loss: 1.1149 - val_accuracy: 0.6023\n",
            "Epoch 6/20\n",
            "1563/1563 [==============================] - 8s 5ms/step - loss: 1.0842 - accuracy: 0.6189 - val_loss: 1.1020 - val_accuracy: 0.6098\n",
            "Epoch 7/20\n",
            "1563/1563 [==============================] - 8s 5ms/step - loss: 1.0741 - accuracy: 0.6211 - val_loss: 1.0941 - val_accuracy: 0.6144\n",
            "Epoch 8/20\n",
            "1563/1563 [==============================] - 8s 5ms/step - loss: 1.0628 - accuracy: 0.6265 - val_loss: 1.1147 - val_accuracy: 0.6084\n",
            "Epoch 9/20\n",
            "1563/1563 [==============================] - 9s 5ms/step - loss: 1.0546 - accuracy: 0.6298 - val_loss: 1.1067 - val_accuracy: 0.6126\n",
            "Epoch 10/20\n",
            "1563/1563 [==============================] - 8s 5ms/step - loss: 1.0441 - accuracy: 0.6373 - val_loss: 1.0952 - val_accuracy: 0.6070\n",
            "Epoch 11/20\n",
            "1563/1563 [==============================] - 8s 5ms/step - loss: 1.0361 - accuracy: 0.6370 - val_loss: 1.0912 - val_accuracy: 0.6161\n",
            "Epoch 12/20\n",
            "1563/1563 [==============================] - 8s 5ms/step - loss: 1.0267 - accuracy: 0.6393 - val_loss: 1.0738 - val_accuracy: 0.6234\n",
            "Epoch 13/20\n",
            "1563/1563 [==============================] - 8s 5ms/step - loss: 1.0185 - accuracy: 0.6424 - val_loss: 1.0456 - val_accuracy: 0.6314\n",
            "Epoch 14/20\n",
            "1563/1563 [==============================] - 8s 5ms/step - loss: 1.0101 - accuracy: 0.6470 - val_loss: 1.0449 - val_accuracy: 0.6314\n",
            "Epoch 15/20\n",
            "1563/1563 [==============================] - 8s 5ms/step - loss: 1.0047 - accuracy: 0.6492 - val_loss: 1.1132 - val_accuracy: 0.6061\n",
            "Epoch 16/20\n",
            "1563/1563 [==============================] - 8s 5ms/step - loss: 0.9953 - accuracy: 0.6521 - val_loss: 1.0359 - val_accuracy: 0.6379\n",
            "Epoch 17/20\n",
            "1563/1563 [==============================] - 10s 6ms/step - loss: 0.9883 - accuracy: 0.6536 - val_loss: 1.0121 - val_accuracy: 0.6471\n",
            "Epoch 18/20\n",
            "1563/1563 [==============================] - 9s 5ms/step - loss: 0.9803 - accuracy: 0.6574 - val_loss: 1.0309 - val_accuracy: 0.6409\n",
            "Epoch 19/20\n",
            "1563/1563 [==============================] - 8s 5ms/step - loss: 0.9747 - accuracy: 0.6578 - val_loss: 1.0340 - val_accuracy: 0.6402\n",
            "Epoch 20/20\n",
            "1563/1563 [==============================] - 8s 5ms/step - loss: 0.9678 - accuracy: 0.6625 - val_loss: 1.0096 - val_accuracy: 0.6445\n",
            "Validation loss: 1.0095908641815186\n",
            "Validation accuracy: 0.6445000171661377\n"
          ]
        },
        {
          "output_type": "stream",
          "name": "stderr",
          "text": [
            "WARNING:absl:Found untraced functions such as _jit_compiled_convolution_op, _jit_compiled_convolution_op, _jit_compiled_convolution_op while saving (showing 3 of 3). These functions will not be directly callable after loading.\n"
          ]
        }
      ]
    },
    {
      "cell_type": "code",
      "source": [
        "import tensorflow as tf\n",
        "tf.compat.v1.logging.set_verbosity(tf.compat.v1.logging.ERROR)\n",
        "from keras.models import Sequential\n",
        "from keras.layers import Dense, Activation\n",
        "from keras.utils import np_utils\n",
        "from keras.datasets import cifar10\n",
        "from keras.optimizers import RMSprop\n",
        "from keras.layers import Conv2D, MaxPooling2D, Flatten, AveragePooling2D\n",
        "from google.colab import drive\n",
        "from keras.models import load_model\n",
        "drive.mount('/content/drive')\n",
        "\n",
        "(x_train, y_train), (x_test, y_test) = cifar10.load_data()\n",
        "\n",
        "print('Image shape: {0}'.format(x_train.shape[1:]))\n",
        "print('Total number of training samples: {0}'.format(x_train.shape[0]))\n",
        "print('Total number of validation samples: {0}'.format(x_test.shape[0]))\n",
        "\n",
        "x_train = x_train.astype('float32')\n",
        "x_test = x_test.astype('float32')\n",
        "x_train /= 255\n",
        "x_test /= 255\n",
        "y_train_class = np_utils.to_categorical(y_train, 10)\n",
        "y_test_class = np_utils.to_categorical(y_test, 10)\n",
        "\n",
        "model = load_model('/content/drive/MyDrive/dl-cw/filter_2')\n",
        "\n",
        "opt = RMSprop(lr=0.0001, decay=1e-6)\n",
        "\n",
        "model.summary()\n",
        "model.compile(loss='categorical_crossentropy', optimizer=opt, metrics=['accuracy'])\n",
        "model.fit(x_train, y_train_class, batch_size=32, epochs=20, validation_data=(x_test, y_test_class))\n",
        "\n",
        "score = model.evaluate(x_test, y_test_class, verbose=0)\n",
        "print('Validation loss:', score[0])\n",
        "print('Validation accuracy:', score[1])\n",
        "\n",
        "model.save('/content/drive/MyDrive/dl-cw/filter_2')"
      ],
      "metadata": {
        "id": "157GOmvb-GV5",
        "outputId": "0cbf3789-662b-43fb-bee3-33bec771973e",
        "colab": {
          "base_uri": "https://localhost:8080/"
        }
      },
      "execution_count": 63,
      "outputs": [
        {
          "output_type": "stream",
          "name": "stdout",
          "text": [
            "Drive already mounted at /content/drive; to attempt to forcibly remount, call drive.mount(\"/content/drive\", force_remount=True).\n",
            "Image shape: (32, 32, 3)\n",
            "Total number of training samples: 50000\n",
            "Total number of validation samples: 10000\n",
            "Model: \"sequential_14\"\n",
            "_________________________________________________________________\n",
            " Layer (type)                Output Shape              Param #   \n",
            "=================================================================\n",
            " conv2d_36 (Conv2D)          (None, 32, 32, 32)        896       \n",
            "                                                                 \n",
            " activation_36 (Activation)  (None, 32, 32, 32)        0         \n",
            "                                                                 \n",
            " max_pooling2d_36 (MaxPoolin  (None, 16, 16, 32)       0         \n",
            " g2D)                                                            \n",
            "                                                                 \n",
            " conv2d_37 (Conv2D)          (None, 16, 16, 64)        18496     \n",
            "                                                                 \n",
            " activation_37 (Activation)  (None, 16, 16, 64)        0         \n",
            "                                                                 \n",
            " max_pooling2d_37 (MaxPoolin  (None, 8, 8, 64)         0         \n",
            " g2D)                                                            \n",
            "                                                                 \n",
            " conv2d_38 (Conv2D)          (None, 8, 8, 128)         73856     \n",
            "                                                                 \n",
            " activation_38 (Activation)  (None, 8, 8, 128)         0         \n",
            "                                                                 \n",
            " max_pooling2d_38 (MaxPoolin  (None, 4, 4, 128)        0         \n",
            " g2D)                                                            \n",
            "                                                                 \n",
            " average_pooling2d_14 (Avera  (None, 2, 2, 128)        0         \n",
            " gePooling2D)                                                    \n",
            "                                                                 \n",
            " flatten_14 (Flatten)        (None, 512)               0         \n",
            "                                                                 \n",
            " dense_34 (Dense)            (None, 50)                25650     \n",
            "                                                                 \n",
            " dense_35 (Dense)            (None, 10)                510       \n",
            "                                                                 \n",
            "=================================================================\n",
            "Total params: 119,408\n",
            "Trainable params: 119,408\n",
            "Non-trainable params: 0\n",
            "_________________________________________________________________\n"
          ]
        },
        {
          "output_type": "stream",
          "name": "stderr",
          "text": [
            "/usr/local/lib/python3.8/dist-packages/keras/optimizers/optimizer_v2/rmsprop.py:135: UserWarning: The `lr` argument is deprecated, use `learning_rate` instead.\n",
            "  super(RMSprop, self).__init__(name, **kwargs)\n"
          ]
        },
        {
          "output_type": "stream",
          "name": "stdout",
          "text": [
            "Epoch 1/20\n",
            "1563/1563 [==============================] - 9s 5ms/step - loss: 0.8965 - accuracy: 0.6889 - val_loss: 0.9436 - val_accuracy: 0.6703\n",
            "Epoch 2/20\n",
            "1563/1563 [==============================] - 8s 5ms/step - loss: 0.8792 - accuracy: 0.6947 - val_loss: 1.0421 - val_accuracy: 0.6429\n",
            "Epoch 3/20\n",
            "1563/1563 [==============================] - 8s 5ms/step - loss: 0.8657 - accuracy: 0.6995 - val_loss: 0.8954 - val_accuracy: 0.6897\n",
            "Epoch 4/20\n",
            "1563/1563 [==============================] - 8s 5ms/step - loss: 0.8507 - accuracy: 0.7045 - val_loss: 0.8729 - val_accuracy: 0.7048\n",
            "Epoch 5/20\n",
            "1563/1563 [==============================] - 8s 5ms/step - loss: 0.8369 - accuracy: 0.7090 - val_loss: 0.9189 - val_accuracy: 0.6794\n",
            "Epoch 6/20\n",
            "1563/1563 [==============================] - 8s 5ms/step - loss: 0.8235 - accuracy: 0.7147 - val_loss: 0.8832 - val_accuracy: 0.7003\n",
            "Epoch 7/20\n",
            "1563/1563 [==============================] - 8s 5ms/step - loss: 0.8114 - accuracy: 0.7176 - val_loss: 0.8726 - val_accuracy: 0.6996\n",
            "Epoch 8/20\n",
            "1563/1563 [==============================] - 8s 5ms/step - loss: 0.7981 - accuracy: 0.7243 - val_loss: 0.8630 - val_accuracy: 0.7036\n",
            "Epoch 9/20\n",
            "1563/1563 [==============================] - 9s 5ms/step - loss: 0.7875 - accuracy: 0.7269 - val_loss: 0.8659 - val_accuracy: 0.7053\n",
            "Epoch 10/20\n",
            "1563/1563 [==============================] - 8s 5ms/step - loss: 0.7744 - accuracy: 0.7324 - val_loss: 0.8676 - val_accuracy: 0.6978\n",
            "Epoch 11/20\n",
            "1563/1563 [==============================] - 8s 5ms/step - loss: 0.7638 - accuracy: 0.7363 - val_loss: 0.8618 - val_accuracy: 0.7036\n",
            "Epoch 12/20\n",
            "1563/1563 [==============================] - 8s 5ms/step - loss: 0.7521 - accuracy: 0.7393 - val_loss: 0.8536 - val_accuracy: 0.7074\n",
            "Epoch 13/20\n",
            "1563/1563 [==============================] - 10s 7ms/step - loss: 0.7426 - accuracy: 0.7442 - val_loss: 0.8843 - val_accuracy: 0.6956\n",
            "Epoch 14/20\n",
            "1563/1563 [==============================] - 8s 5ms/step - loss: 0.7313 - accuracy: 0.7481 - val_loss: 0.8174 - val_accuracy: 0.7206\n",
            "Epoch 15/20\n",
            "1563/1563 [==============================] - 8s 5ms/step - loss: 0.7218 - accuracy: 0.7505 - val_loss: 0.8729 - val_accuracy: 0.7020\n",
            "Epoch 16/20\n",
            "1563/1563 [==============================] - 8s 5ms/step - loss: 0.7107 - accuracy: 0.7544 - val_loss: 0.8066 - val_accuracy: 0.7242\n",
            "Epoch 17/20\n",
            "1563/1563 [==============================] - 8s 5ms/step - loss: 0.7018 - accuracy: 0.7580 - val_loss: 0.7966 - val_accuracy: 0.7298\n",
            "Epoch 18/20\n",
            "1563/1563 [==============================] - 8s 5ms/step - loss: 0.6919 - accuracy: 0.7610 - val_loss: 0.7950 - val_accuracy: 0.7293\n",
            "Epoch 19/20\n",
            "1563/1563 [==============================] - 8s 5ms/step - loss: 0.6829 - accuracy: 0.7645 - val_loss: 0.7905 - val_accuracy: 0.7288\n",
            "Epoch 20/20\n",
            "1563/1563 [==============================] - 8s 5ms/step - loss: 0.6741 - accuracy: 0.7678 - val_loss: 0.7941 - val_accuracy: 0.7277\n",
            "Validation loss: 0.7940675020217896\n",
            "Validation accuracy: 0.7276999950408936\n"
          ]
        },
        {
          "output_type": "stream",
          "name": "stderr",
          "text": [
            "WARNING:absl:Found untraced functions such as _jit_compiled_convolution_op, _jit_compiled_convolution_op, _jit_compiled_convolution_op while saving (showing 3 of 3). These functions will not be directly callable after loading.\n"
          ]
        }
      ]
    },
    {
      "cell_type": "code",
      "source": [
        "import tensorflow as tf\n",
        "tf.compat.v1.logging.set_verbosity(tf.compat.v1.logging.ERROR)\n",
        "from keras.models import Sequential\n",
        "from keras.layers import Dense, Activation\n",
        "from keras.utils import np_utils\n",
        "from keras.datasets import cifar10\n",
        "from keras.optimizers import RMSprop\n",
        "from keras.layers import Conv2D, MaxPooling2D, Flatten, AveragePooling2D\n",
        "from google.colab import drive\n",
        "from keras.models import load_model\n",
        "drive.mount('/content/drive')\n",
        "\n",
        "(x_train, y_train), (x_test, y_test) = cifar10.load_data()\n",
        "\n",
        "print('Image shape: {0}'.format(x_train.shape[1:]))\n",
        "print('Total number of training samples: {0}'.format(x_train.shape[0]))\n",
        "print('Total number of validation samples: {0}'.format(x_test.shape[0]))\n",
        "\n",
        "x_train = x_train.astype('float32')\n",
        "x_test = x_test.astype('float32')\n",
        "x_train /= 255\n",
        "x_test /= 255\n",
        "y_train_class = np_utils.to_categorical(y_train, 10)\n",
        "y_test_class = np_utils.to_categorical(y_test, 10)\n",
        "\n",
        "model = load_model('/content/drive/MyDrive/dl-cw/filter_4')\n",
        "\n",
        "opt = RMSprop(lr=0.0001, decay=1e-6)\n",
        "\n",
        "model.summary()\n",
        "model.compile(loss='categorical_crossentropy', optimizer=opt, metrics=['accuracy'])\n",
        "model.fit(x_train, y_train_class, batch_size=32, epochs=20, validation_data=(x_test, y_test_class))\n",
        "\n",
        "score = model.evaluate(x_test, y_test_class, verbose=0)\n",
        "print('Validation loss:', score[0])\n",
        "print('Validation accuracy:', score[1])\n",
        "\n",
        "model.save('/content/drive/MyDrive/dl-cw/filter_4')"
      ],
      "metadata": {
        "id": "hBtFXQ5o-X5R",
        "outputId": "dfcb7c22-432f-4fac-8a34-cb59aa4d7c87",
        "colab": {
          "base_uri": "https://localhost:8080/"
        }
      },
      "execution_count": 65,
      "outputs": [
        {
          "output_type": "stream",
          "name": "stdout",
          "text": [
            "Drive already mounted at /content/drive; to attempt to forcibly remount, call drive.mount(\"/content/drive\", force_remount=True).\n",
            "Image shape: (32, 32, 3)\n",
            "Total number of training samples: 50000\n",
            "Total number of validation samples: 10000\n",
            "Model: \"sequential_13\"\n",
            "_________________________________________________________________\n",
            " Layer (type)                Output Shape              Param #   \n",
            "=================================================================\n",
            " conv2d_33 (Conv2D)          (None, 32, 32, 128)       3584      \n",
            "                                                                 \n",
            " activation_33 (Activation)  (None, 32, 32, 128)       0         \n",
            "                                                                 \n",
            " max_pooling2d_33 (MaxPoolin  (None, 16, 16, 128)      0         \n",
            " g2D)                                                            \n",
            "                                                                 \n",
            " conv2d_34 (Conv2D)          (None, 16, 16, 256)       295168    \n",
            "                                                                 \n",
            " activation_34 (Activation)  (None, 16, 16, 256)       0         \n",
            "                                                                 \n",
            " max_pooling2d_34 (MaxPoolin  (None, 8, 8, 256)        0         \n",
            " g2D)                                                            \n",
            "                                                                 \n",
            " conv2d_35 (Conv2D)          (None, 8, 8, 512)         1180160   \n",
            "                                                                 \n",
            " activation_35 (Activation)  (None, 8, 8, 512)         0         \n",
            "                                                                 \n",
            " max_pooling2d_35 (MaxPoolin  (None, 4, 4, 512)        0         \n",
            " g2D)                                                            \n",
            "                                                                 \n",
            " average_pooling2d_13 (Avera  (None, 2, 2, 512)        0         \n",
            " gePooling2D)                                                    \n",
            "                                                                 \n",
            " flatten_13 (Flatten)        (None, 2048)              0         \n",
            "                                                                 \n",
            " dense_32 (Dense)            (None, 50)                102450    \n",
            "                                                                 \n",
            " dense_33 (Dense)            (None, 10)                510       \n",
            "                                                                 \n",
            "=================================================================\n",
            "Total params: 1,581,872\n",
            "Trainable params: 1,581,872\n",
            "Non-trainable params: 0\n",
            "_________________________________________________________________\n"
          ]
        },
        {
          "output_type": "stream",
          "name": "stderr",
          "text": [
            "/usr/local/lib/python3.8/dist-packages/keras/optimizers/optimizer_v2/rmsprop.py:135: UserWarning: The `lr` argument is deprecated, use `learning_rate` instead.\n",
            "  super(RMSprop, self).__init__(name, **kwargs)\n"
          ]
        },
        {
          "output_type": "stream",
          "name": "stdout",
          "text": [
            "Epoch 1/20\n",
            "1563/1563 [==============================] - 16s 10ms/step - loss: 0.3833 - accuracy: 0.8706 - val_loss: 0.7180 - val_accuracy: 0.7696\n",
            "Epoch 2/20\n",
            "1563/1563 [==============================] - 15s 10ms/step - loss: 0.3569 - accuracy: 0.8806 - val_loss: 0.7385 - val_accuracy: 0.7711\n",
            "Epoch 3/20\n",
            "1563/1563 [==============================] - 15s 10ms/step - loss: 0.3309 - accuracy: 0.8890 - val_loss: 0.7082 - val_accuracy: 0.7769\n",
            "Epoch 4/20\n",
            "1563/1563 [==============================] - 15s 10ms/step - loss: 0.3041 - accuracy: 0.8985 - val_loss: 0.6967 - val_accuracy: 0.7792\n",
            "Epoch 5/20\n",
            "1563/1563 [==============================] - 15s 10ms/step - loss: 0.2795 - accuracy: 0.9075 - val_loss: 0.7766 - val_accuracy: 0.7644\n",
            "Epoch 6/20\n",
            "1563/1563 [==============================] - 15s 10ms/step - loss: 0.2569 - accuracy: 0.9137 - val_loss: 0.7523 - val_accuracy: 0.7754\n",
            "Epoch 7/20\n",
            "1563/1563 [==============================] - 15s 10ms/step - loss: 0.2340 - accuracy: 0.9232 - val_loss: 0.8273 - val_accuracy: 0.7645\n",
            "Epoch 8/20\n",
            "1563/1563 [==============================] - 15s 10ms/step - loss: 0.2133 - accuracy: 0.9312 - val_loss: 0.7247 - val_accuracy: 0.7836\n",
            "Epoch 9/20\n",
            "1563/1563 [==============================] - 15s 10ms/step - loss: 0.1905 - accuracy: 0.9377 - val_loss: 0.8091 - val_accuracy: 0.7725\n",
            "Epoch 10/20\n",
            "1563/1563 [==============================] - 15s 10ms/step - loss: 0.1722 - accuracy: 0.9442 - val_loss: 0.9987 - val_accuracy: 0.7285\n",
            "Epoch 11/20\n",
            "1563/1563 [==============================] - 15s 10ms/step - loss: 0.1525 - accuracy: 0.9517 - val_loss: 0.9391 - val_accuracy: 0.7598\n",
            "Epoch 12/20\n",
            "1563/1563 [==============================] - 16s 10ms/step - loss: 0.1359 - accuracy: 0.9574 - val_loss: 0.9019 - val_accuracy: 0.7632\n",
            "Epoch 13/20\n",
            "1563/1563 [==============================] - 15s 10ms/step - loss: 0.1205 - accuracy: 0.9619 - val_loss: 0.9407 - val_accuracy: 0.7721\n",
            "Epoch 14/20\n",
            "1563/1563 [==============================] - 15s 10ms/step - loss: 0.1042 - accuracy: 0.9670 - val_loss: 0.9266 - val_accuracy: 0.7761\n",
            "Epoch 15/20\n",
            "1563/1563 [==============================] - 15s 10ms/step - loss: 0.0928 - accuracy: 0.9715 - val_loss: 0.8865 - val_accuracy: 0.7783\n",
            "Epoch 16/20\n",
            "1563/1563 [==============================] - 15s 10ms/step - loss: 0.0814 - accuracy: 0.9754 - val_loss: 0.9348 - val_accuracy: 0.7810\n",
            "Epoch 17/20\n",
            "1563/1563 [==============================] - 15s 10ms/step - loss: 0.0728 - accuracy: 0.9785 - val_loss: 0.9329 - val_accuracy: 0.7867\n",
            "Epoch 18/20\n",
            "1563/1563 [==============================] - 15s 10ms/step - loss: 0.0631 - accuracy: 0.9812 - val_loss: 1.0721 - val_accuracy: 0.7723\n",
            "Epoch 19/20\n",
            "1563/1563 [==============================] - 15s 10ms/step - loss: 0.0557 - accuracy: 0.9842 - val_loss: 1.0742 - val_accuracy: 0.7726\n",
            "Epoch 20/20\n",
            "1563/1563 [==============================] - 15s 10ms/step - loss: 0.0502 - accuracy: 0.9856 - val_loss: 1.0136 - val_accuracy: 0.7864\n",
            "Validation loss: 1.0136104822158813\n",
            "Validation accuracy: 0.7864000201225281\n"
          ]
        },
        {
          "output_type": "stream",
          "name": "stderr",
          "text": [
            "WARNING:absl:Found untraced functions such as _jit_compiled_convolution_op, _jit_compiled_convolution_op, _jit_compiled_convolution_op while saving (showing 3 of 3). These functions will not be directly callable after loading.\n"
          ]
        }
      ]
    },
    {
      "cell_type": "code",
      "source": [
        "import tensorflow as tf\n",
        "tf.compat.v1.logging.set_verbosity(tf.compat.v1.logging.ERROR)\n",
        "from keras.models import Sequential\n",
        "from keras.layers import Dense, Activation\n",
        "from keras.utils import np_utils\n",
        "from keras.datasets import cifar10\n",
        "from keras.optimizers import RMSprop\n",
        "from keras.layers import Conv2D, MaxPooling2D, Flatten, AveragePooling2D\n",
        "from google.colab import drive\n",
        "from keras.models import load_model\n",
        "drive.mount('/content/drive')\n",
        "\n",
        "(x_train, y_train), (x_test, y_test) = cifar10.load_data()\n",
        "\n",
        "print('Image shape: {0}'.format(x_train.shape[1:]))\n",
        "print('Total number of training samples: {0}'.format(x_train.shape[0]))\n",
        "print('Total number of validation samples: {0}'.format(x_test.shape[0]))\n",
        "\n",
        "x_train = x_train.astype('float32')\n",
        "x_test = x_test.astype('float32')\n",
        "x_train /= 255\n",
        "x_test /= 255\n",
        "y_train_class = np_utils.to_categorical(y_train, 10)\n",
        "y_test_class = np_utils.to_categorical(y_test, 10)\n",
        "\n",
        "model = load_model('/content/drive/MyDrive/dl-cw/dense_3')\n",
        "\n",
        "opt = RMSprop(lr=0.0001, decay=1e-6)\n",
        "\n",
        "model.summary()\n",
        "model.compile(loss='categorical_crossentropy', optimizer=opt, metrics=['accuracy'])\n",
        "model.fit(x_train, y_train_class, batch_size=32, epochs=20, validation_data=(x_test, y_test_class))\n",
        "\n",
        "score = model.evaluate(x_test, y_test_class, verbose=0)\n",
        "print('Validation loss:', score[0])\n",
        "print('Validation accuracy:', score[1])\n",
        "\n",
        "model.save('/content/drive/MyDrive/dl-cw/dense_3')"
      ],
      "metadata": {
        "id": "4-HsAtFb-bnq",
        "outputId": "ea1c105c-43e7-4623-9873-10abd439bd82",
        "colab": {
          "base_uri": "https://localhost:8080/"
        }
      },
      "execution_count": 66,
      "outputs": [
        {
          "output_type": "stream",
          "name": "stdout",
          "text": [
            "Drive already mounted at /content/drive; to attempt to forcibly remount, call drive.mount(\"/content/drive\", force_remount=True).\n",
            "Image shape: (32, 32, 3)\n",
            "Total number of training samples: 50000\n",
            "Total number of validation samples: 10000\n",
            "Model: \"sequential_17\"\n",
            "_________________________________________________________________\n",
            " Layer (type)                Output Shape              Param #   \n",
            "=================================================================\n",
            " conv2d_45 (Conv2D)          (None, 32, 32, 128)       3584      \n",
            "                                                                 \n",
            " activation_45 (Activation)  (None, 32, 32, 128)       0         \n",
            "                                                                 \n",
            " max_pooling2d_45 (MaxPoolin  (None, 16, 16, 128)      0         \n",
            " g2D)                                                            \n",
            "                                                                 \n",
            " conv2d_46 (Conv2D)          (None, 16, 16, 256)       295168    \n",
            "                                                                 \n",
            " activation_46 (Activation)  (None, 16, 16, 256)       0         \n",
            "                                                                 \n",
            " max_pooling2d_46 (MaxPoolin  (None, 8, 8, 256)        0         \n",
            " g2D)                                                            \n",
            "                                                                 \n",
            " conv2d_47 (Conv2D)          (None, 8, 8, 512)         1180160   \n",
            "                                                                 \n",
            " activation_47 (Activation)  (None, 8, 8, 512)         0         \n",
            "                                                                 \n",
            " max_pooling2d_47 (MaxPoolin  (None, 4, 4, 512)        0         \n",
            " g2D)                                                            \n",
            "                                                                 \n",
            " average_pooling2d_17 (Avera  (None, 2, 2, 512)        0         \n",
            " gePooling2D)                                                    \n",
            "                                                                 \n",
            " flatten_17 (Flatten)        (None, 2048)              0         \n",
            "                                                                 \n",
            " dense_40 (Dense)            (None, 256)               524544    \n",
            "                                                                 \n",
            " dense_41 (Dense)            (None, 10)                2570      \n",
            "                                                                 \n",
            "=================================================================\n",
            "Total params: 2,006,026\n",
            "Trainable params: 2,006,026\n",
            "Non-trainable params: 0\n",
            "_________________________________________________________________\n"
          ]
        },
        {
          "output_type": "stream",
          "name": "stderr",
          "text": [
            "/usr/local/lib/python3.8/dist-packages/keras/optimizers/optimizer_v2/rmsprop.py:135: UserWarning: The `lr` argument is deprecated, use `learning_rate` instead.\n",
            "  super(RMSprop, self).__init__(name, **kwargs)\n"
          ]
        },
        {
          "output_type": "stream",
          "name": "stdout",
          "text": [
            "Epoch 1/20\n",
            "1563/1563 [==============================] - 16s 10ms/step - loss: 0.2464 - accuracy: 0.9175 - val_loss: 0.6979 - val_accuracy: 0.7899\n",
            "Epoch 2/20\n",
            "1563/1563 [==============================] - 15s 10ms/step - loss: 0.2174 - accuracy: 0.9279 - val_loss: 0.7243 - val_accuracy: 0.7896\n",
            "Epoch 3/20\n",
            "1563/1563 [==============================] - 15s 10ms/step - loss: 0.1913 - accuracy: 0.9375 - val_loss: 0.7833 - val_accuracy: 0.7832\n",
            "Epoch 4/20\n",
            "1563/1563 [==============================] - 15s 10ms/step - loss: 0.1634 - accuracy: 0.9474 - val_loss: 0.8079 - val_accuracy: 0.7862\n",
            "Epoch 5/20\n",
            "1563/1563 [==============================] - 15s 10ms/step - loss: 0.1451 - accuracy: 0.9522 - val_loss: 0.8437 - val_accuracy: 0.7846\n",
            "Epoch 6/20\n",
            "1563/1563 [==============================] - 16s 10ms/step - loss: 0.1237 - accuracy: 0.9609 - val_loss: 0.8546 - val_accuracy: 0.7809\n",
            "Epoch 7/20\n",
            "1563/1563 [==============================] - 15s 10ms/step - loss: 0.1052 - accuracy: 0.9670 - val_loss: 0.9456 - val_accuracy: 0.7773\n",
            "Epoch 8/20\n",
            "1563/1563 [==============================] - 15s 10ms/step - loss: 0.0910 - accuracy: 0.9716 - val_loss: 0.9432 - val_accuracy: 0.7820\n",
            "Epoch 9/20\n",
            "1563/1563 [==============================] - 15s 10ms/step - loss: 0.0775 - accuracy: 0.9760 - val_loss: 0.9426 - val_accuracy: 0.7851\n",
            "Epoch 10/20\n",
            "1563/1563 [==============================] - 15s 10ms/step - loss: 0.0667 - accuracy: 0.9796 - val_loss: 0.9904 - val_accuracy: 0.7875\n",
            "Epoch 11/20\n",
            "1563/1563 [==============================] - 15s 10ms/step - loss: 0.0579 - accuracy: 0.9812 - val_loss: 1.0525 - val_accuracy: 0.7768\n",
            "Epoch 12/20\n",
            "1563/1563 [==============================] - 15s 10ms/step - loss: 0.0503 - accuracy: 0.9844 - val_loss: 1.2200 - val_accuracy: 0.7714\n",
            "Epoch 13/20\n",
            "1563/1563 [==============================] - 15s 10ms/step - loss: 0.0443 - accuracy: 0.9864 - val_loss: 1.2326 - val_accuracy: 0.7738\n",
            "Epoch 14/20\n",
            "1563/1563 [==============================] - 15s 10ms/step - loss: 0.0376 - accuracy: 0.9883 - val_loss: 1.1216 - val_accuracy: 0.7942\n",
            "Epoch 15/20\n",
            "1563/1563 [==============================] - 15s 10ms/step - loss: 0.0349 - accuracy: 0.9893 - val_loss: 1.1458 - val_accuracy: 0.7910\n",
            "Epoch 16/20\n",
            "1563/1563 [==============================] - 15s 10ms/step - loss: 0.0325 - accuracy: 0.9903 - val_loss: 1.1618 - val_accuracy: 0.7934\n",
            "Epoch 17/20\n",
            "1563/1563 [==============================] - 15s 10ms/step - loss: 0.0286 - accuracy: 0.9915 - val_loss: 1.2002 - val_accuracy: 0.7918\n",
            "Epoch 18/20\n",
            "1563/1563 [==============================] - 15s 10ms/step - loss: 0.0272 - accuracy: 0.9915 - val_loss: 1.2895 - val_accuracy: 0.7808\n",
            "Epoch 19/20\n",
            "1563/1563 [==============================] - 15s 10ms/step - loss: 0.0257 - accuracy: 0.9913 - val_loss: 1.2705 - val_accuracy: 0.7914\n",
            "Epoch 20/20\n",
            "1563/1563 [==============================] - 15s 10ms/step - loss: 0.0244 - accuracy: 0.9925 - val_loss: 1.2522 - val_accuracy: 0.7926\n",
            "Validation loss: 1.252173900604248\n",
            "Validation accuracy: 0.7925999760627747\n"
          ]
        },
        {
          "output_type": "stream",
          "name": "stderr",
          "text": [
            "WARNING:absl:Found untraced functions such as _jit_compiled_convolution_op, _jit_compiled_convolution_op, _jit_compiled_convolution_op while saving (showing 3 of 3). These functions will not be directly callable after loading.\n"
          ]
        }
      ]
    },
    {
      "cell_type": "code",
      "source": [
        "import tensorflow as tf\n",
        "tf.compat.v1.logging.set_verbosity(tf.compat.v1.logging.ERROR)\n",
        "from keras.models import Sequential\n",
        "from keras.layers import Dense, Activation\n",
        "from keras.utils import np_utils\n",
        "from keras.datasets import cifar10\n",
        "from keras.optimizers import RMSprop\n",
        "from keras.layers import Conv2D, MaxPooling2D, Flatten, AveragePooling2D\n",
        "from google.colab import drive\n",
        "from keras.models import load_model\n",
        "drive.mount('/content/drive')\n",
        "\n",
        "(x_train, y_train), (x_test, y_test) = cifar10.load_data()\n",
        "\n",
        "print('Image shape: {0}'.format(x_train.shape[1:]))\n",
        "print('Total number of training samples: {0}'.format(x_train.shape[0]))\n",
        "print('Total number of validation samples: {0}'.format(x_test.shape[0]))\n",
        "\n",
        "x_train = x_train.astype('float32')\n",
        "x_test = x_test.astype('float32')\n",
        "x_train /= 255\n",
        "x_test /= 255\n",
        "y_train_class = np_utils.to_categorical(y_train, 10)\n",
        "y_test_class = np_utils.to_categorical(y_test, 10)\n",
        "\n",
        "model = load_model('/content/drive/MyDrive/dl-cw/dense_4')\n",
        "\n",
        "opt = RMSprop(lr=0.0001, decay=1e-6)\n",
        "\n",
        "model.summary()\n",
        "model.compile(loss='categorical_crossentropy', optimizer=opt, metrics=['accuracy'])\n",
        "model.fit(x_train, y_train_class, batch_size=32, epochs=20, validation_data=(x_test, y_test_class))\n",
        "\n",
        "score = model.evaluate(x_test, y_test_class, verbose=0)\n",
        "print('Validation loss:', score[0])\n",
        "print('Validation accuracy:', score[1])\n",
        "\n",
        "model.save('/content/drive/MyDrive/dl-cw/dense_4')"
      ],
      "metadata": {
        "id": "0Zwxwmco-klh",
        "outputId": "d0f10767-ce09-44e7-ed61-0675cfe81df7",
        "colab": {
          "base_uri": "https://localhost:8080/"
        }
      },
      "execution_count": 67,
      "outputs": [
        {
          "output_type": "stream",
          "name": "stdout",
          "text": [
            "Drive already mounted at /content/drive; to attempt to forcibly remount, call drive.mount(\"/content/drive\", force_remount=True).\n",
            "Image shape: (32, 32, 3)\n",
            "Total number of training samples: 50000\n",
            "Total number of validation samples: 10000\n",
            "Model: \"sequential_18\"\n",
            "_________________________________________________________________\n",
            " Layer (type)                Output Shape              Param #   \n",
            "=================================================================\n",
            " conv2d_48 (Conv2D)          (None, 32, 32, 128)       3584      \n",
            "                                                                 \n",
            " activation_48 (Activation)  (None, 32, 32, 128)       0         \n",
            "                                                                 \n",
            " max_pooling2d_48 (MaxPoolin  (None, 16, 16, 128)      0         \n",
            " g2D)                                                            \n",
            "                                                                 \n",
            " conv2d_49 (Conv2D)          (None, 16, 16, 256)       295168    \n",
            "                                                                 \n",
            " activation_49 (Activation)  (None, 16, 16, 256)       0         \n",
            "                                                                 \n",
            " max_pooling2d_49 (MaxPoolin  (None, 8, 8, 256)        0         \n",
            " g2D)                                                            \n",
            "                                                                 \n",
            " conv2d_50 (Conv2D)          (None, 8, 8, 512)         1180160   \n",
            "                                                                 \n",
            " activation_50 (Activation)  (None, 8, 8, 512)         0         \n",
            "                                                                 \n",
            " max_pooling2d_50 (MaxPoolin  (None, 4, 4, 512)        0         \n",
            " g2D)                                                            \n",
            "                                                                 \n",
            " average_pooling2d_18 (Avera  (None, 2, 2, 512)        0         \n",
            " gePooling2D)                                                    \n",
            "                                                                 \n",
            " flatten_18 (Flatten)        (None, 2048)              0         \n",
            "                                                                 \n",
            " dense_42 (Dense)            (None, 512)               1049088   \n",
            "                                                                 \n",
            " dense_43 (Dense)            (None, 10)                5130      \n",
            "                                                                 \n",
            "=================================================================\n",
            "Total params: 2,533,130\n",
            "Trainable params: 2,533,130\n",
            "Non-trainable params: 0\n",
            "_________________________________________________________________\n"
          ]
        },
        {
          "output_type": "stream",
          "name": "stderr",
          "text": [
            "/usr/local/lib/python3.8/dist-packages/keras/optimizers/optimizer_v2/rmsprop.py:135: UserWarning: The `lr` argument is deprecated, use `learning_rate` instead.\n",
            "  super(RMSprop, self).__init__(name, **kwargs)\n"
          ]
        },
        {
          "output_type": "stream",
          "name": "stdout",
          "text": [
            "Epoch 1/20\n",
            "1563/1563 [==============================] - 16s 10ms/step - loss: 0.1916 - accuracy: 0.9364 - val_loss: 0.8042 - val_accuracy: 0.7780\n",
            "Epoch 2/20\n",
            "1563/1563 [==============================] - 17s 11ms/step - loss: 0.1634 - accuracy: 0.9462 - val_loss: 0.8868 - val_accuracy: 0.7714\n",
            "Epoch 3/20\n",
            "1563/1563 [==============================] - 15s 10ms/step - loss: 0.1405 - accuracy: 0.9543 - val_loss: 0.8409 - val_accuracy: 0.7872\n",
            "Epoch 4/20\n",
            "1563/1563 [==============================] - 15s 10ms/step - loss: 0.1181 - accuracy: 0.9606 - val_loss: 0.9585 - val_accuracy: 0.7712\n",
            "Epoch 5/20\n",
            "1563/1563 [==============================] - 15s 10ms/step - loss: 0.1023 - accuracy: 0.9667 - val_loss: 0.9791 - val_accuracy: 0.7796\n",
            "Epoch 6/20\n",
            "1563/1563 [==============================] - 15s 10ms/step - loss: 0.0852 - accuracy: 0.9732 - val_loss: 1.0214 - val_accuracy: 0.7753\n",
            "Epoch 7/20\n",
            "1563/1563 [==============================] - 15s 10ms/step - loss: 0.0728 - accuracy: 0.9765 - val_loss: 0.9554 - val_accuracy: 0.7908\n",
            "Epoch 8/20\n",
            "1563/1563 [==============================] - 15s 10ms/step - loss: 0.0643 - accuracy: 0.9799 - val_loss: 1.1394 - val_accuracy: 0.7770\n",
            "Epoch 9/20\n",
            "1563/1563 [==============================] - 15s 10ms/step - loss: 0.0532 - accuracy: 0.9827 - val_loss: 1.0367 - val_accuracy: 0.7854\n",
            "Epoch 10/20\n",
            "1563/1563 [==============================] - 16s 10ms/step - loss: 0.0478 - accuracy: 0.9846 - val_loss: 1.0851 - val_accuracy: 0.7856\n",
            "Epoch 11/20\n",
            "1563/1563 [==============================] - 15s 10ms/step - loss: 0.0424 - accuracy: 0.9866 - val_loss: 1.1559 - val_accuracy: 0.7853\n",
            "Epoch 12/20\n",
            "1563/1563 [==============================] - 15s 10ms/step - loss: 0.0375 - accuracy: 0.9880 - val_loss: 1.2805 - val_accuracy: 0.7870\n",
            "Epoch 13/20\n",
            "1563/1563 [==============================] - 15s 10ms/step - loss: 0.0348 - accuracy: 0.9894 - val_loss: 1.1657 - val_accuracy: 0.7897\n",
            "Epoch 14/20\n",
            "1563/1563 [==============================] - 15s 10ms/step - loss: 0.0308 - accuracy: 0.9903 - val_loss: 1.2518 - val_accuracy: 0.7933\n",
            "Epoch 15/20\n",
            "1563/1563 [==============================] - 16s 10ms/step - loss: 0.0283 - accuracy: 0.9911 - val_loss: 1.5708 - val_accuracy: 0.7657\n",
            "Epoch 16/20\n",
            "1563/1563 [==============================] - 15s 10ms/step - loss: 0.0278 - accuracy: 0.9913 - val_loss: 1.3239 - val_accuracy: 0.7848\n",
            "Epoch 17/20\n",
            "1563/1563 [==============================] - 15s 10ms/step - loss: 0.0256 - accuracy: 0.9916 - val_loss: 1.5468 - val_accuracy: 0.7767\n",
            "Epoch 18/20\n",
            "1563/1563 [==============================] - 17s 11ms/step - loss: 0.0222 - accuracy: 0.9929 - val_loss: 1.5439 - val_accuracy: 0.7728\n",
            "Epoch 19/20\n",
            "1563/1563 [==============================] - 15s 10ms/step - loss: 0.0221 - accuracy: 0.9929 - val_loss: 1.4156 - val_accuracy: 0.7940\n",
            "Epoch 20/20\n",
            "1563/1563 [==============================] - 15s 10ms/step - loss: 0.0228 - accuracy: 0.9931 - val_loss: 1.6172 - val_accuracy: 0.7797\n",
            "Validation loss: 1.617183804512024\n",
            "Validation accuracy: 0.779699981212616\n"
          ]
        },
        {
          "output_type": "stream",
          "name": "stderr",
          "text": [
            "WARNING:absl:Found untraced functions such as _jit_compiled_convolution_op, _jit_compiled_convolution_op, _jit_compiled_convolution_op while saving (showing 3 of 3). These functions will not be directly callable after loading.\n"
          ]
        }
      ]
    },
    {
      "cell_type": "code",
      "source": [
        "import tensorflow as tf\n",
        "tf.compat.v1.logging.set_verbosity(tf.compat.v1.logging.ERROR)\n",
        "from keras.models import Sequential\n",
        "from keras.layers import Dense, Activation\n",
        "from keras.utils import np_utils\n",
        "from keras.datasets import cifar10\n",
        "from keras.optimizers import RMSprop\n",
        "from keras.layers import Conv2D, MaxPooling2D, Flatten, AveragePooling2D\n",
        "from google.colab import drive\n",
        "from keras.models import load_model\n",
        "drive.mount('/content/drive')\n",
        "\n",
        "(x_train, y_train), (x_test, y_test) = cifar10.load_data()\n",
        "\n",
        "print('Image shape: {0}'.format(x_train.shape[1:]))\n",
        "print('Total number of training samples: {0}'.format(x_train.shape[0]))\n",
        "print('Total number of validation samples: {0}'.format(x_test.shape[0]))\n",
        "\n",
        "x_train = x_train.astype('float32')\n",
        "x_test = x_test.astype('float32')\n",
        "x_train /= 255\n",
        "x_test /= 255\n",
        "y_train_class = np_utils.to_categorical(y_train, 10)\n",
        "y_test_class = np_utils.to_categorical(y_test, 10)\n",
        "\n",
        "model = load_model('/content/drive/MyDrive/dl-cw/dense_5')\n",
        "\n",
        "opt = RMSprop(lr=0.0001, decay=1e-6)\n",
        "\n",
        "model.summary()\n",
        "model.compile(loss='categorical_crossentropy', optimizer=opt, metrics=['accuracy'])\n",
        "model.fit(x_train, y_train_class, batch_size=32, epochs=20, validation_data=(x_test, y_test_class))\n",
        "\n",
        "score = model.evaluate(x_test, y_test_class, verbose=0)\n",
        "print('Validation loss:', score[0])\n",
        "print('Validation accuracy:', score[1])\n",
        "\n",
        "model.save('/content/drive/MyDrive/dl-cw/dense_5')"
      ],
      "metadata": {
        "id": "L0CRp6Gn-vn6",
        "outputId": "ead3075c-fa71-4569-ec60-bd48c79e6fe3",
        "colab": {
          "base_uri": "https://localhost:8080/"
        }
      },
      "execution_count": 68,
      "outputs": [
        {
          "output_type": "stream",
          "name": "stdout",
          "text": [
            "Drive already mounted at /content/drive; to attempt to forcibly remount, call drive.mount(\"/content/drive\", force_remount=True).\n",
            "Image shape: (32, 32, 3)\n",
            "Total number of training samples: 50000\n",
            "Total number of validation samples: 10000\n",
            "Model: \"sequential_5\"\n",
            "_________________________________________________________________\n",
            " Layer (type)                Output Shape              Param #   \n",
            "=================================================================\n",
            " conv2d_15 (Conv2D)          (None, 32, 32, 128)       3584      \n",
            "                                                                 \n",
            " activation_15 (Activation)  (None, 32, 32, 128)       0         \n",
            "                                                                 \n",
            " max_pooling2d_15 (MaxPoolin  (None, 16, 16, 128)      0         \n",
            " g2D)                                                            \n",
            "                                                                 \n",
            " conv2d_16 (Conv2D)          (None, 16, 16, 256)       295168    \n",
            "                                                                 \n",
            " activation_16 (Activation)  (None, 16, 16, 256)       0         \n",
            "                                                                 \n",
            " max_pooling2d_16 (MaxPoolin  (None, 8, 8, 256)        0         \n",
            " g2D)                                                            \n",
            "                                                                 \n",
            " conv2d_17 (Conv2D)          (None, 8, 8, 512)         1180160   \n",
            "                                                                 \n",
            " activation_17 (Activation)  (None, 8, 8, 512)         0         \n",
            "                                                                 \n",
            " max_pooling2d_17 (MaxPoolin  (None, 4, 4, 512)        0         \n",
            " g2D)                                                            \n",
            "                                                                 \n",
            " average_pooling2d_5 (Averag  (None, 2, 2, 512)        0         \n",
            " ePooling2D)                                                     \n",
            "                                                                 \n",
            " flatten_5 (Flatten)         (None, 2048)              0         \n",
            "                                                                 \n",
            " dense_14 (Dense)            (None, 50)                102450    \n",
            "                                                                 \n",
            " dense_15 (Dense)            (None, 50)                2550      \n",
            "                                                                 \n",
            " dense_16 (Dense)            (None, 10)                510       \n",
            "                                                                 \n",
            "=================================================================\n",
            "Total params: 1,584,422\n",
            "Trainable params: 1,584,422\n",
            "Non-trainable params: 0\n",
            "_________________________________________________________________\n"
          ]
        },
        {
          "output_type": "stream",
          "name": "stderr",
          "text": [
            "/usr/local/lib/python3.8/dist-packages/keras/optimizers/optimizer_v2/rmsprop.py:135: UserWarning: The `lr` argument is deprecated, use `learning_rate` instead.\n",
            "  super(RMSprop, self).__init__(name, **kwargs)\n"
          ]
        },
        {
          "output_type": "stream",
          "name": "stdout",
          "text": [
            "Epoch 1/20\n",
            "1563/1563 [==============================] - 16s 10ms/step - loss: 0.4108 - accuracy: 0.8592 - val_loss: 0.7682 - val_accuracy: 0.7497\n",
            "Epoch 2/20\n",
            "1563/1563 [==============================] - 15s 10ms/step - loss: 0.3825 - accuracy: 0.8696 - val_loss: 0.7072 - val_accuracy: 0.7735\n",
            "Epoch 3/20\n",
            "1563/1563 [==============================] - 15s 10ms/step - loss: 0.3544 - accuracy: 0.8799 - val_loss: 0.7098 - val_accuracy: 0.7773\n",
            "Epoch 4/20\n",
            "1563/1563 [==============================] - 15s 10ms/step - loss: 0.3270 - accuracy: 0.8867 - val_loss: 0.7054 - val_accuracy: 0.7813\n",
            "Epoch 5/20\n",
            "1563/1563 [==============================] - 15s 10ms/step - loss: 0.3031 - accuracy: 0.8980 - val_loss: 0.7698 - val_accuracy: 0.7686\n",
            "Epoch 6/20\n",
            "1563/1563 [==============================] - 15s 10ms/step - loss: 0.2770 - accuracy: 0.9049 - val_loss: 0.7747 - val_accuracy: 0.7740\n",
            "Epoch 7/20\n",
            "1563/1563 [==============================] - 15s 10ms/step - loss: 0.2511 - accuracy: 0.9157 - val_loss: 0.7725 - val_accuracy: 0.7783\n",
            "Epoch 8/20\n",
            "1563/1563 [==============================] - 15s 10ms/step - loss: 0.2287 - accuracy: 0.9234 - val_loss: 0.8454 - val_accuracy: 0.7664\n",
            "Epoch 9/20\n",
            "1563/1563 [==============================] - 15s 10ms/step - loss: 0.2070 - accuracy: 0.9303 - val_loss: 0.7600 - val_accuracy: 0.7838\n",
            "Epoch 10/20\n",
            "1563/1563 [==============================] - 15s 10ms/step - loss: 0.1840 - accuracy: 0.9382 - val_loss: 0.9252 - val_accuracy: 0.7546\n",
            "Epoch 11/20\n",
            "1563/1563 [==============================] - 15s 10ms/step - loss: 0.1633 - accuracy: 0.9455 - val_loss: 0.8626 - val_accuracy: 0.7742\n",
            "Epoch 12/20\n",
            "1563/1563 [==============================] - 15s 10ms/step - loss: 0.1466 - accuracy: 0.9517 - val_loss: 0.8857 - val_accuracy: 0.7724\n",
            "Epoch 13/20\n",
            "1563/1563 [==============================] - 16s 10ms/step - loss: 0.1285 - accuracy: 0.9584 - val_loss: 0.8948 - val_accuracy: 0.7818\n",
            "Epoch 14/20\n",
            "1563/1563 [==============================] - 16s 10ms/step - loss: 0.1112 - accuracy: 0.9637 - val_loss: 1.0489 - val_accuracy: 0.7611\n",
            "Epoch 15/20\n",
            "1563/1563 [==============================] - 15s 10ms/step - loss: 0.0998 - accuracy: 0.9681 - val_loss: 0.9265 - val_accuracy: 0.7817\n",
            "Epoch 16/20\n",
            "1563/1563 [==============================] - 15s 10ms/step - loss: 0.0866 - accuracy: 0.9724 - val_loss: 0.9957 - val_accuracy: 0.7841\n",
            "Epoch 17/20\n",
            "1563/1563 [==============================] - 16s 10ms/step - loss: 0.0764 - accuracy: 0.9757 - val_loss: 1.0128 - val_accuracy: 0.7865\n",
            "Epoch 18/20\n",
            "1563/1563 [==============================] - 15s 10ms/step - loss: 0.0666 - accuracy: 0.9786 - val_loss: 1.0434 - val_accuracy: 0.7803\n",
            "Epoch 19/20\n",
            "1563/1563 [==============================] - 15s 10ms/step - loss: 0.0589 - accuracy: 0.9817 - val_loss: 1.0675 - val_accuracy: 0.7883\n",
            "Epoch 20/20\n",
            "1563/1563 [==============================] - 15s 10ms/step - loss: 0.0523 - accuracy: 0.9837 - val_loss: 1.0957 - val_accuracy: 0.7832\n",
            "Validation loss: 1.0956721305847168\n",
            "Validation accuracy: 0.7832000255584717\n"
          ]
        },
        {
          "output_type": "stream",
          "name": "stderr",
          "text": [
            "WARNING:absl:Found untraced functions such as _jit_compiled_convolution_op, _jit_compiled_convolution_op, _jit_compiled_convolution_op while saving (showing 3 of 3). These functions will not be directly callable after loading.\n"
          ]
        }
      ]
    },
    {
      "cell_type": "code",
      "source": [
        "import tensorflow as tf\n",
        "tf.compat.v1.logging.set_verbosity(tf.compat.v1.logging.ERROR)\n",
        "from keras.models import Sequential\n",
        "from keras.layers import Dense, Activation\n",
        "from keras.utils import np_utils\n",
        "from keras.datasets import cifar10\n",
        "from keras.optimizers import RMSprop\n",
        "from keras.layers import Conv2D, MaxPooling2D, Flatten, AveragePooling2D\n",
        "from google.colab import drive\n",
        "from keras.models import load_model\n",
        "drive.mount('/content/drive')\n",
        "\n",
        "(x_train, y_train), (x_test, y_test) = cifar10.load_data()\n",
        "\n",
        "print('Image shape: {0}'.format(x_train.shape[1:]))\n",
        "print('Total number of training samples: {0}'.format(x_train.shape[0]))\n",
        "print('Total number of validation samples: {0}'.format(x_test.shape[0]))\n",
        "\n",
        "x_train = x_train.astype('float32')\n",
        "x_test = x_test.astype('float32')\n",
        "x_train /= 255\n",
        "x_test /= 255\n",
        "y_train_class = np_utils.to_categorical(y_train, 10)\n",
        "y_test_class = np_utils.to_categorical(y_test, 10)\n",
        "\n",
        "model = load_model('/content/drive/MyDrive/dl-cw/dense_6')\n",
        "\n",
        "opt = RMSprop(lr=0.0001, decay=1e-6)\n",
        "\n",
        "model.summary()\n",
        "model.compile(loss='categorical_crossentropy', optimizer=opt, metrics=['accuracy'])\n",
        "model.fit(x_train, y_train_class, batch_size=32, epochs=20, validation_data=(x_test, y_test_class))\n",
        "\n",
        "score = model.evaluate(x_test, y_test_class, verbose=0)\n",
        "print('Validation loss:', score[0])\n",
        "print('Validation accuracy:', score[1])\n",
        "\n",
        "model.save('/content/drive/MyDrive/dl-cw/dense_6')"
      ],
      "metadata": {
        "id": "znrUHWnm-xgS",
        "outputId": "02007e6e-9484-4d6d-8112-d3f57cc93328",
        "colab": {
          "base_uri": "https://localhost:8080/"
        }
      },
      "execution_count": 69,
      "outputs": [
        {
          "output_type": "stream",
          "name": "stdout",
          "text": [
            "Drive already mounted at /content/drive; to attempt to forcibly remount, call drive.mount(\"/content/drive\", force_remount=True).\n",
            "Image shape: (32, 32, 3)\n",
            "Total number of training samples: 50000\n",
            "Total number of validation samples: 10000\n",
            "Model: \"sequential_6\"\n",
            "_________________________________________________________________\n",
            " Layer (type)                Output Shape              Param #   \n",
            "=================================================================\n",
            " conv2d_18 (Conv2D)          (None, 32, 32, 128)       3584      \n",
            "                                                                 \n",
            " activation_18 (Activation)  (None, 32, 32, 128)       0         \n",
            "                                                                 \n",
            " max_pooling2d_18 (MaxPoolin  (None, 16, 16, 128)      0         \n",
            " g2D)                                                            \n",
            "                                                                 \n",
            " conv2d_19 (Conv2D)          (None, 16, 16, 256)       295168    \n",
            "                                                                 \n",
            " activation_19 (Activation)  (None, 16, 16, 256)       0         \n",
            "                                                                 \n",
            " max_pooling2d_19 (MaxPoolin  (None, 8, 8, 256)        0         \n",
            " g2D)                                                            \n",
            "                                                                 \n",
            " conv2d_20 (Conv2D)          (None, 8, 8, 512)         1180160   \n",
            "                                                                 \n",
            " activation_20 (Activation)  (None, 8, 8, 512)         0         \n",
            "                                                                 \n",
            " max_pooling2d_20 (MaxPoolin  (None, 4, 4, 512)        0         \n",
            " g2D)                                                            \n",
            "                                                                 \n",
            " average_pooling2d_6 (Averag  (None, 2, 2, 512)        0         \n",
            " ePooling2D)                                                     \n",
            "                                                                 \n",
            " flatten_6 (Flatten)         (None, 2048)              0         \n",
            "                                                                 \n",
            " dense_17 (Dense)            (None, 100)               204900    \n",
            "                                                                 \n",
            " dense_18 (Dense)            (None, 50)                5050      \n",
            "                                                                 \n",
            " dense_19 (Dense)            (None, 10)                510       \n",
            "                                                                 \n",
            "=================================================================\n",
            "Total params: 1,689,372\n",
            "Trainable params: 1,689,372\n",
            "Non-trainable params: 0\n",
            "_________________________________________________________________\n"
          ]
        },
        {
          "output_type": "stream",
          "name": "stderr",
          "text": [
            "/usr/local/lib/python3.8/dist-packages/keras/optimizers/optimizer_v2/rmsprop.py:135: UserWarning: The `lr` argument is deprecated, use `learning_rate` instead.\n",
            "  super(RMSprop, self).__init__(name, **kwargs)\n"
          ]
        },
        {
          "output_type": "stream",
          "name": "stdout",
          "text": [
            "Epoch 1/20\n",
            "1563/1563 [==============================] - 16s 10ms/step - loss: 0.3140 - accuracy: 0.8916 - val_loss: 0.7242 - val_accuracy: 0.7750\n",
            "Epoch 2/20\n",
            "1563/1563 [==============================] - 17s 11ms/step - loss: 0.2833 - accuracy: 0.9047 - val_loss: 0.7614 - val_accuracy: 0.7727\n",
            "Epoch 3/20\n",
            "1563/1563 [==============================] - 16s 10ms/step - loss: 0.2569 - accuracy: 0.9123 - val_loss: 0.7014 - val_accuracy: 0.7908\n",
            "Epoch 4/20\n",
            "1563/1563 [==============================] - 15s 10ms/step - loss: 0.2273 - accuracy: 0.9237 - val_loss: 0.7487 - val_accuracy: 0.7860\n",
            "Epoch 5/20\n",
            "1563/1563 [==============================] - 15s 10ms/step - loss: 0.2029 - accuracy: 0.9317 - val_loss: 0.8554 - val_accuracy: 0.7702\n",
            "Epoch 6/20\n",
            "1563/1563 [==============================] - 15s 10ms/step - loss: 0.1800 - accuracy: 0.9405 - val_loss: 0.9089 - val_accuracy: 0.7672\n",
            "Epoch 7/20\n",
            "1563/1563 [==============================] - 15s 10ms/step - loss: 0.1559 - accuracy: 0.9479 - val_loss: 0.8418 - val_accuracy: 0.7792\n",
            "Epoch 8/20\n",
            "1563/1563 [==============================] - 15s 10ms/step - loss: 0.1387 - accuracy: 0.9542 - val_loss: 0.8397 - val_accuracy: 0.7907\n",
            "Epoch 9/20\n",
            "1563/1563 [==============================] - 15s 10ms/step - loss: 0.1192 - accuracy: 0.9613 - val_loss: 0.9083 - val_accuracy: 0.7783\n",
            "Epoch 10/20\n",
            "1563/1563 [==============================] - 15s 10ms/step - loss: 0.1016 - accuracy: 0.9668 - val_loss: 0.9154 - val_accuracy: 0.7909\n",
            "Epoch 11/20\n",
            "1563/1563 [==============================] - 15s 10ms/step - loss: 0.0886 - accuracy: 0.9710 - val_loss: 0.9507 - val_accuracy: 0.7919\n",
            "Epoch 12/20\n",
            "1563/1563 [==============================] - 15s 10ms/step - loss: 0.0794 - accuracy: 0.9750 - val_loss: 1.1051 - val_accuracy: 0.7735\n",
            "Epoch 13/20\n",
            "1563/1563 [==============================] - 15s 10ms/step - loss: 0.0683 - accuracy: 0.9781 - val_loss: 0.9820 - val_accuracy: 0.7948\n",
            "Epoch 14/20\n",
            "1563/1563 [==============================] - 16s 10ms/step - loss: 0.0579 - accuracy: 0.9810 - val_loss: 1.1155 - val_accuracy: 0.7861\n",
            "Epoch 15/20\n",
            "1563/1563 [==============================] - 16s 10ms/step - loss: 0.0537 - accuracy: 0.9824 - val_loss: 1.0417 - val_accuracy: 0.7912\n",
            "Epoch 16/20\n",
            "1563/1563 [==============================] - 15s 10ms/step - loss: 0.0484 - accuracy: 0.9849 - val_loss: 1.1012 - val_accuracy: 0.7906\n",
            "Epoch 17/20\n",
            "1563/1563 [==============================] - 15s 10ms/step - loss: 0.0428 - accuracy: 0.9866 - val_loss: 1.3046 - val_accuracy: 0.7758\n",
            "Epoch 18/20\n",
            "1563/1563 [==============================] - 15s 10ms/step - loss: 0.0401 - accuracy: 0.9871 - val_loss: 1.3521 - val_accuracy: 0.7772\n",
            "Epoch 19/20\n",
            "1563/1563 [==============================] - 15s 10ms/step - loss: 0.0358 - accuracy: 0.9890 - val_loss: 1.1880 - val_accuracy: 0.7925\n",
            "Epoch 20/20\n",
            "1563/1563 [==============================] - 15s 10ms/step - loss: 0.0329 - accuracy: 0.9892 - val_loss: 1.2523 - val_accuracy: 0.7958\n",
            "Validation loss: 1.2522937059402466\n",
            "Validation accuracy: 0.795799970626831\n"
          ]
        },
        {
          "output_type": "stream",
          "name": "stderr",
          "text": [
            "WARNING:absl:Found untraced functions such as _jit_compiled_convolution_op, _jit_compiled_convolution_op, _jit_compiled_convolution_op while saving (showing 3 of 3). These functions will not be directly callable after loading.\n"
          ]
        }
      ]
    },
    {
      "cell_type": "code",
      "source": [
        "import tensorflow as tf\n",
        "tf.compat.v1.logging.set_verbosity(tf.compat.v1.logging.ERROR)\n",
        "from keras.models import Sequential\n",
        "from keras.layers import Dense, Activation\n",
        "from keras.utils import np_utils\n",
        "from keras.datasets import cifar10\n",
        "from keras.optimizers import RMSprop\n",
        "from keras.layers import Conv2D, MaxPooling2D, Flatten, AveragePooling2D\n",
        "from google.colab import drive\n",
        "from keras.models import load_model\n",
        "drive.mount('/content/drive')\n",
        "\n",
        "(x_train, y_train), (x_test, y_test) = cifar10.load_data()\n",
        "\n",
        "print('Image shape: {0}'.format(x_train.shape[1:]))\n",
        "print('Total number of training samples: {0}'.format(x_train.shape[0]))\n",
        "print('Total number of validation samples: {0}'.format(x_test.shape[0]))\n",
        "\n",
        "x_train = x_train.astype('float32')\n",
        "x_test = x_test.astype('float32')\n",
        "x_train /= 255\n",
        "x_test /= 255\n",
        "y_train_class = np_utils.to_categorical(y_train, 10)\n",
        "y_test_class = np_utils.to_categorical(y_test, 10)\n",
        "\n",
        "model = load_model('/content/drive/MyDrive/dl-cw/pool_2')\n",
        "\n",
        "opt = RMSprop(lr=0.0001, decay=1e-6)\n",
        "\n",
        "model.summary()\n",
        "model.compile(loss='categorical_crossentropy', optimizer=opt, metrics=['accuracy'])\n",
        "model.fit(x_train, y_train_class, batch_size=32, epochs=20, validation_data=(x_test, y_test_class))\n",
        "\n",
        "score = model.evaluate(x_test, y_test_class, verbose=0)\n",
        "print('Validation loss:', score[0])\n",
        "print('Validation accuracy:', score[1])\n",
        "\n",
        "model.save('/content/drive/MyDrive/dl-cw/pool_2')"
      ],
      "metadata": {
        "id": "CeS8yWzm-1gk",
        "outputId": "f3071cce-f1e9-4aa1-c0e3-28d7ba3f31c5",
        "colab": {
          "base_uri": "https://localhost:8080/"
        }
      },
      "execution_count": 70,
      "outputs": [
        {
          "output_type": "stream",
          "name": "stdout",
          "text": [
            "Drive already mounted at /content/drive; to attempt to forcibly remount, call drive.mount(\"/content/drive\", force_remount=True).\n",
            "Image shape: (32, 32, 3)\n",
            "Total number of training samples: 50000\n",
            "Total number of validation samples: 10000\n",
            "Model: \"sequential_21\"\n",
            "_________________________________________________________________\n",
            " Layer (type)                Output Shape              Param #   \n",
            "=================================================================\n",
            " conv2d_57 (Conv2D)          (None, 32, 32, 128)       3584      \n",
            "                                                                 \n",
            " activation_57 (Activation)  (None, 32, 32, 128)       0         \n",
            "                                                                 \n",
            " max_pooling2d_55 (MaxPoolin  (None, 16, 16, 128)      0         \n",
            " g2D)                                                            \n",
            "                                                                 \n",
            " conv2d_58 (Conv2D)          (None, 16, 16, 256)       295168    \n",
            "                                                                 \n",
            " activation_58 (Activation)  (None, 16, 16, 256)       0         \n",
            "                                                                 \n",
            " max_pooling2d_56 (MaxPoolin  (None, 8, 8, 256)        0         \n",
            " g2D)                                                            \n",
            "                                                                 \n",
            " conv2d_59 (Conv2D)          (None, 8, 8, 512)         1180160   \n",
            "                                                                 \n",
            " activation_59 (Activation)  (None, 8, 8, 512)         0         \n",
            "                                                                 \n",
            " max_pooling2d_57 (MaxPoolin  (None, 4, 4, 512)        0         \n",
            " g2D)                                                            \n",
            "                                                                 \n",
            " max_pooling2d_58 (MaxPoolin  (None, 2, 2, 512)        0         \n",
            " g2D)                                                            \n",
            "                                                                 \n",
            " flatten_21 (Flatten)        (None, 2048)              0         \n",
            "                                                                 \n",
            " dense_50 (Dense)            (None, 50)                102450    \n",
            "                                                                 \n",
            " dense_51 (Dense)            (None, 50)                2550      \n",
            "                                                                 \n",
            " dense_52 (Dense)            (None, 10)                510       \n",
            "                                                                 \n",
            "=================================================================\n",
            "Total params: 1,584,422\n",
            "Trainable params: 1,584,422\n",
            "Non-trainable params: 0\n",
            "_________________________________________________________________\n"
          ]
        },
        {
          "output_type": "stream",
          "name": "stderr",
          "text": [
            "/usr/local/lib/python3.8/dist-packages/keras/optimizers/optimizer_v2/rmsprop.py:135: UserWarning: The `lr` argument is deprecated, use `learning_rate` instead.\n",
            "  super(RMSprop, self).__init__(name, **kwargs)\n"
          ]
        },
        {
          "output_type": "stream",
          "name": "stdout",
          "text": [
            "Epoch 1/20\n",
            "1563/1563 [==============================] - 16s 10ms/step - loss: 0.2122 - accuracy: 0.9297 - val_loss: 0.9757 - val_accuracy: 0.7392\n",
            "Epoch 2/20\n",
            "1563/1563 [==============================] - 15s 10ms/step - loss: 0.1838 - accuracy: 0.9383 - val_loss: 1.0187 - val_accuracy: 0.7436\n",
            "Epoch 3/20\n",
            "1563/1563 [==============================] - 15s 10ms/step - loss: 0.1577 - accuracy: 0.9469 - val_loss: 1.1080 - val_accuracy: 0.7334\n",
            "Epoch 4/20\n",
            "1563/1563 [==============================] - 16s 10ms/step - loss: 0.1324 - accuracy: 0.9564 - val_loss: 1.0918 - val_accuracy: 0.7452\n",
            "Epoch 5/20\n",
            "1563/1563 [==============================] - 16s 10ms/step - loss: 0.1121 - accuracy: 0.9626 - val_loss: 1.1109 - val_accuracy: 0.7512\n",
            "Epoch 6/20\n",
            "1563/1563 [==============================] - 15s 10ms/step - loss: 0.0965 - accuracy: 0.9685 - val_loss: 1.2960 - val_accuracy: 0.7267\n",
            "Epoch 7/20\n",
            "1563/1563 [==============================] - 15s 10ms/step - loss: 0.0814 - accuracy: 0.9745 - val_loss: 1.1708 - val_accuracy: 0.7586\n",
            "Epoch 8/20\n",
            "1563/1563 [==============================] - 15s 10ms/step - loss: 0.0677 - accuracy: 0.9789 - val_loss: 1.4044 - val_accuracy: 0.7430\n",
            "Epoch 9/20\n",
            "1563/1563 [==============================] - 15s 10ms/step - loss: 0.0607 - accuracy: 0.9805 - val_loss: 1.2511 - val_accuracy: 0.7570\n",
            "Epoch 10/20\n",
            "1563/1563 [==============================] - 15s 10ms/step - loss: 0.0530 - accuracy: 0.9834 - val_loss: 1.3984 - val_accuracy: 0.7500\n",
            "Epoch 11/20\n",
            "1563/1563 [==============================] - 15s 10ms/step - loss: 0.0464 - accuracy: 0.9855 - val_loss: 1.6620 - val_accuracy: 0.7301\n",
            "Epoch 12/20\n",
            "1563/1563 [==============================] - 15s 10ms/step - loss: 0.0438 - accuracy: 0.9865 - val_loss: 1.6449 - val_accuracy: 0.7358\n",
            "Epoch 13/20\n",
            "1563/1563 [==============================] - 15s 10ms/step - loss: 0.0380 - accuracy: 0.9884 - val_loss: 1.5018 - val_accuracy: 0.7578\n",
            "Epoch 14/20\n",
            "1563/1563 [==============================] - 15s 10ms/step - loss: 0.0365 - accuracy: 0.9887 - val_loss: 1.4593 - val_accuracy: 0.7664\n",
            "Epoch 15/20\n",
            "1563/1563 [==============================] - 15s 10ms/step - loss: 0.0324 - accuracy: 0.9896 - val_loss: 1.5886 - val_accuracy: 0.7556\n",
            "Epoch 16/20\n",
            "1563/1563 [==============================] - 16s 10ms/step - loss: 0.0307 - accuracy: 0.9900 - val_loss: 1.5946 - val_accuracy: 0.7569\n",
            "Epoch 17/20\n",
            "1563/1563 [==============================] - 16s 10ms/step - loss: 0.0297 - accuracy: 0.9904 - val_loss: 1.8782 - val_accuracy: 0.7415\n",
            "Epoch 18/20\n",
            "1563/1563 [==============================] - 16s 10ms/step - loss: 0.0280 - accuracy: 0.9914 - val_loss: 1.7430 - val_accuracy: 0.7459\n",
            "Epoch 19/20\n",
            "1563/1563 [==============================] - 16s 10ms/step - loss: 0.0266 - accuracy: 0.9911 - val_loss: 1.6609 - val_accuracy: 0.7635\n",
            "Epoch 20/20\n",
            "1563/1563 [==============================] - 15s 10ms/step - loss: 0.0241 - accuracy: 0.9925 - val_loss: 1.7551 - val_accuracy: 0.7617\n",
            "Validation loss: 1.7551229000091553\n",
            "Validation accuracy: 0.7616999745368958\n"
          ]
        },
        {
          "output_type": "stream",
          "name": "stderr",
          "text": [
            "WARNING:absl:Found untraced functions such as _jit_compiled_convolution_op, _jit_compiled_convolution_op, _jit_compiled_convolution_op while saving (showing 3 of 3). These functions will not be directly callable after loading.\n"
          ]
        }
      ]
    },
    {
      "cell_type": "code",
      "source": [
        "import tensorflow as tf\n",
        "tf.compat.v1.logging.set_verbosity(tf.compat.v1.logging.ERROR)\n",
        "from keras.models import Sequential\n",
        "from keras.layers import Dense, Activation\n",
        "from keras.utils import np_utils\n",
        "from keras.datasets import cifar10\n",
        "from keras.optimizers import RMSprop\n",
        "from keras.layers import Conv2D, MaxPooling2D, Flatten, AveragePooling2D\n",
        "from google.colab import drive\n",
        "from keras.models import load_model\n",
        "drive.mount('/content/drive')\n",
        "\n",
        "(x_train, y_train), (x_test, y_test) = cifar10.load_data()\n",
        "\n",
        "print('Image shape: {0}'.format(x_train.shape[1:]))\n",
        "print('Total number of training samples: {0}'.format(x_train.shape[0]))\n",
        "print('Total number of validation samples: {0}'.format(x_test.shape[0]))\n",
        "\n",
        "x_train = x_train.astype('float32')\n",
        "x_test = x_test.astype('float32')\n",
        "x_train /= 255\n",
        "x_test /= 255\n",
        "y_train_class = np_utils.to_categorical(y_train, 10)\n",
        "y_test_class = np_utils.to_categorical(y_test, 10)\n",
        "\n",
        "model = load_model('/content/drive/MyDrive/dl-cw/pool_3')\n",
        "\n",
        "opt = RMSprop(lr=0.0001, decay=1e-6)\n",
        "\n",
        "model.summary()\n",
        "model.compile(loss='categorical_crossentropy', optimizer=opt, metrics=['accuracy'])\n",
        "model.fit(x_train, y_train_class, batch_size=32, epochs=20, validation_data=(x_test, y_test_class))\n",
        "\n",
        "score = model.evaluate(x_test, y_test_class, verbose=0)\n",
        "print('Validation loss:', score[0])\n",
        "print('Validation accuracy:', score[1])\n",
        "\n",
        "model.save('/content/drive/MyDrive/dl-cw/pool_3')"
      ],
      "metadata": {
        "id": "n481J8iO-7Ws",
        "outputId": "7ad19fe1-6e90-4411-8b6d-2ee2487ab57f",
        "colab": {
          "base_uri": "https://localhost:8080/"
        }
      },
      "execution_count": 71,
      "outputs": [
        {
          "output_type": "stream",
          "name": "stdout",
          "text": [
            "Drive already mounted at /content/drive; to attempt to forcibly remount, call drive.mount(\"/content/drive\", force_remount=True).\n",
            "Image shape: (32, 32, 3)\n",
            "Total number of training samples: 50000\n",
            "Total number of validation samples: 10000\n",
            "Model: \"sequential_22\"\n",
            "_________________________________________________________________\n",
            " Layer (type)                Output Shape              Param #   \n",
            "=================================================================\n",
            " conv2d_60 (Conv2D)          (None, 32, 32, 128)       3584      \n",
            "                                                                 \n",
            " activation_60 (Activation)  (None, 32, 32, 128)       0         \n",
            "                                                                 \n",
            " average_pooling2d_23 (Avera  (None, 16, 16, 128)      0         \n",
            " gePooling2D)                                                    \n",
            "                                                                 \n",
            " conv2d_61 (Conv2D)          (None, 16, 16, 256)       295168    \n",
            "                                                                 \n",
            " activation_61 (Activation)  (None, 16, 16, 256)       0         \n",
            "                                                                 \n",
            " average_pooling2d_24 (Avera  (None, 8, 8, 256)        0         \n",
            " gePooling2D)                                                    \n",
            "                                                                 \n",
            " conv2d_62 (Conv2D)          (None, 8, 8, 512)         1180160   \n",
            "                                                                 \n",
            " activation_62 (Activation)  (None, 8, 8, 512)         0         \n",
            "                                                                 \n",
            " average_pooling2d_25 (Avera  (None, 4, 4, 512)        0         \n",
            " gePooling2D)                                                    \n",
            "                                                                 \n",
            " average_pooling2d_26 (Avera  (None, 2, 2, 512)        0         \n",
            " gePooling2D)                                                    \n",
            "                                                                 \n",
            " flatten_22 (Flatten)        (None, 2048)              0         \n",
            "                                                                 \n",
            " dense_53 (Dense)            (None, 50)                102450    \n",
            "                                                                 \n",
            " dense_54 (Dense)            (None, 50)                2550      \n",
            "                                                                 \n",
            " dense_55 (Dense)            (None, 10)                510       \n",
            "                                                                 \n",
            "=================================================================\n",
            "Total params: 1,584,422\n",
            "Trainable params: 1,584,422\n",
            "Non-trainable params: 0\n",
            "_________________________________________________________________\n"
          ]
        },
        {
          "output_type": "stream",
          "name": "stderr",
          "text": [
            "/usr/local/lib/python3.8/dist-packages/keras/optimizers/optimizer_v2/rmsprop.py:135: UserWarning: The `lr` argument is deprecated, use `learning_rate` instead.\n",
            "  super(RMSprop, self).__init__(name, **kwargs)\n"
          ]
        },
        {
          "output_type": "stream",
          "name": "stdout",
          "text": [
            "Epoch 1/20\n",
            "1563/1563 [==============================] - 16s 10ms/step - loss: 0.7530 - accuracy: 0.7363 - val_loss: 0.8655 - val_accuracy: 0.6943\n",
            "Epoch 2/20\n",
            "1563/1563 [==============================] - 15s 10ms/step - loss: 0.7308 - accuracy: 0.7465 - val_loss: 0.9773 - val_accuracy: 0.6693\n",
            "Epoch 3/20\n",
            "1563/1563 [==============================] - 15s 10ms/step - loss: 0.7121 - accuracy: 0.7529 - val_loss: 0.8278 - val_accuracy: 0.7138\n",
            "Epoch 4/20\n",
            "1563/1563 [==============================] - 15s 10ms/step - loss: 0.6908 - accuracy: 0.7579 - val_loss: 0.7689 - val_accuracy: 0.7303\n",
            "Epoch 5/20\n",
            "1563/1563 [==============================] - 15s 10ms/step - loss: 0.6740 - accuracy: 0.7655 - val_loss: 0.8092 - val_accuracy: 0.7140\n",
            "Epoch 6/20\n",
            "1563/1563 [==============================] - 15s 10ms/step - loss: 0.6555 - accuracy: 0.7720 - val_loss: 0.7744 - val_accuracy: 0.7321\n",
            "Epoch 7/20\n",
            "1563/1563 [==============================] - 15s 10ms/step - loss: 0.6393 - accuracy: 0.7784 - val_loss: 0.7884 - val_accuracy: 0.7274\n",
            "Epoch 8/20\n",
            "1563/1563 [==============================] - 15s 10ms/step - loss: 0.6228 - accuracy: 0.7833 - val_loss: 0.7906 - val_accuracy: 0.7284\n",
            "Epoch 9/20\n",
            "1563/1563 [==============================] - 15s 10ms/step - loss: 0.6086 - accuracy: 0.7875 - val_loss: 0.7574 - val_accuracy: 0.7398\n",
            "Epoch 10/20\n",
            "1563/1563 [==============================] - 15s 10ms/step - loss: 0.5913 - accuracy: 0.7925 - val_loss: 0.7715 - val_accuracy: 0.7263\n",
            "Epoch 11/20\n",
            "1563/1563 [==============================] - 15s 10ms/step - loss: 0.5763 - accuracy: 0.7995 - val_loss: 0.7240 - val_accuracy: 0.7517\n",
            "Epoch 12/20\n",
            "1563/1563 [==============================] - 15s 10ms/step - loss: 0.5619 - accuracy: 0.8048 - val_loss: 0.7769 - val_accuracy: 0.7331\n",
            "Epoch 13/20\n",
            "1563/1563 [==============================] - 15s 10ms/step - loss: 0.5469 - accuracy: 0.8103 - val_loss: 0.8317 - val_accuracy: 0.7261\n",
            "Epoch 14/20\n",
            "1563/1563 [==============================] - 15s 10ms/step - loss: 0.5329 - accuracy: 0.8136 - val_loss: 0.7203 - val_accuracy: 0.7512\n",
            "Epoch 15/20\n",
            "1563/1563 [==============================] - 15s 10ms/step - loss: 0.5214 - accuracy: 0.8185 - val_loss: 0.7729 - val_accuracy: 0.7386\n",
            "Epoch 16/20\n",
            "1563/1563 [==============================] - 15s 10ms/step - loss: 0.5056 - accuracy: 0.8233 - val_loss: 0.6773 - val_accuracy: 0.7690\n",
            "Epoch 17/20\n",
            "1563/1563 [==============================] - 15s 10ms/step - loss: 0.4930 - accuracy: 0.8299 - val_loss: 0.6979 - val_accuracy: 0.7648\n",
            "Epoch 18/20\n",
            "1563/1563 [==============================] - 15s 10ms/step - loss: 0.4793 - accuracy: 0.8328 - val_loss: 0.7202 - val_accuracy: 0.7566\n",
            "Epoch 19/20\n",
            "1563/1563 [==============================] - 15s 10ms/step - loss: 0.4675 - accuracy: 0.8364 - val_loss: 0.7026 - val_accuracy: 0.7637\n",
            "Epoch 20/20\n",
            "1563/1563 [==============================] - 16s 10ms/step - loss: 0.4560 - accuracy: 0.8403 - val_loss: 0.6753 - val_accuracy: 0.7710\n",
            "Validation loss: 0.675290048122406\n",
            "Validation accuracy: 0.7710000276565552\n"
          ]
        },
        {
          "output_type": "stream",
          "name": "stderr",
          "text": [
            "WARNING:absl:Found untraced functions such as _jit_compiled_convolution_op, _jit_compiled_convolution_op, _jit_compiled_convolution_op while saving (showing 3 of 3). These functions will not be directly callable after loading.\n"
          ]
        }
      ]
    },
    {
      "cell_type": "code",
      "source": [
        "import tensorflow as tf\n",
        "tf.compat.v1.logging.set_verbosity(tf.compat.v1.logging.ERROR)\n",
        "from keras.models import Sequential\n",
        "from keras.layers import Dense, Activation\n",
        "from keras.utils import np_utils\n",
        "from keras.datasets import cifar10\n",
        "from keras.optimizers import RMSprop\n",
        "from keras.layers import Conv2D, MaxPooling2D, Flatten, AveragePooling2D\n",
        "from google.colab import drive\n",
        "from keras.models import load_model\n",
        "drive.mount('/content/drive')\n",
        "\n",
        "(x_train, y_train), (x_test, y_test) = cifar10.load_data()\n",
        "\n",
        "print('Image shape: {0}'.format(x_train.shape[1:]))\n",
        "print('Total number of training samples: {0}'.format(x_train.shape[0]))\n",
        "print('Total number of validation samples: {0}'.format(x_test.shape[0]))\n",
        "\n",
        "x_train = x_train.astype('float32')\n",
        "x_test = x_test.astype('float32')\n",
        "x_train /= 255\n",
        "x_test /= 255\n",
        "y_train_class = np_utils.to_categorical(y_train, 10)\n",
        "y_test_class = np_utils.to_categorical(y_test, 10)\n",
        "\n",
        "model = load_model('/content/drive/MyDrive/dl-cw/pool_4')\n",
        "\n",
        "opt = RMSprop(lr=0.0001, decay=1e-6)\n",
        "\n",
        "model.summary()\n",
        "model.compile(loss='categorical_crossentropy', optimizer=opt, metrics=['accuracy'])\n",
        "model.fit(x_train, y_train_class, batch_size=32, epochs=20, validation_data=(x_test, y_test_class))\n",
        "\n",
        "score = model.evaluate(x_test, y_test_class, verbose=0)\n",
        "print('Validation loss:', score[0])\n",
        "print('Validation accuracy:', score[1])\n",
        "\n",
        "model.save('/content/drive/MyDrive/dl-cw/pool_4')"
      ],
      "metadata": {
        "id": "n8mf6kRO-_pZ",
        "outputId": "e732c58b-5d68-4929-c8da-ee3a49668c61",
        "colab": {
          "base_uri": "https://localhost:8080/"
        }
      },
      "execution_count": 72,
      "outputs": [
        {
          "output_type": "stream",
          "name": "stdout",
          "text": [
            "Drive already mounted at /content/drive; to attempt to forcibly remount, call drive.mount(\"/content/drive\", force_remount=True).\n",
            "Image shape: (32, 32, 3)\n",
            "Total number of training samples: 50000\n",
            "Total number of validation samples: 10000\n",
            "Model: \"sequential_23\"\n",
            "_________________________________________________________________\n",
            " Layer (type)                Output Shape              Param #   \n",
            "=================================================================\n",
            " conv2d_63 (Conv2D)          (None, 30, 30, 128)       3584      \n",
            "                                                                 \n",
            " activation_63 (Activation)  (None, 30, 30, 128)       0         \n",
            "                                                                 \n",
            " conv2d_64 (Conv2D)          (None, 28, 28, 256)       295168    \n",
            "                                                                 \n",
            " activation_64 (Activation)  (None, 28, 28, 256)       0         \n",
            "                                                                 \n",
            " conv2d_65 (Conv2D)          (None, 26, 26, 512)       1180160   \n",
            "                                                                 \n",
            " activation_65 (Activation)  (None, 26, 26, 512)       0         \n",
            "                                                                 \n",
            " flatten_23 (Flatten)        (None, 346112)            0         \n",
            "                                                                 \n",
            " dense_56 (Dense)            (None, 50)                17305650  \n",
            "                                                                 \n",
            " dense_57 (Dense)            (None, 50)                2550      \n",
            "                                                                 \n",
            " dense_58 (Dense)            (None, 10)                510       \n",
            "                                                                 \n",
            "=================================================================\n",
            "Total params: 18,787,622\n",
            "Trainable params: 18,787,622\n",
            "Non-trainable params: 0\n",
            "_________________________________________________________________\n"
          ]
        },
        {
          "output_type": "stream",
          "name": "stderr",
          "text": [
            "/usr/local/lib/python3.8/dist-packages/keras/optimizers/optimizer_v2/rmsprop.py:135: UserWarning: The `lr` argument is deprecated, use `learning_rate` instead.\n",
            "  super(RMSprop, self).__init__(name, **kwargs)\n"
          ]
        },
        {
          "output_type": "stream",
          "name": "stdout",
          "text": [
            "Epoch 1/20\n",
            "1563/1563 [==============================] - 61s 38ms/step - loss: 0.0240 - accuracy: 0.9917 - val_loss: 2.5273 - val_accuracy: 0.7068\n",
            "Epoch 2/20\n",
            "1563/1563 [==============================] - 59s 38ms/step - loss: 0.0237 - accuracy: 0.9922 - val_loss: 2.7345 - val_accuracy: 0.6944\n",
            "Epoch 3/20\n",
            "1563/1563 [==============================] - 60s 39ms/step - loss: 0.0206 - accuracy: 0.9934 - val_loss: 2.9229 - val_accuracy: 0.6924\n",
            "Epoch 4/20\n",
            "1563/1563 [==============================] - 60s 38ms/step - loss: 0.0209 - accuracy: 0.9927 - val_loss: 2.8488 - val_accuracy: 0.7020\n",
            "Epoch 5/20\n",
            "1563/1563 [==============================] - 60s 38ms/step - loss: 0.0199 - accuracy: 0.9934 - val_loss: 2.7750 - val_accuracy: 0.7047\n",
            "Epoch 6/20\n",
            "1563/1563 [==============================] - 58s 37ms/step - loss: 0.0186 - accuracy: 0.9936 - val_loss: 2.9243 - val_accuracy: 0.7010\n",
            "Epoch 7/20\n",
            "1563/1563 [==============================] - 60s 38ms/step - loss: 0.0197 - accuracy: 0.9937 - val_loss: 2.9031 - val_accuracy: 0.7060\n",
            "Epoch 8/20\n",
            "1563/1563 [==============================] - 60s 38ms/step - loss: 0.0166 - accuracy: 0.9942 - val_loss: 3.3573 - val_accuracy: 0.6956\n",
            "Epoch 9/20\n",
            "1563/1563 [==============================] - 60s 38ms/step - loss: 0.0178 - accuracy: 0.9945 - val_loss: 3.1209 - val_accuracy: 0.6949\n",
            "Epoch 10/20\n",
            "1563/1563 [==============================] - 60s 38ms/step - loss: 0.0149 - accuracy: 0.9949 - val_loss: 3.4904 - val_accuracy: 0.6993\n",
            "Epoch 11/20\n",
            "1563/1563 [==============================] - 58s 37ms/step - loss: 0.0151 - accuracy: 0.9953 - val_loss: 3.5460 - val_accuracy: 0.7002\n",
            "Epoch 12/20\n",
            "1563/1563 [==============================] - 60s 38ms/step - loss: 0.0160 - accuracy: 0.9951 - val_loss: 3.5886 - val_accuracy: 0.7028\n",
            "Epoch 13/20\n",
            "1563/1563 [==============================] - 60s 39ms/step - loss: 0.0158 - accuracy: 0.9949 - val_loss: 3.6480 - val_accuracy: 0.6936\n",
            "Epoch 14/20\n",
            "1563/1563 [==============================] - 59s 37ms/step - loss: 0.0167 - accuracy: 0.9947 - val_loss: 3.9841 - val_accuracy: 0.6920\n",
            "Epoch 15/20\n",
            "1563/1563 [==============================] - 58s 37ms/step - loss: 0.0151 - accuracy: 0.9955 - val_loss: 3.8229 - val_accuracy: 0.6995\n",
            "Epoch 16/20\n",
            "1563/1563 [==============================] - 60s 38ms/step - loss: 0.0143 - accuracy: 0.9956 - val_loss: 3.8020 - val_accuracy: 0.6975\n",
            "Epoch 17/20\n",
            "1563/1563 [==============================] - 58s 37ms/step - loss: 0.0126 - accuracy: 0.9958 - val_loss: 3.9664 - val_accuracy: 0.6868\n",
            "Epoch 18/20\n",
            "1563/1563 [==============================] - 60s 38ms/step - loss: 0.0136 - accuracy: 0.9959 - val_loss: 4.1814 - val_accuracy: 0.6921\n",
            "Epoch 19/20\n",
            "1563/1563 [==============================] - 58s 37ms/step - loss: 0.0135 - accuracy: 0.9959 - val_loss: 4.1739 - val_accuracy: 0.6938\n",
            "Epoch 20/20\n",
            "1563/1563 [==============================] - 60s 38ms/step - loss: 0.0146 - accuracy: 0.9960 - val_loss: 4.5244 - val_accuracy: 0.7023\n",
            "Validation loss: 4.524418830871582\n",
            "Validation accuracy: 0.7023000121116638\n"
          ]
        },
        {
          "output_type": "stream",
          "name": "stderr",
          "text": [
            "WARNING:absl:Found untraced functions such as _jit_compiled_convolution_op, _jit_compiled_convolution_op, _jit_compiled_convolution_op while saving (showing 3 of 3). These functions will not be directly callable after loading.\n"
          ]
        }
      ]
    },
    {
      "cell_type": "code",
      "source": [
        "import tensorflow as tf\n",
        "tf.compat.v1.logging.set_verbosity(tf.compat.v1.logging.ERROR)\n",
        "from keras.models import Sequential\n",
        "from keras.layers import Dense, Activation\n",
        "from keras.utils import np_utils\n",
        "from keras.datasets import cifar10\n",
        "from keras.optimizers import RMSprop\n",
        "from keras.layers import Conv2D, MaxPooling2D, Flatten, AveragePooling2D\n",
        "from google.colab import drive\n",
        "from keras.models import load_model\n",
        "drive.mount('/content/drive')\n",
        "\n",
        "(x_train, y_train), (x_test, y_test) = cifar10.load_data()\n",
        "\n",
        "print('Image shape: {0}'.format(x_train.shape[1:]))\n",
        "print('Total number of training samples: {0}'.format(x_train.shape[0]))\n",
        "print('Total number of validation samples: {0}'.format(x_test.shape[0]))\n",
        "\n",
        "x_train = x_train.astype('float32')\n",
        "x_test = x_test.astype('float32')\n",
        "x_train /= 255\n",
        "x_test /= 255\n",
        "y_train_class = np_utils.to_categorical(y_train, 10)\n",
        "y_test_class = np_utils.to_categorical(y_test, 10)\n",
        "\n",
        "model = load_model('/content/drive/MyDrive/dl-cw/act_2')\n",
        "\n",
        "opt = RMSprop(lr=0.0001, decay=1e-6)\n",
        "\n",
        "model.summary()\n",
        "model.compile(loss='categorical_crossentropy', optimizer=opt, metrics=['accuracy'])\n",
        "model.fit(x_train, y_train_class, batch_size=32, epochs=20, validation_data=(x_test, y_test_class))\n",
        "\n",
        "score = model.evaluate(x_test, y_test_class, verbose=0)\n",
        "print('Validation loss:', score[0])\n",
        "print('Validation accuracy:', score[1])\n",
        "\n",
        "model.save('/content/drive/MyDrive/dl-cw/act_2')"
      ],
      "metadata": {
        "id": "oixjWcW4_B1D",
        "outputId": "dfc35844-8134-4716-b430-11c3380f71ba",
        "colab": {
          "base_uri": "https://localhost:8080/"
        }
      },
      "execution_count": 73,
      "outputs": [
        {
          "output_type": "stream",
          "name": "stdout",
          "text": [
            "Drive already mounted at /content/drive; to attempt to forcibly remount, call drive.mount(\"/content/drive\", force_remount=True).\n",
            "Image shape: (32, 32, 3)\n",
            "Total number of training samples: 50000\n",
            "Total number of validation samples: 10000\n",
            "Model: \"sequential_1\"\n",
            "_________________________________________________________________\n",
            " Layer (type)                Output Shape              Param #   \n",
            "=================================================================\n",
            " conv2d_3 (Conv2D)           (None, 32, 32, 128)       3584      \n",
            "                                                                 \n",
            " activation_3 (Activation)   (None, 32, 32, 128)       0         \n",
            "                                                                 \n",
            " max_pooling2d_3 (MaxPooling  (None, 16, 16, 128)      0         \n",
            " 2D)                                                             \n",
            "                                                                 \n",
            " conv2d_4 (Conv2D)           (None, 16, 16, 256)       295168    \n",
            "                                                                 \n",
            " activation_4 (Activation)   (None, 16, 16, 256)       0         \n",
            "                                                                 \n",
            " max_pooling2d_4 (MaxPooling  (None, 8, 8, 256)        0         \n",
            " 2D)                                                             \n",
            "                                                                 \n",
            " conv2d_5 (Conv2D)           (None, 8, 8, 512)         1180160   \n",
            "                                                                 \n",
            " activation_5 (Activation)   (None, 8, 8, 512)         0         \n",
            "                                                                 \n",
            " max_pooling2d_5 (MaxPooling  (None, 4, 4, 512)        0         \n",
            " 2D)                                                             \n",
            "                                                                 \n",
            " average_pooling2d_1 (Averag  (None, 2, 2, 512)        0         \n",
            " ePooling2D)                                                     \n",
            "                                                                 \n",
            " flatten_1 (Flatten)         (None, 2048)              0         \n",
            "                                                                 \n",
            " dense_2 (Dense)             (None, 50)                102450    \n",
            "                                                                 \n",
            " dense_3 (Dense)             (None, 50)                2550      \n",
            "                                                                 \n",
            " dense_4 (Dense)             (None, 10)                510       \n",
            "                                                                 \n",
            "=================================================================\n",
            "Total params: 1,584,422\n",
            "Trainable params: 1,584,422\n",
            "Non-trainable params: 0\n",
            "_________________________________________________________________\n"
          ]
        },
        {
          "output_type": "stream",
          "name": "stderr",
          "text": [
            "/usr/local/lib/python3.8/dist-packages/keras/optimizers/optimizer_v2/rmsprop.py:135: UserWarning: The `lr` argument is deprecated, use `learning_rate` instead.\n",
            "  super(RMSprop, self).__init__(name, **kwargs)\n"
          ]
        },
        {
          "output_type": "stream",
          "name": "stdout",
          "text": [
            "Epoch 1/20\n",
            "1563/1563 [==============================] - 16s 10ms/step - loss: 1.5342 - accuracy: 0.4412 - val_loss: 1.5178 - val_accuracy: 0.4480\n",
            "Epoch 2/20\n",
            "1563/1563 [==============================] - 15s 10ms/step - loss: 1.5150 - accuracy: 0.4478 - val_loss: 1.5946 - val_accuracy: 0.4271\n",
            "Epoch 3/20\n",
            "1563/1563 [==============================] - 15s 10ms/step - loss: 1.4971 - accuracy: 0.4533 - val_loss: 1.6172 - val_accuracy: 0.4329\n",
            "Epoch 4/20\n",
            "1563/1563 [==============================] - 16s 10ms/step - loss: 1.4782 - accuracy: 0.4611 - val_loss: 1.5147 - val_accuracy: 0.4567\n",
            "Epoch 5/20\n",
            "1563/1563 [==============================] - 16s 10ms/step - loss: 1.4600 - accuracy: 0.4699 - val_loss: 1.4946 - val_accuracy: 0.4576\n",
            "Epoch 6/20\n",
            "1563/1563 [==============================] - 15s 10ms/step - loss: 1.4442 - accuracy: 0.4759 - val_loss: 1.4443 - val_accuracy: 0.4756\n",
            "Epoch 7/20\n",
            "1563/1563 [==============================] - 15s 10ms/step - loss: 1.4292 - accuracy: 0.4839 - val_loss: 1.4209 - val_accuracy: 0.4845\n",
            "Epoch 8/20\n",
            "1563/1563 [==============================] - 15s 10ms/step - loss: 1.4141 - accuracy: 0.4887 - val_loss: 1.4372 - val_accuracy: 0.4757\n",
            "Epoch 9/20\n",
            "1563/1563 [==============================] - 15s 10ms/step - loss: 1.4011 - accuracy: 0.4940 - val_loss: 1.4935 - val_accuracy: 0.4695\n",
            "Epoch 10/20\n",
            "1563/1563 [==============================] - 15s 10ms/step - loss: 1.3865 - accuracy: 0.4983 - val_loss: 1.3791 - val_accuracy: 0.4981\n",
            "Epoch 11/20\n",
            "1563/1563 [==============================] - 15s 10ms/step - loss: 1.3721 - accuracy: 0.5042 - val_loss: 1.3776 - val_accuracy: 0.5082\n",
            "Epoch 12/20\n",
            "1563/1563 [==============================] - 15s 10ms/step - loss: 1.3590 - accuracy: 0.5111 - val_loss: 1.3485 - val_accuracy: 0.5128\n",
            "Epoch 13/20\n",
            "1563/1563 [==============================] - 15s 10ms/step - loss: 1.3464 - accuracy: 0.5149 - val_loss: 1.3742 - val_accuracy: 0.5130\n",
            "Epoch 14/20\n",
            "1563/1563 [==============================] - 15s 10ms/step - loss: 1.3337 - accuracy: 0.5196 - val_loss: 1.3292 - val_accuracy: 0.5205\n",
            "Epoch 15/20\n",
            "1563/1563 [==============================] - 15s 10ms/step - loss: 1.3219 - accuracy: 0.5233 - val_loss: 1.3601 - val_accuracy: 0.5126\n",
            "Epoch 16/20\n",
            "1563/1563 [==============================] - 15s 10ms/step - loss: 1.3083 - accuracy: 0.5292 - val_loss: 1.3442 - val_accuracy: 0.5168\n",
            "Epoch 17/20\n",
            "1563/1563 [==============================] - 16s 10ms/step - loss: 1.2963 - accuracy: 0.5333 - val_loss: 1.3103 - val_accuracy: 0.5222\n",
            "Epoch 18/20\n",
            "1563/1563 [==============================] - 15s 10ms/step - loss: 1.2840 - accuracy: 0.5381 - val_loss: 1.2908 - val_accuracy: 0.5348\n",
            "Epoch 19/20\n",
            "1563/1563 [==============================] - 15s 10ms/step - loss: 1.2737 - accuracy: 0.5424 - val_loss: 1.3496 - val_accuracy: 0.5076\n",
            "Epoch 20/20\n",
            "1563/1563 [==============================] - 15s 10ms/step - loss: 1.2622 - accuracy: 0.5483 - val_loss: 1.2754 - val_accuracy: 0.5417\n",
            "Validation loss: 1.2754292488098145\n",
            "Validation accuracy: 0.541700005531311\n"
          ]
        },
        {
          "output_type": "stream",
          "name": "stderr",
          "text": [
            "WARNING:absl:Found untraced functions such as _jit_compiled_convolution_op, _jit_compiled_convolution_op, _jit_compiled_convolution_op while saving (showing 3 of 3). These functions will not be directly callable after loading.\n"
          ]
        }
      ]
    },
    {
      "cell_type": "code",
      "source": [
        "import tensorflow as tf\n",
        "tf.compat.v1.logging.set_verbosity(tf.compat.v1.logging.ERROR)\n",
        "from keras.models import Sequential\n",
        "from keras.layers import Dense, Activation\n",
        "from keras.utils import np_utils\n",
        "from keras.datasets import cifar10\n",
        "from keras.optimizers import RMSprop\n",
        "from keras.layers import Conv2D, MaxPooling2D, Flatten, AveragePooling2D\n",
        "from google.colab import drive\n",
        "from keras.models import load_model\n",
        "drive.mount('/content/drive')\n",
        "\n",
        "(x_train, y_train), (x_test, y_test) = cifar10.load_data()\n",
        "\n",
        "print('Image shape: {0}'.format(x_train.shape[1:]))\n",
        "print('Total number of training samples: {0}'.format(x_train.shape[0]))\n",
        "print('Total number of validation samples: {0}'.format(x_test.shape[0]))\n",
        "\n",
        "x_train = x_train.astype('float32')\n",
        "x_test = x_test.astype('float32')\n",
        "x_train /= 255\n",
        "x_test /= 255\n",
        "y_train_class = np_utils.to_categorical(y_train, 10)\n",
        "y_test_class = np_utils.to_categorical(y_test, 10)\n",
        "\n",
        "model = load_model('/content/drive/MyDrive/dl-cw/act_3')\n",
        "\n",
        "opt = RMSprop(lr=0.0001, decay=1e-6)\n",
        "\n",
        "model.summary()\n",
        "model.compile(loss='categorical_crossentropy', optimizer=opt, metrics=['accuracy'])\n",
        "model.fit(x_train, y_train_class, batch_size=32, epochs=20, validation_data=(x_test, y_test_class))\n",
        "\n",
        "score = model.evaluate(x_test, y_test_class, verbose=0)\n",
        "print('Validation loss:', score[0])\n",
        "print('Validation accuracy:', score[1])\n",
        "\n",
        "model.save('/content/drive/MyDrive/dl-cw/act_3')"
      ],
      "metadata": {
        "id": "hMNH4zPg_FBR",
        "outputId": "9f216373-3a53-4c2f-b786-9bba9e852f2d",
        "colab": {
          "base_uri": "https://localhost:8080/"
        }
      },
      "execution_count": 74,
      "outputs": [
        {
          "output_type": "stream",
          "name": "stdout",
          "text": [
            "Drive already mounted at /content/drive; to attempt to forcibly remount, call drive.mount(\"/content/drive\", force_remount=True).\n",
            "Image shape: (32, 32, 3)\n",
            "Total number of training samples: 50000\n",
            "Total number of validation samples: 10000\n",
            "Model: \"sequential_2\"\n",
            "_________________________________________________________________\n",
            " Layer (type)                Output Shape              Param #   \n",
            "=================================================================\n",
            " conv2d_6 (Conv2D)           (None, 32, 32, 128)       3584      \n",
            "                                                                 \n",
            " activation_6 (Activation)   (None, 32, 32, 128)       0         \n",
            "                                                                 \n",
            " max_pooling2d_6 (MaxPooling  (None, 16, 16, 128)      0         \n",
            " 2D)                                                             \n",
            "                                                                 \n",
            " conv2d_7 (Conv2D)           (None, 16, 16, 256)       295168    \n",
            "                                                                 \n",
            " activation_7 (Activation)   (None, 16, 16, 256)       0         \n",
            "                                                                 \n",
            " max_pooling2d_7 (MaxPooling  (None, 8, 8, 256)        0         \n",
            " 2D)                                                             \n",
            "                                                                 \n",
            " conv2d_8 (Conv2D)           (None, 8, 8, 512)         1180160   \n",
            "                                                                 \n",
            " activation_8 (Activation)   (None, 8, 8, 512)         0         \n",
            "                                                                 \n",
            " max_pooling2d_8 (MaxPooling  (None, 4, 4, 512)        0         \n",
            " 2D)                                                             \n",
            "                                                                 \n",
            " average_pooling2d_2 (Averag  (None, 2, 2, 512)        0         \n",
            " ePooling2D)                                                     \n",
            "                                                                 \n",
            " flatten_2 (Flatten)         (None, 2048)              0         \n",
            "                                                                 \n",
            " dense_5 (Dense)             (None, 50)                102450    \n",
            "                                                                 \n",
            " dense_6 (Dense)             (None, 50)                2550      \n",
            "                                                                 \n",
            " dense_7 (Dense)             (None, 10)                510       \n",
            "                                                                 \n",
            "=================================================================\n",
            "Total params: 1,584,422\n",
            "Trainable params: 1,584,422\n",
            "Non-trainable params: 0\n",
            "_________________________________________________________________\n"
          ]
        },
        {
          "output_type": "stream",
          "name": "stderr",
          "text": [
            "/usr/local/lib/python3.8/dist-packages/keras/optimizers/optimizer_v2/rmsprop.py:135: UserWarning: The `lr` argument is deprecated, use `learning_rate` instead.\n",
            "  super(RMSprop, self).__init__(name, **kwargs)\n"
          ]
        },
        {
          "output_type": "stream",
          "name": "stdout",
          "text": [
            "Epoch 1/20\n",
            "1563/1563 [==============================] - 16s 10ms/step - loss: 0.2415 - accuracy: 0.9176 - val_loss: 0.8427 - val_accuracy: 0.7631\n",
            "Epoch 2/20\n",
            "1563/1563 [==============================] - 15s 10ms/step - loss: 0.2124 - accuracy: 0.9291 - val_loss: 0.9005 - val_accuracy: 0.7578\n",
            "Epoch 3/20\n",
            "1563/1563 [==============================] - 15s 10ms/step - loss: 0.1866 - accuracy: 0.9385 - val_loss: 0.9112 - val_accuracy: 0.7660\n",
            "Epoch 4/20\n",
            "1563/1563 [==============================] - 15s 10ms/step - loss: 0.1601 - accuracy: 0.9478 - val_loss: 0.9944 - val_accuracy: 0.7568\n",
            "Epoch 5/20\n",
            "1563/1563 [==============================] - 15s 10ms/step - loss: 0.1373 - accuracy: 0.9547 - val_loss: 1.0479 - val_accuracy: 0.7545\n",
            "Epoch 6/20\n",
            "1563/1563 [==============================] - 15s 10ms/step - loss: 0.1185 - accuracy: 0.9613 - val_loss: 1.0895 - val_accuracy: 0.7520\n",
            "Epoch 7/20\n",
            "1563/1563 [==============================] - 15s 10ms/step - loss: 0.1019 - accuracy: 0.9661 - val_loss: 1.1496 - val_accuracy: 0.7541\n",
            "Epoch 8/20\n",
            "1563/1563 [==============================] - 15s 10ms/step - loss: 0.0873 - accuracy: 0.9719 - val_loss: 1.2118 - val_accuracy: 0.7543\n",
            "Epoch 9/20\n",
            "1563/1563 [==============================] - 15s 10ms/step - loss: 0.0756 - accuracy: 0.9749 - val_loss: 1.1794 - val_accuracy: 0.7611\n",
            "Epoch 10/20\n",
            "1563/1563 [==============================] - 15s 10ms/step - loss: 0.0665 - accuracy: 0.9783 - val_loss: 1.2932 - val_accuracy: 0.7550\n",
            "Epoch 11/20\n",
            "1563/1563 [==============================] - 18s 11ms/step - loss: 0.0582 - accuracy: 0.9810 - val_loss: 1.3607 - val_accuracy: 0.7514\n",
            "Epoch 12/20\n",
            "1563/1563 [==============================] - 15s 10ms/step - loss: 0.0518 - accuracy: 0.9842 - val_loss: 1.3805 - val_accuracy: 0.7608\n",
            "Epoch 13/20\n",
            "1563/1563 [==============================] - 16s 10ms/step - loss: 0.0455 - accuracy: 0.9855 - val_loss: 1.4194 - val_accuracy: 0.7632\n",
            "Epoch 14/20\n",
            "1563/1563 [==============================] - 15s 10ms/step - loss: 0.0405 - accuracy: 0.9872 - val_loss: 1.4713 - val_accuracy: 0.7576\n",
            "Epoch 15/20\n",
            "1563/1563 [==============================] - 15s 10ms/step - loss: 0.0373 - accuracy: 0.9883 - val_loss: 1.5539 - val_accuracy: 0.7527\n",
            "Epoch 16/20\n",
            "1563/1563 [==============================] - 15s 10ms/step - loss: 0.0344 - accuracy: 0.9885 - val_loss: 1.5647 - val_accuracy: 0.7550\n",
            "Epoch 17/20\n",
            "1563/1563 [==============================] - 15s 10ms/step - loss: 0.0307 - accuracy: 0.9904 - val_loss: 1.7096 - val_accuracy: 0.7551\n",
            "Epoch 18/20\n",
            "1563/1563 [==============================] - 15s 10ms/step - loss: 0.0313 - accuracy: 0.9899 - val_loss: 1.6119 - val_accuracy: 0.7584\n",
            "Epoch 19/20\n",
            "1563/1563 [==============================] - 15s 10ms/step - loss: 0.0282 - accuracy: 0.9910 - val_loss: 1.6536 - val_accuracy: 0.7615\n",
            "Epoch 20/20\n",
            "1563/1563 [==============================] - 15s 10ms/step - loss: 0.0266 - accuracy: 0.9913 - val_loss: 1.7133 - val_accuracy: 0.7616\n",
            "Validation loss: 1.71333909034729\n",
            "Validation accuracy: 0.7616000175476074\n"
          ]
        },
        {
          "output_type": "stream",
          "name": "stderr",
          "text": [
            "WARNING:absl:Found untraced functions such as _jit_compiled_convolution_op, _jit_compiled_convolution_op, _jit_compiled_convolution_op while saving (showing 3 of 3). These functions will not be directly callable after loading.\n"
          ]
        }
      ]
    },
    {
      "cell_type": "code",
      "source": [
        "import tensorflow as tf\n",
        "tf.compat.v1.logging.set_verbosity(tf.compat.v1.logging.ERROR)\n",
        "from keras.models import Sequential\n",
        "from keras.layers import Dense, Activation\n",
        "from keras.utils import np_utils\n",
        "from keras.datasets import cifar10\n",
        "from keras.optimizers import RMSprop\n",
        "from keras.layers import Conv2D, MaxPooling2D, Flatten, AveragePooling2D\n",
        "from google.colab import drive\n",
        "from keras.models import load_model\n",
        "drive.mount('/content/drive')\n",
        "\n",
        "(x_train, y_train), (x_test, y_test) = cifar10.load_data()\n",
        "\n",
        "print('Image shape: {0}'.format(x_train.shape[1:]))\n",
        "print('Total number of training samples: {0}'.format(x_train.shape[0]))\n",
        "print('Total number of validation samples: {0}'.format(x_test.shape[0]))\n",
        "\n",
        "x_train = x_train.astype('float32')\n",
        "x_test = x_test.astype('float32')\n",
        "x_train /= 255\n",
        "x_test /= 255\n",
        "y_train_class = np_utils.to_categorical(y_train, 10)\n",
        "y_test_class = np_utils.to_categorical(y_test, 10)\n",
        "\n",
        "model = load_model('/content/drive/MyDrive/dl-cw/act_4')\n",
        "\n",
        "opt = RMSprop(lr=0.0001, decay=1e-6)\n",
        "\n",
        "model.summary()\n",
        "model.compile(loss='categorical_crossentropy', optimizer=opt, metrics=['accuracy'])\n",
        "model.fit(x_train, y_train_class, batch_size=32, epochs=20, validation_data=(x_test, y_test_class))\n",
        "\n",
        "score = model.evaluate(x_test, y_test_class, verbose=0)\n",
        "print('Validation loss:', score[0])\n",
        "print('Validation accuracy:', score[1])\n",
        "\n",
        "model.save('/content/drive/MyDrive/dl-cw/act_4')"
      ],
      "metadata": {
        "id": "jxQ88JiF_HQQ",
        "outputId": "eb6522aa-b952-4d77-f68d-1f00ad620ba2",
        "colab": {
          "base_uri": "https://localhost:8080/"
        }
      },
      "execution_count": 75,
      "outputs": [
        {
          "output_type": "stream",
          "name": "stdout",
          "text": [
            "Drive already mounted at /content/drive; to attempt to forcibly remount, call drive.mount(\"/content/drive\", force_remount=True).\n",
            "Image shape: (32, 32, 3)\n",
            "Total number of training samples: 50000\n",
            "Total number of validation samples: 10000\n",
            "Model: \"sequential_4\"\n",
            "_________________________________________________________________\n",
            " Layer (type)                Output Shape              Param #   \n",
            "=================================================================\n",
            " conv2d_12 (Conv2D)          (None, 32, 32, 128)       3584      \n",
            "                                                                 \n",
            " activation_12 (Activation)  (None, 32, 32, 128)       0         \n",
            "                                                                 \n",
            " max_pooling2d_12 (MaxPoolin  (None, 16, 16, 128)      0         \n",
            " g2D)                                                            \n",
            "                                                                 \n",
            " conv2d_13 (Conv2D)          (None, 16, 16, 256)       295168    \n",
            "                                                                 \n",
            " activation_13 (Activation)  (None, 16, 16, 256)       0         \n",
            "                                                                 \n",
            " max_pooling2d_13 (MaxPoolin  (None, 8, 8, 256)        0         \n",
            " g2D)                                                            \n",
            "                                                                 \n",
            " conv2d_14 (Conv2D)          (None, 8, 8, 512)         1180160   \n",
            "                                                                 \n",
            " activation_14 (Activation)  (None, 8, 8, 512)         0         \n",
            "                                                                 \n",
            " max_pooling2d_14 (MaxPoolin  (None, 4, 4, 512)        0         \n",
            " g2D)                                                            \n",
            "                                                                 \n",
            " average_pooling2d_4 (Averag  (None, 2, 2, 512)        0         \n",
            " ePooling2D)                                                     \n",
            "                                                                 \n",
            " flatten_4 (Flatten)         (None, 2048)              0         \n",
            "                                                                 \n",
            " dense_11 (Dense)            (None, 50)                102450    \n",
            "                                                                 \n",
            " dense_12 (Dense)            (None, 50)                2550      \n",
            "                                                                 \n",
            " dense_13 (Dense)            (None, 10)                510       \n",
            "                                                                 \n",
            "=================================================================\n",
            "Total params: 1,584,422\n",
            "Trainable params: 1,584,422\n",
            "Non-trainable params: 0\n",
            "_________________________________________________________________\n"
          ]
        },
        {
          "output_type": "stream",
          "name": "stderr",
          "text": [
            "/usr/local/lib/python3.8/dist-packages/keras/optimizers/optimizer_v2/rmsprop.py:135: UserWarning: The `lr` argument is deprecated, use `learning_rate` instead.\n",
            "  super(RMSprop, self).__init__(name, **kwargs)\n"
          ]
        },
        {
          "output_type": "stream",
          "name": "stdout",
          "text": [
            "Epoch 1/20\n",
            "1563/1563 [==============================] - 16s 10ms/step - loss: 0.1024 - accuracy: 0.9663 - val_loss: 1.2533 - val_accuracy: 0.7188\n",
            "Epoch 2/20\n",
            "1563/1563 [==============================] - 15s 10ms/step - loss: 0.0864 - accuracy: 0.9722 - val_loss: 1.3729 - val_accuracy: 0.7136\n",
            "Epoch 3/20\n",
            "1563/1563 [==============================] - 15s 10ms/step - loss: 0.0752 - accuracy: 0.9754 - val_loss: 1.3919 - val_accuracy: 0.7174\n",
            "Epoch 4/20\n",
            "1563/1563 [==============================] - 15s 10ms/step - loss: 0.0655 - accuracy: 0.9791 - val_loss: 1.3841 - val_accuracy: 0.7277\n",
            "Epoch 5/20\n",
            "1563/1563 [==============================] - 15s 10ms/step - loss: 0.0599 - accuracy: 0.9808 - val_loss: 1.4706 - val_accuracy: 0.7275\n",
            "Epoch 6/20\n",
            "1563/1563 [==============================] - 15s 10ms/step - loss: 0.0537 - accuracy: 0.9824 - val_loss: 1.5452 - val_accuracy: 0.7244\n",
            "Epoch 7/20\n",
            "1563/1563 [==============================] - 15s 10ms/step - loss: 0.0504 - accuracy: 0.9839 - val_loss: 1.4786 - val_accuracy: 0.7299\n",
            "Epoch 8/20\n",
            "1563/1563 [==============================] - 18s 11ms/step - loss: 0.0445 - accuracy: 0.9855 - val_loss: 1.7152 - val_accuracy: 0.7221\n",
            "Epoch 9/20\n",
            "1563/1563 [==============================] - 15s 10ms/step - loss: 0.0396 - accuracy: 0.9868 - val_loss: 1.6751 - val_accuracy: 0.7262\n",
            "Epoch 10/20\n",
            "1563/1563 [==============================] - 15s 10ms/step - loss: 0.0391 - accuracy: 0.9872 - val_loss: 1.6562 - val_accuracy: 0.7300\n",
            "Epoch 11/20\n",
            "1563/1563 [==============================] - 15s 10ms/step - loss: 0.0364 - accuracy: 0.9886 - val_loss: 1.7502 - val_accuracy: 0.7282\n",
            "Epoch 12/20\n",
            "1563/1563 [==============================] - 15s 10ms/step - loss: 0.0354 - accuracy: 0.9884 - val_loss: 1.8665 - val_accuracy: 0.7179\n",
            "Epoch 13/20\n",
            "1563/1563 [==============================] - 15s 10ms/step - loss: 0.0325 - accuracy: 0.9891 - val_loss: 1.8622 - val_accuracy: 0.7217\n",
            "Epoch 14/20\n",
            "1563/1563 [==============================] - 15s 10ms/step - loss: 0.0308 - accuracy: 0.9896 - val_loss: 1.8563 - val_accuracy: 0.7270\n",
            "Epoch 15/20\n",
            "1563/1563 [==============================] - 15s 10ms/step - loss: 0.0303 - accuracy: 0.9893 - val_loss: 1.9832 - val_accuracy: 0.7182\n",
            "Epoch 16/20\n",
            "1563/1563 [==============================] - 15s 10ms/step - loss: 0.0302 - accuracy: 0.9900 - val_loss: 1.8748 - val_accuracy: 0.7302\n",
            "Epoch 17/20\n",
            "1563/1563 [==============================] - 15s 10ms/step - loss: 0.0275 - accuracy: 0.9904 - val_loss: 2.0564 - val_accuracy: 0.7144\n",
            "Epoch 18/20\n",
            "1563/1563 [==============================] - 15s 10ms/step - loss: 0.0276 - accuracy: 0.9908 - val_loss: 1.9905 - val_accuracy: 0.7282\n",
            "Epoch 19/20\n",
            "1563/1563 [==============================] - 15s 10ms/step - loss: 0.0271 - accuracy: 0.9909 - val_loss: 1.9466 - val_accuracy: 0.7296\n",
            "Epoch 20/20\n",
            "1563/1563 [==============================] - 15s 10ms/step - loss: 0.0262 - accuracy: 0.9909 - val_loss: 2.0510 - val_accuracy: 0.7301\n",
            "Validation loss: 2.0510318279266357\n",
            "Validation accuracy: 0.7300999760627747\n"
          ]
        },
        {
          "output_type": "stream",
          "name": "stderr",
          "text": [
            "WARNING:absl:Found untraced functions such as _jit_compiled_convolution_op, _jit_compiled_convolution_op, _jit_compiled_convolution_op while saving (showing 3 of 3). These functions will not be directly callable after loading.\n"
          ]
        }
      ]
    },
    {
      "cell_type": "markdown",
      "source": [
        "**Experiment 2: How many feature maps?**\n",
        "1.   16, 32, 64\n",
        "2.   32, 64, 128\n",
        "3.   64, 128, 256\n",
        "4.   128, 256, 512\n",
        "5.   256, 512, 1024\n",
        "\n"
      ],
      "metadata": {
        "id": "jwmftedjjSM2"
      }
    },
    {
      "cell_type": "markdown",
      "source": [
        "Experiment 3: How large a dense layer?\n",
        "1.   128\n",
        "2.   256\n",
        "3.   512\n",
        "4.   512, 256\n",
        "\n"
      ],
      "metadata": {
        "id": "kkDvKKrashZK"
      }
    },
    {
      "cell_type": "markdown",
      "source": [
        "**Experiment 4: Pooling**\n",
        "1.   Max Pooling w/ Average Pooling\n",
        "2.   Max Pooling w/o Average Pooling\n",
        "3.   Average Pooling\n",
        "4.   No pooling\n",
        "\n"
      ],
      "metadata": {
        "id": "LVEdjGgIuL7W"
      }
    },
    {
      "cell_type": "markdown",
      "source": [
        "**Experiment 5: Activation functions**\n",
        "1.   relu\n",
        "2.   sigmoid\n",
        "3.   elu\n",
        "4.   selu\n",
        "\n"
      ],
      "metadata": {
        "id": "Q2erjk5R_XRz"
      }
    },
    {
      "cell_type": "markdown",
      "source": [
        "**Fine Tuning**"
      ],
      "metadata": {
        "id": "o98B4zrIDG5S"
      }
    },
    {
      "cell_type": "code",
      "source": [
        "import tensorflow as tf\n",
        "tf.compat.v1.logging.set_verbosity(tf.compat.v1.logging.ERROR)\n",
        "from keras.models import Sequential\n",
        "from keras.layers import Dense, Activation\n",
        "from keras.utils import np_utils\n",
        "from keras.datasets import cifar10\n",
        "from keras.optimizers import RMSprop\n",
        "from keras.layers import Conv2D, MaxPooling2D, Flatten, AveragePooling2D\n",
        "from google.colab import drive\n",
        "drive.mount('/content/drive')\n",
        "\n",
        "(x_train, y_train), (x_test, y_test) = cifar10.load_data()\n",
        "\n",
        "print('Image shape: {0}'.format(x_train.shape[1:]))\n",
        "print('Total number of training samples: {0}'.format(x_train.shape[0]))\n",
        "print('Total number of validation samples: {0}'.format(x_test.shape[0]))\n",
        "\n",
        "x_train = x_train.astype('float32')\n",
        "x_test = x_test.astype('float32')\n",
        "x_train /= 255\n",
        "x_test /= 255\n",
        "y_train_class = np_utils.to_categorical(y_train, 10)\n",
        "y_test_class = np_utils.to_categorical(y_test, 10)\n",
        "\n",
        "model = Sequential()\n",
        "model.add(Conv2D(128, (3,3), padding='same', input_shape=x_train.shape[1:]))\n",
        "model.add(Activation('relu'))\n",
        "model.add(MaxPooling2D(pool_size=(2,2)))\n",
        "model.add(Conv2D(256, (3,3), padding='same', input_shape=x_train.shape[1:]))\n",
        "model.add(Activation('relu'))\n",
        "model.add(MaxPooling2D(pool_size=(2,2)))\n",
        "model.add(Conv2D(320, (3,3), padding='same', input_shape=x_train.shape[1:]))\n",
        "model.add(Activation('relu'))\n",
        "model.add(MaxPooling2D(pool_size=(2,2)))\n",
        "model.add(AveragePooling2D(pool_size=(2,2)))\n",
        "model.add(Flatten())\n",
        "model.add(Dense(320, activation='relu'))\n",
        "model.add(Dense(10, activation='softmax'))\n",
        "\n",
        "opt = RMSprop(lr=0.0001, decay=1e-6)\n",
        "\n",
        "model.summary()\n",
        "model.compile(loss='categorical_crossentropy', optimizer=opt, metrics=['accuracy'])\n",
        "model.fit(x_train, y_train_class, batch_size=32, epochs=20, validation_data=(x_test, y_test_class))\n",
        "\n",
        "score = model.evaluate(x_test, y_test_class, verbose=0)\n",
        "print('Validation loss:', score[0])\n",
        "print('Validation accuracy:', score[1])\n",
        "\n",
        "model.save('/content/drive/MyDrive/dl-cw/fine_tune3')"
      ],
      "metadata": {
        "colab": {
          "base_uri": "https://localhost:8080/"
        },
        "id": "23sqapqkDC7q",
        "outputId": "6eba8cda-ed44-4b62-de8f-a5195d02db5c"
      },
      "execution_count": 105,
      "outputs": [
        {
          "output_type": "stream",
          "name": "stdout",
          "text": [
            "Drive already mounted at /content/drive; to attempt to forcibly remount, call drive.mount(\"/content/drive\", force_remount=True).\n",
            "Image shape: (32, 32, 3)\n",
            "Total number of training samples: 50000\n",
            "Total number of validation samples: 10000\n",
            "Model: \"sequential_42\"\n",
            "_________________________________________________________________\n",
            " Layer (type)                Output Shape              Param #   \n",
            "=================================================================\n",
            " conv2d_90 (Conv2D)          (None, 32, 32, 128)       3584      \n",
            "                                                                 \n",
            " activation_23 (Activation)  (None, 32, 32, 128)       0         \n",
            "                                                                 \n",
            " max_pooling2d_89 (MaxPoolin  (None, 16, 16, 128)      0         \n",
            " g2D)                                                            \n",
            "                                                                 \n",
            " conv2d_91 (Conv2D)          (None, 16, 16, 256)       295168    \n",
            "                                                                 \n",
            " activation_24 (Activation)  (None, 16, 16, 256)       0         \n",
            "                                                                 \n",
            " max_pooling2d_90 (MaxPoolin  (None, 8, 8, 256)        0         \n",
            " g2D)                                                            \n",
            "                                                                 \n",
            " conv2d_92 (Conv2D)          (None, 8, 8, 320)         737600    \n",
            "                                                                 \n",
            " activation_25 (Activation)  (None, 8, 8, 320)         0         \n",
            "                                                                 \n",
            " max_pooling2d_91 (MaxPoolin  (None, 4, 4, 320)        0         \n",
            " g2D)                                                            \n",
            "                                                                 \n",
            " average_pooling2d_35 (Avera  (None, 2, 2, 320)        0         \n",
            " gePooling2D)                                                    \n",
            "                                                                 \n",
            " flatten_38 (Flatten)        (None, 1280)              0         \n",
            "                                                                 \n",
            " dense_47 (Dense)            (None, 320)               409920    \n",
            "                                                                 \n",
            " dense_48 (Dense)            (None, 10)                3210      \n",
            "                                                                 \n",
            "=================================================================\n",
            "Total params: 1,449,482\n",
            "Trainable params: 1,449,482\n",
            "Non-trainable params: 0\n",
            "_________________________________________________________________\n"
          ]
        },
        {
          "output_type": "stream",
          "name": "stderr",
          "text": [
            "/usr/local/lib/python3.8/dist-packages/keras/optimizers/optimizer_v2/rmsprop.py:135: UserWarning: The `lr` argument is deprecated, use `learning_rate` instead.\n",
            "  super(RMSprop, self).__init__(name, **kwargs)\n"
          ]
        },
        {
          "output_type": "stream",
          "name": "stdout",
          "text": [
            "Epoch 1/20\n",
            "1563/1563 [==============================] - 14s 9ms/step - loss: 1.7026 - accuracy: 0.3813 - val_loss: 1.4727 - val_accuracy: 0.4584\n",
            "Epoch 2/20\n",
            "1563/1563 [==============================] - 13s 9ms/step - loss: 1.3584 - accuracy: 0.5109 - val_loss: 1.4075 - val_accuracy: 0.5007\n",
            "Epoch 3/20\n",
            "1563/1563 [==============================] - 14s 9ms/step - loss: 1.1771 - accuracy: 0.5823 - val_loss: 1.1053 - val_accuracy: 0.6162\n",
            "Epoch 4/20\n",
            "1563/1563 [==============================] - 14s 9ms/step - loss: 1.0526 - accuracy: 0.6302 - val_loss: 0.9943 - val_accuracy: 0.6549\n",
            "Epoch 5/20\n",
            "1563/1563 [==============================] - 14s 9ms/step - loss: 0.9621 - accuracy: 0.6644 - val_loss: 1.0151 - val_accuracy: 0.6364\n",
            "Epoch 6/20\n",
            "1563/1563 [==============================] - 13s 9ms/step - loss: 0.8894 - accuracy: 0.6915 - val_loss: 0.9150 - val_accuracy: 0.6838\n",
            "Epoch 7/20\n",
            "1563/1563 [==============================] - 13s 9ms/step - loss: 0.8276 - accuracy: 0.7128 - val_loss: 0.8679 - val_accuracy: 0.6972\n",
            "Epoch 8/20\n",
            "1563/1563 [==============================] - 13s 9ms/step - loss: 0.7727 - accuracy: 0.7327 - val_loss: 0.8314 - val_accuracy: 0.7103\n",
            "Epoch 9/20\n",
            "1563/1563 [==============================] - 14s 9ms/step - loss: 0.7252 - accuracy: 0.7504 - val_loss: 0.8221 - val_accuracy: 0.7218\n",
            "Epoch 10/20\n",
            "1563/1563 [==============================] - 14s 9ms/step - loss: 0.6782 - accuracy: 0.7663 - val_loss: 0.8010 - val_accuracy: 0.7180\n",
            "Epoch 11/20\n",
            "1563/1563 [==============================] - 14s 9ms/step - loss: 0.6375 - accuracy: 0.7819 - val_loss: 0.7912 - val_accuracy: 0.7305\n",
            "Epoch 12/20\n",
            "1563/1563 [==============================] - 14s 9ms/step - loss: 0.5989 - accuracy: 0.7933 - val_loss: 0.8071 - val_accuracy: 0.7246\n",
            "Epoch 13/20\n",
            "1563/1563 [==============================] - 14s 9ms/step - loss: 0.5635 - accuracy: 0.8075 - val_loss: 0.8588 - val_accuracy: 0.7174\n",
            "Epoch 14/20\n",
            "1563/1563 [==============================] - 14s 9ms/step - loss: 0.5272 - accuracy: 0.8197 - val_loss: 0.7110 - val_accuracy: 0.7617\n",
            "Epoch 15/20\n",
            "1563/1563 [==============================] - 14s 9ms/step - loss: 0.4965 - accuracy: 0.8293 - val_loss: 0.8928 - val_accuracy: 0.7115\n",
            "Epoch 16/20\n",
            "1563/1563 [==============================] - 14s 9ms/step - loss: 0.4624 - accuracy: 0.8413 - val_loss: 0.6630 - val_accuracy: 0.7819\n",
            "Epoch 17/20\n",
            "1563/1563 [==============================] - 13s 9ms/step - loss: 0.4335 - accuracy: 0.8519 - val_loss: 0.6840 - val_accuracy: 0.7728\n",
            "Epoch 18/20\n",
            "1563/1563 [==============================] - 14s 9ms/step - loss: 0.4036 - accuracy: 0.8624 - val_loss: 0.8020 - val_accuracy: 0.7457\n",
            "Epoch 19/20\n",
            "1563/1563 [==============================] - 13s 9ms/step - loss: 0.3740 - accuracy: 0.8741 - val_loss: 0.7544 - val_accuracy: 0.7584\n",
            "Epoch 20/20\n",
            "1563/1563 [==============================] - 13s 8ms/step - loss: 0.3474 - accuracy: 0.8813 - val_loss: 0.6890 - val_accuracy: 0.7787\n",
            "Validation loss: 0.688961923122406\n",
            "Validation accuracy: 0.7786999940872192\n"
          ]
        },
        {
          "output_type": "stream",
          "name": "stderr",
          "text": [
            "WARNING:absl:Found untraced functions such as _jit_compiled_convolution_op, _jit_compiled_convolution_op, _jit_compiled_convolution_op while saving (showing 3 of 3). These functions will not be directly callable after loading.\n"
          ]
        }
      ]
    },
    {
      "cell_type": "code",
      "source": [
        "from keras.utils import plot_model\n",
        "import numpy as np\n",
        "from tensorflow.keras.models import load_model\n",
        "\n",
        "model = load_model('/content/drive/MyDrive/dl-cw/fine_tune2')\n",
        "plot_model(model, to_file='model.png')"
      ],
      "metadata": {
        "colab": {
          "base_uri": "https://localhost:8080/",
          "height": 1000
        },
        "id": "5_toaOYUHXp3",
        "outputId": "b897f35c-34c3-4f3e-e929-4516ece68c10"
      },
      "execution_count": 114,
      "outputs": [
        {
          "output_type": "execute_result",
          "data": {
            "image/png": "[encoded data removed]",
            "text/plain": [
              "<IPython.core.display.Image object>"
            ]
          },
          "metadata": {},
          "execution_count": 114
        }
      ]
    },
    {
      "cell_type": "code",
      "source": [
        "# !pip install keras_sequential_ascii\n",
        "# !pip install git+git://github.com/stared/keras-sequential-ascii.git\n",
        "\n",
        "from keras_sequential_ascii import keras2ascii\n",
        "keras2ascii(model)"
      ],
      "metadata": {
        "colab": {
          "base_uri": "https://localhost:8080/"
        },
        "id": "5f_pYwv7Jgoa",
        "outputId": "8c61429b-2c88-44a5-b449-e08601129ab2"
      },
      "execution_count": 115,
      "outputs": [
        {
          "output_type": "stream",
          "name": "stdout",
          "text": [
            "           OPERATION           DATA DIMENSIONS   WEIGHTS(N)   WEIGHTS(%)\n",
            "\n",
            "               Input   #####     32   32    3\n",
            "              Conv2D    \\|/  -------------------      3584     0.3%\n",
            "                relu   #####     32   32  128\n",
            "        MaxPooling2D   Y max -------------------         0     0.0%\n",
            "                       #####     16   16  128\n",
            "              Conv2D    \\|/  -------------------    184480    17.4%\n",
            "                relu   #####     16   16  160\n",
            "        MaxPooling2D   Y max -------------------         0     0.0%\n",
            "                       #####      8    8  160\n",
            "              Conv2D    \\|/  -------------------    461120    43.4%\n",
            "                relu   #####      8    8  320\n",
            "        MaxPooling2D   Y max -------------------         0     0.0%\n",
            "                       #####      4    4  320\n",
            "    AveragePooling2D   Y avg -------------------         0     0.0%\n",
            "                       #####      2    2  320\n",
            "             Flatten   ||||| -------------------         0     0.0%\n",
            "                       #####        1280\n",
            "               Dense   XXXXX -------------------    409920    38.6%\n",
            "                relu   #####         320\n",
            "               Dense   XXXXX -------------------      3210     0.3%\n",
            "             softmax   #####          10\n"
          ]
        }
      ]
    },
    {
      "cell_type": "markdown",
      "metadata": {
        "id": "3w8eUV9RDPkL"
      },
      "source": [
        "\n",
        "---\n",
        "---\n",
        "\n",
        "## Task 2: Regression\n",
        "\n",
        "Now we face a regression task instead of a classification problem. Loss function, activations, and dataset will change in the following task. Thus, instead of having one vector with the probabilities of each class, in this regression problem, the output is a single scalar. \n",
        "\n",
        "For this second task, we chose the task of estimating house prices based on input images. To get the data run the following script, which clones Ahmed and Moustafa’s [repository](https://github.com/emanhamed/Houses-dataset) into colmap."
      ]
    },
    {
      "cell_type": "code",
      "metadata": {
        "id": "Ibukle2ODMEp",
        "colab": {
          "base_uri": "https://localhost:8080/"
        },
        "outputId": "0d148050-a095-46f4-c0ca-839970b9594d"
      },
      "source": [
        "!git clone https://github.com/emanhamed/Houses-dataset\n",
        "%cd /content/Houses-dataset/Houses\\ Dataset"
      ],
      "execution_count": 2,
      "outputs": [
        {
          "output_type": "stream",
          "name": "stdout",
          "text": [
            "Cloning into 'Houses-dataset'...\n",
            "remote: Enumerating objects: 2166, done.\u001b[K\n",
            "remote: Counting objects: 100% (1/1), done.\u001b[K\n",
            "remote: Total 2166 (delta 0), reused 0 (delta 0), pack-reused 2165\u001b[K\n",
            "Receiving objects: 100% (2166/2166), 176.26 MiB | 25.69 MiB/s, done.\n",
            "Resolving deltas: 100% (20/20), done.\n",
            "/content/Houses-dataset/Houses Dataset\n"
          ]
        }
      ]
    },
    {
      "cell_type": "markdown",
      "metadata": {
        "id": "Ye6xldkVEV-t"
      },
      "source": [
        "This dataset contains four images of the house (kitchen, frontal, bedroom and bathroom), and attributes (number of bedrooms, number of bathrooms, zip code...). For our exercise, we only use the images of the house. We start with front door images. "
      ]
    },
    {
      "cell_type": "code",
      "metadata": {
        "id": "71urud9ZHq9d",
        "colab": {
          "base_uri": "https://localhost:8080/",
          "height": 285
        },
        "outputId": "61e7d3ee-186e-446f-e4e4-11433820be5b"
      },
      "source": [
        "import cv2\n",
        "import numpy as np\n",
        "import matplotlib.pyplot as plt\n",
        "from numpy.random import seed\n",
        "\n",
        "house_section = 'kitchen' # select between: kitchen, frontal, bedroom or bathroom\n",
        "print('We have selected {} images. You can switch to the kitchen, frontal, bedroom or bathroom images by changing house_section variable.'.format(house_section))\n",
        "images = []\n",
        "for i_im in range(1, 536):\n",
        "  image = cv2.imread(str(i_im)+'_'+house_section+'.jpg')\n",
        "  image = cv2.resize(image, (64, 64))\n",
        "  images.append(image)\n",
        "\n",
        "labels = []\n",
        "f = open('HousesInfo.txt', \"r\")\n",
        "for x in f:\n",
        "  label = (x).split(' ')[-1].split('\\n')[0]\n",
        "  labels.append(label)\n",
        "\n",
        "# Let's visualize some examples\n",
        "N=3\n",
        "start_val = 0 # pick an element for the code to plot the following N**2 values\n",
        "fig, axes = plt.subplots(N,N)\n",
        "for row in range(N):\n",
        "  for col in range(N):\n",
        "    idx = start_val+row+N*col    \n",
        "    tmp = cv2.cvtColor(images[idx],cv2.COLOR_BGR2RGB)\n",
        "    axes[row,col].imshow(tmp, cmap='gray')\n",
        "    fig.subplots_adjust(hspace=0.5)\n",
        "    target = int(labels[idx])\n",
        "    axes[row,col].set_title(str(target) + '$')\n",
        "    axes[row,col].set_xticks([])\n",
        "    axes[row,col].set_yticks([])"
      ],
      "execution_count": 53,
      "outputs": [
        {
          "output_type": "stream",
          "name": "stdout",
          "text": [
            "We have selected kitchen images. You can switch to the kitchen, frontal, bedroom or bathroom images by changing house_section variable.\n"
          ]
        },
        {
          "output_type": "display_data",
          "data": {
            "text/plain": [
              "<Figure size 432x288 with 9 Axes>"
            ],
            "image/png": "[encoded data removed]"
          },
          "metadata": {}
        }
      ]
    },
    {
      "cell_type": "markdown",
      "metadata": {
        "id": "scNfczb73nGS"
      },
      "source": [
        "Prepare the dataset for training the model:"
      ]
    },
    {
      "cell_type": "code",
      "metadata": {
        "id": "FORNJ1QU2L-t",
        "colab": {
          "base_uri": "https://localhost:8080/"
        },
        "outputId": "184fe362-2572-4345-a0f5-ab117cf15943"
      },
      "source": [
        "seed(1234)\n",
        "images = np.asarray(images).astype('float32')\n",
        "labels = np.asarray(labels).astype('float32')\n",
        "\n",
        "# Normalize the image\n",
        "max_price = labels.max()\n",
        "images /= 255.\n",
        "labels /= max_price\n",
        "\n",
        "random_idx = np.random.permutation(len(images))\n",
        "images = images[random_idx]\n",
        "labels = labels[random_idx]\n",
        "\n",
        "split_size_val = int(0.8*len(images))\n",
        "X_train, X_val = images[:split_size_val], images[split_size_val+1:]\n",
        "Y_train, Y_val = labels[:split_size_val], labels[split_size_val+1:]\n",
        "\n",
        "# Print shape of training and val images \n",
        "print('X_train image shape: {0}'.format(X_train.shape))\n",
        "print('X_val image shape: {0}'.format(X_val.shape))\n",
        "\n",
        "# Print shape of training and val labels \n",
        "print('Y_train labels shape: {0}'.format(Y_train.shape))\n",
        "print('Y_val labels shape: {0}'.format(Y_val.shape))"
      ],
      "execution_count": 47,
      "outputs": [
        {
          "output_type": "stream",
          "name": "stdout",
          "text": [
            "X_train image shape: (428, 64, 64, 3)\n",
            "X_val image shape: (106, 64, 64, 3)\n",
            "Y_train labels shape: (428,)\n",
            "Y_val labels shape: (106,)\n"
          ]
        }
      ]
    },
    {
      "cell_type": "markdown",
      "metadata": {
        "id": "JGC6dXqdM2eU"
      },
      "source": [
        "### Problem Definition\n",
        "\n",
        "Similar to the previous task, you are asked to design a CNN architecture able to perform the estimation of house prices based on the `frontal` house image. Design a new model by changing parameters such as the number of convolutional layers, activation functions, strides, or pooling operators, among others."
      ]
    },
    {
      "cell_type": "code",
      "metadata": {
        "id": "YE8g42x3M2Ko",
        "colab": {
          "base_uri": "https://localhost:8080/"
        },
        "outputId": "22188181-a0e9-45d7-8c97-fc1938cd236b"
      },
      "source": [
        "import tensorflow as tf\n",
        "tf.compat.v1.logging.set_verbosity(tf.compat.v1.logging.ERROR)\n",
        "from keras.models import Sequential\n",
        "from keras.layers import Dense, Activation\n",
        "from keras.utils import np_utils\n",
        "from keras.optimizers import Adam\n",
        "from keras.layers import Conv2D, MaxPooling2D, Flatten, AveragePooling2D\n",
        "tf.random.set_seed(1234)\n",
        "from google.colab import drive\n",
        "drive.mount('/content/drive')\n",
        "\n",
        "chanDim = -1\n",
        "model = Sequential()\n",
        "\n",
        "# . . . \n",
        "\n",
        "model.add(Conv2D(32, (3,3), padding='same', strides=1, input_shape=X_train.shape[1:]))\n",
        "model.add(Activation('relu'))\n",
        "model.add(MaxPooling2D(pool_size=(2,2)))\n",
        "model.add(AveragePooling2D(pool_size=(2,2)))\n",
        "model.add(Flatten())\n",
        "model.add(Dense(1))\n",
        "# . . . \n",
        "\n",
        "model.summary()\n",
        "opt = Adam(lr=1e-3, decay=1e-3 / 200)\n",
        "\n",
        "model.compile(loss=\"mean_absolute_percentage_error\", optimizer=opt, metrics=['mean_absolute_percentage_error'])\n",
        "\n",
        "# train the model\n",
        "print(\"[INFO] training model...\")\n",
        "history = model.fit(X_train, Y_train, validation_data=(X_val, Y_val), epochs=100, batch_size=32)\n",
        "\n",
        "prices_predicted = model.predict(X_val).flatten()\n",
        "print(model.predict(X_val).shape)\n",
        "print(Y_val.shape)\n",
        "diff = ((prices_predicted - Y_val) / Y_val) * 100\n",
        "error_mean = np.mean(np.abs(diff))\n",
        "\n",
        "print(\"Estimation Error: {:.2f}%\".format(error_mean))\n",
        "\n",
        "\n",
        "model.save('/content/drive/MyDrive/dl-cw/tryact')"
      ],
      "execution_count": 57,
      "outputs": [
        {
          "output_type": "stream",
          "name": "stdout",
          "text": [
            "Drive already mounted at /content/drive; to attempt to forcibly remount, call drive.mount(\"/content/drive\", force_remount=True).\n",
            "Model: \"sequential_26\"\n",
            "_________________________________________________________________\n",
            " Layer (type)                Output Shape              Param #   \n",
            "=================================================================\n",
            " conv2d_51 (Conv2D)          (None, 64, 64, 32)        896       \n",
            "                                                                 \n",
            " activation_1 (Activation)   (None, 64, 64, 32)        0         \n",
            "                                                                 \n",
            " max_pooling2d_51 (MaxPoolin  (None, 32, 32, 32)       0         \n",
            " g2D)                                                            \n",
            "                                                                 \n",
            " average_pooling2d_24 (Avera  (None, 16, 16, 32)       0         \n",
            " gePooling2D)                                                    \n",
            "                                                                 \n",
            " flatten_22 (Flatten)        (None, 8192)              0         \n",
            "                                                                 \n",
            " dense_22 (Dense)            (None, 1)                 8193      \n",
            "                                                                 \n",
            "=================================================================\n",
            "Total params: 9,089\n",
            "Trainable params: 9,089\n",
            "Non-trainable params: 0\n",
            "_________________________________________________________________\n",
            "[INFO] training model...\n",
            "Epoch 1/100\n"
          ]
        },
        {
          "output_type": "stream",
          "name": "stderr",
          "text": [
            "/usr/local/lib/python3.8/dist-packages/keras/optimizers/optimizer_v2/adam.py:110: UserWarning: The `lr` argument is deprecated, use `learning_rate` instead.\n",
            "  super(Adam, self).__init__(name, **kwargs)\n"
          ]
        },
        {
          "output_type": "stream",
          "name": "stdout",
          "text": [
            "14/14 [==============================] - 1s 15ms/step - loss: 530.7127 - mean_absolute_percentage_error: 530.7127 - val_loss: 190.2743 - val_mean_absolute_percentage_error: 190.2743\n",
            "Epoch 2/100\n",
            "14/14 [==============================] - 0s 7ms/step - loss: 152.5989 - mean_absolute_percentage_error: 152.5989 - val_loss: 120.2286 - val_mean_absolute_percentage_error: 120.2286\n",
            "Epoch 3/100\n",
            "14/14 [==============================] - 0s 7ms/step - loss: 96.7923 - mean_absolute_percentage_error: 96.7923 - val_loss: 55.7008 - val_mean_absolute_percentage_error: 55.7008\n",
            "Epoch 4/100\n",
            "14/14 [==============================] - 0s 7ms/step - loss: 75.2022 - mean_absolute_percentage_error: 75.2022 - val_loss: 51.0569 - val_mean_absolute_percentage_error: 51.0569\n",
            "Epoch 5/100\n",
            "14/14 [==============================] - 0s 7ms/step - loss: 72.3819 - mean_absolute_percentage_error: 72.3819 - val_loss: 52.3961 - val_mean_absolute_percentage_error: 52.3961\n",
            "Epoch 6/100\n",
            "14/14 [==============================] - 0s 7ms/step - loss: 67.9395 - mean_absolute_percentage_error: 67.9395 - val_loss: 59.4189 - val_mean_absolute_percentage_error: 59.4189\n",
            "Epoch 7/100\n",
            "14/14 [==============================] - 0s 8ms/step - loss: 59.7073 - mean_absolute_percentage_error: 59.7073 - val_loss: 51.7131 - val_mean_absolute_percentage_error: 51.7131\n",
            "Epoch 8/100\n",
            "14/14 [==============================] - 0s 7ms/step - loss: 50.6923 - mean_absolute_percentage_error: 50.6923 - val_loss: 57.2014 - val_mean_absolute_percentage_error: 57.2014\n",
            "Epoch 9/100\n",
            "14/14 [==============================] - 0s 7ms/step - loss: 48.6266 - mean_absolute_percentage_error: 48.6266 - val_loss: 52.2368 - val_mean_absolute_percentage_error: 52.2368\n",
            "Epoch 10/100\n",
            "14/14 [==============================] - 0s 6ms/step - loss: 43.9375 - mean_absolute_percentage_error: 43.9375 - val_loss: 53.6255 - val_mean_absolute_percentage_error: 53.6255\n",
            "Epoch 11/100\n",
            "14/14 [==============================] - 0s 7ms/step - loss: 42.0686 - mean_absolute_percentage_error: 42.0686 - val_loss: 50.3616 - val_mean_absolute_percentage_error: 50.3616\n",
            "Epoch 12/100\n",
            "14/14 [==============================] - 0s 7ms/step - loss: 39.8580 - mean_absolute_percentage_error: 39.8580 - val_loss: 52.1491 - val_mean_absolute_percentage_error: 52.1491\n",
            "Epoch 13/100\n",
            "14/14 [==============================] - 0s 7ms/step - loss: 39.4530 - mean_absolute_percentage_error: 39.4530 - val_loss: 53.0929 - val_mean_absolute_percentage_error: 53.0929\n",
            "Epoch 14/100\n",
            "14/14 [==============================] - 0s 7ms/step - loss: 42.7503 - mean_absolute_percentage_error: 42.7503 - val_loss: 52.4073 - val_mean_absolute_percentage_error: 52.4073\n",
            "Epoch 15/100\n",
            "14/14 [==============================] - 0s 6ms/step - loss: 38.8333 - mean_absolute_percentage_error: 38.8333 - val_loss: 50.5233 - val_mean_absolute_percentage_error: 50.5233\n",
            "Epoch 16/100\n",
            "14/14 [==============================] - 0s 7ms/step - loss: 35.9226 - mean_absolute_percentage_error: 35.9226 - val_loss: 52.7498 - val_mean_absolute_percentage_error: 52.7498\n",
            "Epoch 17/100\n",
            "14/14 [==============================] - 0s 8ms/step - loss: 34.0036 - mean_absolute_percentage_error: 34.0036 - val_loss: 51.8048 - val_mean_absolute_percentage_error: 51.8048\n",
            "Epoch 18/100\n",
            "14/14 [==============================] - 0s 6ms/step - loss: 32.6249 - mean_absolute_percentage_error: 32.6249 - val_loss: 54.2071 - val_mean_absolute_percentage_error: 54.2071\n",
            "Epoch 19/100\n",
            "14/14 [==============================] - 0s 6ms/step - loss: 31.9882 - mean_absolute_percentage_error: 31.9882 - val_loss: 53.5132 - val_mean_absolute_percentage_error: 53.5132\n",
            "Epoch 20/100\n",
            "14/14 [==============================] - 0s 7ms/step - loss: 31.6770 - mean_absolute_percentage_error: 31.6770 - val_loss: 53.5441 - val_mean_absolute_percentage_error: 53.5441\n",
            "Epoch 21/100\n",
            "14/14 [==============================] - 0s 7ms/step - loss: 29.5230 - mean_absolute_percentage_error: 29.5230 - val_loss: 50.3080 - val_mean_absolute_percentage_error: 50.3080\n",
            "Epoch 22/100\n",
            "14/14 [==============================] - 0s 6ms/step - loss: 29.7873 - mean_absolute_percentage_error: 29.7873 - val_loss: 55.6059 - val_mean_absolute_percentage_error: 55.6059\n",
            "Epoch 23/100\n",
            "14/14 [==============================] - 0s 6ms/step - loss: 33.2520 - mean_absolute_percentage_error: 33.2520 - val_loss: 52.6842 - val_mean_absolute_percentage_error: 52.6842\n",
            "Epoch 24/100\n",
            "14/14 [==============================] - 0s 8ms/step - loss: 31.9704 - mean_absolute_percentage_error: 31.9704 - val_loss: 53.5773 - val_mean_absolute_percentage_error: 53.5773\n",
            "Epoch 25/100\n",
            "14/14 [==============================] - 0s 7ms/step - loss: 30.1290 - mean_absolute_percentage_error: 30.1290 - val_loss: 51.1819 - val_mean_absolute_percentage_error: 51.1819\n",
            "Epoch 26/100\n",
            "14/14 [==============================] - 0s 7ms/step - loss: 31.9939 - mean_absolute_percentage_error: 31.9939 - val_loss: 52.2687 - val_mean_absolute_percentage_error: 52.2687\n",
            "Epoch 27/100\n",
            "14/14 [==============================] - 0s 8ms/step - loss: 31.9967 - mean_absolute_percentage_error: 31.9967 - val_loss: 54.1266 - val_mean_absolute_percentage_error: 54.1266\n",
            "Epoch 28/100\n",
            "14/14 [==============================] - 0s 7ms/step - loss: 27.0933 - mean_absolute_percentage_error: 27.0933 - val_loss: 52.9166 - val_mean_absolute_percentage_error: 52.9166\n",
            "Epoch 29/100\n",
            "14/14 [==============================] - 0s 6ms/step - loss: 28.6948 - mean_absolute_percentage_error: 28.6948 - val_loss: 52.1692 - val_mean_absolute_percentage_error: 52.1692\n",
            "Epoch 30/100\n",
            "14/14 [==============================] - 0s 6ms/step - loss: 25.4835 - mean_absolute_percentage_error: 25.4835 - val_loss: 52.5446 - val_mean_absolute_percentage_error: 52.5446\n",
            "Epoch 31/100\n",
            "14/14 [==============================] - 0s 7ms/step - loss: 27.6040 - mean_absolute_percentage_error: 27.6040 - val_loss: 55.8149 - val_mean_absolute_percentage_error: 55.8149\n",
            "Epoch 32/100\n",
            "14/14 [==============================] - 0s 7ms/step - loss: 31.4016 - mean_absolute_percentage_error: 31.4016 - val_loss: 50.5486 - val_mean_absolute_percentage_error: 50.5486\n",
            "Epoch 33/100\n",
            "14/14 [==============================] - 0s 7ms/step - loss: 31.9983 - mean_absolute_percentage_error: 31.9983 - val_loss: 51.5529 - val_mean_absolute_percentage_error: 51.5529\n",
            "Epoch 34/100\n",
            "14/14 [==============================] - 0s 6ms/step - loss: 33.3374 - mean_absolute_percentage_error: 33.3374 - val_loss: 51.9121 - val_mean_absolute_percentage_error: 51.9121\n",
            "Epoch 35/100\n",
            "14/14 [==============================] - 0s 7ms/step - loss: 31.3671 - mean_absolute_percentage_error: 31.3671 - val_loss: 52.2825 - val_mean_absolute_percentage_error: 52.2825\n",
            "Epoch 36/100\n",
            "14/14 [==============================] - 0s 6ms/step - loss: 27.8859 - mean_absolute_percentage_error: 27.8859 - val_loss: 54.3300 - val_mean_absolute_percentage_error: 54.3300\n",
            "Epoch 37/100\n",
            "14/14 [==============================] - 0s 7ms/step - loss: 24.1611 - mean_absolute_percentage_error: 24.1611 - val_loss: 51.7472 - val_mean_absolute_percentage_error: 51.7472\n",
            "Epoch 38/100\n",
            "14/14 [==============================] - 0s 7ms/step - loss: 24.6141 - mean_absolute_percentage_error: 24.6141 - val_loss: 58.8472 - val_mean_absolute_percentage_error: 58.8472\n",
            "Epoch 39/100\n",
            "14/14 [==============================] - 0s 7ms/step - loss: 30.1882 - mean_absolute_percentage_error: 30.1882 - val_loss: 55.1392 - val_mean_absolute_percentage_error: 55.1392\n",
            "Epoch 40/100\n",
            "14/14 [==============================] - 0s 7ms/step - loss: 24.9845 - mean_absolute_percentage_error: 24.9845 - val_loss: 54.7479 - val_mean_absolute_percentage_error: 54.7479\n",
            "Epoch 41/100\n",
            "14/14 [==============================] - 0s 7ms/step - loss: 26.8961 - mean_absolute_percentage_error: 26.8961 - val_loss: 57.1317 - val_mean_absolute_percentage_error: 57.1317\n",
            "Epoch 42/100\n",
            "14/14 [==============================] - 0s 7ms/step - loss: 24.6079 - mean_absolute_percentage_error: 24.6079 - val_loss: 54.6822 - val_mean_absolute_percentage_error: 54.6822\n",
            "Epoch 43/100\n",
            "14/14 [==============================] - 0s 7ms/step - loss: 23.5998 - mean_absolute_percentage_error: 23.5998 - val_loss: 56.0490 - val_mean_absolute_percentage_error: 56.0490\n",
            "Epoch 44/100\n",
            "14/14 [==============================] - 0s 7ms/step - loss: 22.1080 - mean_absolute_percentage_error: 22.1080 - val_loss: 55.1000 - val_mean_absolute_percentage_error: 55.1000\n",
            "Epoch 45/100\n",
            "14/14 [==============================] - 0s 6ms/step - loss: 23.6177 - mean_absolute_percentage_error: 23.6177 - val_loss: 54.9962 - val_mean_absolute_percentage_error: 54.9962\n",
            "Epoch 46/100\n",
            "14/14 [==============================] - 0s 7ms/step - loss: 22.8996 - mean_absolute_percentage_error: 22.8996 - val_loss: 55.8862 - val_mean_absolute_percentage_error: 55.8862\n",
            "Epoch 47/100\n",
            "14/14 [==============================] - 0s 7ms/step - loss: 23.3815 - mean_absolute_percentage_error: 23.3815 - val_loss: 56.6708 - val_mean_absolute_percentage_error: 56.6708\n",
            "Epoch 48/100\n",
            "14/14 [==============================] - 0s 8ms/step - loss: 25.5762 - mean_absolute_percentage_error: 25.5762 - val_loss: 55.4634 - val_mean_absolute_percentage_error: 55.4634\n",
            "Epoch 49/100\n",
            "14/14 [==============================] - 0s 8ms/step - loss: 22.9825 - mean_absolute_percentage_error: 22.9825 - val_loss: 53.6043 - val_mean_absolute_percentage_error: 53.6043\n",
            "Epoch 50/100\n",
            "14/14 [==============================] - 0s 7ms/step - loss: 20.9941 - mean_absolute_percentage_error: 20.9941 - val_loss: 56.5780 - val_mean_absolute_percentage_error: 56.5780\n",
            "Epoch 51/100\n",
            "14/14 [==============================] - 0s 7ms/step - loss: 24.3623 - mean_absolute_percentage_error: 24.3623 - val_loss: 52.6959 - val_mean_absolute_percentage_error: 52.6959\n",
            "Epoch 52/100\n",
            "14/14 [==============================] - 0s 7ms/step - loss: 23.2911 - mean_absolute_percentage_error: 23.2911 - val_loss: 59.2427 - val_mean_absolute_percentage_error: 59.2427\n",
            "Epoch 53/100\n",
            "14/14 [==============================] - 0s 7ms/step - loss: 21.2373 - mean_absolute_percentage_error: 21.2373 - val_loss: 56.5055 - val_mean_absolute_percentage_error: 56.5055\n",
            "Epoch 54/100\n",
            "14/14 [==============================] - 0s 7ms/step - loss: 21.3130 - mean_absolute_percentage_error: 21.3130 - val_loss: 58.6559 - val_mean_absolute_percentage_error: 58.6559\n",
            "Epoch 55/100\n",
            "14/14 [==============================] - 0s 7ms/step - loss: 20.9830 - mean_absolute_percentage_error: 20.9830 - val_loss: 58.4588 - val_mean_absolute_percentage_error: 58.4588\n",
            "Epoch 56/100\n",
            "14/14 [==============================] - 0s 7ms/step - loss: 20.7022 - mean_absolute_percentage_error: 20.7022 - val_loss: 57.9732 - val_mean_absolute_percentage_error: 57.9732\n",
            "Epoch 57/100\n",
            "14/14 [==============================] - 0s 8ms/step - loss: 22.3234 - mean_absolute_percentage_error: 22.3234 - val_loss: 56.1560 - val_mean_absolute_percentage_error: 56.1560\n",
            "Epoch 58/100\n",
            "14/14 [==============================] - 0s 9ms/step - loss: 20.3939 - mean_absolute_percentage_error: 20.3939 - val_loss: 60.2719 - val_mean_absolute_percentage_error: 60.2719\n",
            "Epoch 59/100\n",
            "14/14 [==============================] - 0s 7ms/step - loss: 23.6594 - mean_absolute_percentage_error: 23.6594 - val_loss: 55.9062 - val_mean_absolute_percentage_error: 55.9062\n",
            "Epoch 60/100\n",
            "14/14 [==============================] - 0s 7ms/step - loss: 21.8307 - mean_absolute_percentage_error: 21.8307 - val_loss: 62.3043 - val_mean_absolute_percentage_error: 62.3043\n",
            "Epoch 61/100\n",
            "14/14 [==============================] - 0s 7ms/step - loss: 21.6819 - mean_absolute_percentage_error: 21.6819 - val_loss: 60.5995 - val_mean_absolute_percentage_error: 60.5995\n",
            "Epoch 62/100\n",
            "14/14 [==============================] - 0s 7ms/step - loss: 24.8386 - mean_absolute_percentage_error: 24.8386 - val_loss: 56.0287 - val_mean_absolute_percentage_error: 56.0287\n",
            "Epoch 63/100\n",
            "14/14 [==============================] - 0s 7ms/step - loss: 21.5749 - mean_absolute_percentage_error: 21.5749 - val_loss: 56.2938 - val_mean_absolute_percentage_error: 56.2938\n",
            "Epoch 64/100\n",
            "14/14 [==============================] - 0s 7ms/step - loss: 21.3783 - mean_absolute_percentage_error: 21.3783 - val_loss: 60.3083 - val_mean_absolute_percentage_error: 60.3083\n",
            "Epoch 65/100\n",
            "14/14 [==============================] - 0s 7ms/step - loss: 24.1237 - mean_absolute_percentage_error: 24.1237 - val_loss: 63.6216 - val_mean_absolute_percentage_error: 63.6216\n",
            "Epoch 66/100\n",
            "14/14 [==============================] - 0s 7ms/step - loss: 22.7569 - mean_absolute_percentage_error: 22.7569 - val_loss: 56.9971 - val_mean_absolute_percentage_error: 56.9971\n",
            "Epoch 67/100\n",
            "14/14 [==============================] - 0s 7ms/step - loss: 22.5347 - mean_absolute_percentage_error: 22.5347 - val_loss: 59.8605 - val_mean_absolute_percentage_error: 59.8605\n",
            "Epoch 68/100\n",
            "14/14 [==============================] - 0s 7ms/step - loss: 22.8831 - mean_absolute_percentage_error: 22.8831 - val_loss: 61.9347 - val_mean_absolute_percentage_error: 61.9347\n",
            "Epoch 69/100\n",
            "14/14 [==============================] - 0s 7ms/step - loss: 19.8724 - mean_absolute_percentage_error: 19.8724 - val_loss: 59.4449 - val_mean_absolute_percentage_error: 59.4449\n",
            "Epoch 70/100\n",
            "14/14 [==============================] - 0s 7ms/step - loss: 19.4789 - mean_absolute_percentage_error: 19.4789 - val_loss: 61.3634 - val_mean_absolute_percentage_error: 61.3634\n",
            "Epoch 71/100\n",
            "14/14 [==============================] - 0s 7ms/step - loss: 19.0373 - mean_absolute_percentage_error: 19.0373 - val_loss: 62.2856 - val_mean_absolute_percentage_error: 62.2856\n",
            "Epoch 72/100\n",
            "14/14 [==============================] - 0s 8ms/step - loss: 18.0056 - mean_absolute_percentage_error: 18.0056 - val_loss: 64.8154 - val_mean_absolute_percentage_error: 64.8154\n",
            "Epoch 73/100\n",
            "14/14 [==============================] - 0s 7ms/step - loss: 19.9463 - mean_absolute_percentage_error: 19.9463 - val_loss: 58.9904 - val_mean_absolute_percentage_error: 58.9904\n",
            "Epoch 74/100\n",
            "14/14 [==============================] - 0s 7ms/step - loss: 18.9139 - mean_absolute_percentage_error: 18.9139 - val_loss: 61.9804 - val_mean_absolute_percentage_error: 61.9804\n",
            "Epoch 75/100\n",
            "14/14 [==============================] - 0s 7ms/step - loss: 18.5711 - mean_absolute_percentage_error: 18.5711 - val_loss: 58.3024 - val_mean_absolute_percentage_error: 58.3024\n",
            "Epoch 76/100\n",
            "14/14 [==============================] - 0s 7ms/step - loss: 19.7202 - mean_absolute_percentage_error: 19.7202 - val_loss: 61.3143 - val_mean_absolute_percentage_error: 61.3143\n",
            "Epoch 77/100\n",
            "14/14 [==============================] - 0s 7ms/step - loss: 17.8979 - mean_absolute_percentage_error: 17.8979 - val_loss: 63.2481 - val_mean_absolute_percentage_error: 63.2481\n",
            "Epoch 78/100\n",
            "14/14 [==============================] - 0s 6ms/step - loss: 19.6652 - mean_absolute_percentage_error: 19.6652 - val_loss: 62.0133 - val_mean_absolute_percentage_error: 62.0133\n",
            "Epoch 79/100\n",
            "14/14 [==============================] - 0s 7ms/step - loss: 20.2005 - mean_absolute_percentage_error: 20.2005 - val_loss: 58.8433 - val_mean_absolute_percentage_error: 58.8433\n",
            "Epoch 80/100\n",
            "14/14 [==============================] - 0s 7ms/step - loss: 20.2018 - mean_absolute_percentage_error: 20.2018 - val_loss: 67.3994 - val_mean_absolute_percentage_error: 67.3994\n",
            "Epoch 81/100\n",
            "14/14 [==============================] - 0s 7ms/step - loss: 23.2333 - mean_absolute_percentage_error: 23.2333 - val_loss: 56.9386 - val_mean_absolute_percentage_error: 56.9386\n",
            "Epoch 82/100\n",
            "14/14 [==============================] - 0s 7ms/step - loss: 22.4296 - mean_absolute_percentage_error: 22.4296 - val_loss: 71.4347 - val_mean_absolute_percentage_error: 71.4347\n",
            "Epoch 83/100\n",
            "14/14 [==============================] - 0s 7ms/step - loss: 22.8377 - mean_absolute_percentage_error: 22.8377 - val_loss: 57.6148 - val_mean_absolute_percentage_error: 57.6148\n",
            "Epoch 84/100\n",
            "14/14 [==============================] - 0s 7ms/step - loss: 23.4760 - mean_absolute_percentage_error: 23.4760 - val_loss: 56.9879 - val_mean_absolute_percentage_error: 56.9879\n",
            "Epoch 85/100\n",
            "14/14 [==============================] - 0s 7ms/step - loss: 21.8982 - mean_absolute_percentage_error: 21.8982 - val_loss: 62.4149 - val_mean_absolute_percentage_error: 62.4149\n",
            "Epoch 86/100\n",
            "14/14 [==============================] - 0s 8ms/step - loss: 19.7510 - mean_absolute_percentage_error: 19.7510 - val_loss: 63.5132 - val_mean_absolute_percentage_error: 63.5132\n",
            "Epoch 87/100\n",
            "14/14 [==============================] - 0s 8ms/step - loss: 17.7654 - mean_absolute_percentage_error: 17.7654 - val_loss: 66.5190 - val_mean_absolute_percentage_error: 66.5190\n",
            "Epoch 88/100\n",
            "14/14 [==============================] - 0s 7ms/step - loss: 25.5235 - mean_absolute_percentage_error: 25.5235 - val_loss: 65.1543 - val_mean_absolute_percentage_error: 65.1543\n",
            "Epoch 89/100\n",
            "14/14 [==============================] - 0s 7ms/step - loss: 21.2730 - mean_absolute_percentage_error: 21.2730 - val_loss: 59.8501 - val_mean_absolute_percentage_error: 59.8501\n",
            "Epoch 90/100\n",
            "14/14 [==============================] - 0s 7ms/step - loss: 20.8109 - mean_absolute_percentage_error: 20.8109 - val_loss: 60.8640 - val_mean_absolute_percentage_error: 60.8640\n",
            "Epoch 91/100\n",
            "14/14 [==============================] - 0s 7ms/step - loss: 19.5128 - mean_absolute_percentage_error: 19.5128 - val_loss: 61.2160 - val_mean_absolute_percentage_error: 61.2160\n",
            "Epoch 92/100\n",
            "14/14 [==============================] - 0s 7ms/step - loss: 20.5228 - mean_absolute_percentage_error: 20.5228 - val_loss: 63.6430 - val_mean_absolute_percentage_error: 63.6430\n",
            "Epoch 93/100\n",
            "14/14 [==============================] - 0s 7ms/step - loss: 21.4936 - mean_absolute_percentage_error: 21.4936 - val_loss: 64.1143 - val_mean_absolute_percentage_error: 64.1143\n",
            "Epoch 94/100\n",
            "14/14 [==============================] - 0s 8ms/step - loss: 20.8270 - mean_absolute_percentage_error: 20.8270 - val_loss: 62.1354 - val_mean_absolute_percentage_error: 62.1354\n",
            "Epoch 95/100\n",
            "14/14 [==============================] - 0s 7ms/step - loss: 22.0443 - mean_absolute_percentage_error: 22.0443 - val_loss: 56.9537 - val_mean_absolute_percentage_error: 56.9537\n",
            "Epoch 96/100\n",
            "14/14 [==============================] - 0s 8ms/step - loss: 23.6280 - mean_absolute_percentage_error: 23.6280 - val_loss: 68.0724 - val_mean_absolute_percentage_error: 68.0724\n",
            "Epoch 97/100\n",
            "14/14 [==============================] - 0s 7ms/step - loss: 22.3223 - mean_absolute_percentage_error: 22.3223 - val_loss: 62.9877 - val_mean_absolute_percentage_error: 62.9877\n",
            "Epoch 98/100\n",
            "14/14 [==============================] - 0s 7ms/step - loss: 19.2955 - mean_absolute_percentage_error: 19.2955 - val_loss: 63.1041 - val_mean_absolute_percentage_error: 63.1041\n",
            "Epoch 99/100\n",
            "14/14 [==============================] - 0s 7ms/step - loss: 17.9604 - mean_absolute_percentage_error: 17.9604 - val_loss: 62.7109 - val_mean_absolute_percentage_error: 62.7109\n",
            "Epoch 100/100\n",
            "14/14 [==============================] - 0s 7ms/step - loss: 16.7541 - mean_absolute_percentage_error: 16.7541 - val_loss: 65.8909 - val_mean_absolute_percentage_error: 65.8909\n",
            "4/4 [==============================] - 0s 4ms/step\n",
            "4/4 [==============================] - 0s 3ms/step\n",
            "(106, 1)\n",
            "(106,)\n",
            "Estimation Error: 65.89%\n"
          ]
        },
        {
          "output_type": "stream",
          "name": "stderr",
          "text": [
            "WARNING:absl:Found untraced functions such as _jit_compiled_convolution_op while saving (showing 1 of 1). These functions will not be directly callable after loading.\n"
          ]
        }
      ]
    },
    {
      "cell_type": "markdown",
      "source": [
        "Error: 62.22%\n",
        "```\n",
        "model.add(Conv2D(32, (3,3), padding='valid', strides=2, input_shape=X_train.shape[1:]))\n",
        "model.add(MaxPooling2D(pool_size=(2,2)))\n",
        "model.add(Conv2D(64, (3,3), padding='valid', strides=2, input_shape=X_train.shape[1:]))\n",
        "model.add(MaxPooling2D(pool_size=(2,2)))\n",
        "model.add(AveragePooling2D(pool_size=(2,2)))\n",
        "model.add(Flatten())\n",
        "model.add(Dense(1))\n",
        "```"
      ],
      "metadata": {
        "id": "dsUB2GVJvHI0"
      }
    },
    {
      "cell_type": "code",
      "source": [
        "import matplotlib as mpl\n",
        "import matplotlib.font_manager as fm\n",
        "from matplotlib import font_manager as fm, pyplot as plt\n",
        "\n",
        "!wget https://github.com/trishume/OpenTuringCompiler/blob/master/stdlib-sfml/fonts/Times%20New%20Roman.ttf\n",
        "!wget https://github.com/matomo-org/travis-scripts/blob/master/fonts/Arial.ttf \n",
        "\n",
        "font_files = fm.findSystemFonts()\n",
        "\n",
        "# Go through and add each to Matplotlib's font cache.\n",
        "for font_file in font_files:\n",
        "    fm.fontManager.addfont(font_file)\n",
        "\n",
        "fm.fontManager.ttflist += fm.createFontList(['Times New Roman.ttf'])\n",
        "\n",
        "# Use your new font on all your plots.\n",
        "plt.rc('font', family='serif')"
      ],
      "metadata": {
        "id": "zLxzTRBet5FL",
        "outputId": "681482f0-5547-461e-e975-e8e41e069762",
        "colab": {
          "base_uri": "https://localhost:8080/"
        }
      },
      "execution_count": 11,
      "outputs": [
        {
          "output_type": "stream",
          "name": "stdout",
          "text": [
            "--2023-01-25 02:17:52--  https://github.com/trishume/OpenTuringCompiler/blob/master/stdlib-sfml/fonts/Times%20New%20Roman.ttf\n",
            "Resolving github.com (github.com)... 140.82.121.4\n",
            "Connecting to github.com (github.com)|140.82.121.4|:443... connected.\n",
            "HTTP request sent, awaiting response... 200 OK\n",
            "Length: unspecified [text/html]\n",
            "Saving to: ‘Times New Roman.ttf’\n",
            "\n",
            "Times New Roman.ttf     [ <=>                ] 136.65K  --.-KB/s    in 0.02s   \n",
            "\n",
            "2023-01-25 02:17:53 (6.00 MB/s) - ‘Times New Roman.ttf’ saved [139927]\n",
            "\n",
            "--2023-01-25 02:17:53--  https://github.com/matomo-org/travis-scripts/blob/master/fonts/Arial.ttf\n",
            "Resolving github.com (github.com)... 140.82.121.3\n",
            "Connecting to github.com (github.com)|140.82.121.3|:443... connected.\n",
            "HTTP request sent, awaiting response... 200 OK\n",
            "Length: unspecified [text/html]\n",
            "Saving to: ‘Arial.ttf’\n",
            "\n",
            "Arial.ttf               [ <=>                ] 133.92K  --.-KB/s    in 0.02s   \n",
            "\n",
            "2023-01-25 02:17:53 (5.77 MB/s) - ‘Arial.ttf’ saved [137134]\n",
            "\n"
          ]
        },
        {
          "output_type": "stream",
          "name": "stderr",
          "text": [
            "<ipython-input-11-e0ed7598ffa5>:14: MatplotlibDeprecationWarning: \n",
            "The createFontList function was deprecated in Matplotlib 3.2 and will be removed two minor releases later. Use FontManager.addfont instead.\n",
            "  fm.fontManager.ttflist += fm.createFontList(['Times New Roman.ttf'])\n"
          ]
        }
      ]
    },
    {
      "cell_type": "code",
      "source": [
        "fig = plt.figure(figsize=(17,8))\n",
        "plt.plot(history.history['loss'], label='Training Loss')\n",
        "# axes[0].set_ylabel('Mean Absolute Percentage Error')\n",
        "plt.xlabel('Epoch', fontsize=12)\n",
        "plt.yticks(fontsize=10)\n",
        "plt.xticks(fontsize=10)\n",
        "\n",
        "plt.plot(history.history['val_mean_absolute_percentage_error'], label='Validation loss')\n",
        "plt.title('Training and Validation Loss')\n",
        "plt.legend()\n",
        "# fig.title('Mean Absolute Percentage Error Loss')"
      ],
      "metadata": {
        "id": "BvVhJkyfvWbs",
        "outputId": "962ea14d-372e-4773-e810-7dfc4c071b67",
        "colab": {
          "base_uri": "https://localhost:8080/",
          "height": 532
        }
      },
      "execution_count": 21,
      "outputs": [
        {
          "output_type": "execute_result",
          "data": {
            "text/plain": [
              "<matplotlib.legend.Legend at 0x7f02d3f07b20>"
            ]
          },
          "metadata": {},
          "execution_count": 21
        },
        {
          "output_type": "display_data",
          "data": {
            "text/plain": [
              "<Figure size 1224x576 with 1 Axes>"
            ],
            "image/png": "[encoded data removed]"
          },
          "metadata": {
            "needs_background": "light"
          }
        }
      ]
    },
    {
      "cell_type": "code",
      "source": [
        "fig = plt.figure(figsize=(17,8))\n",
        "plt.plot(history.history['loss'], label='Training Loss')\n",
        "# axes[0].set_ylabel('Mean Absolute Percentage Error')\n",
        "plt.xlabel('Epoch', fontsize=12)\n",
        "plt.yticks(fontsize=10)\n",
        "plt.xticks(fontsize=10)\n",
        "\n",
        "plt.plot(history.history['val_mean_absolute_percentage_error'], label='Validation loss')\n",
        "plt.title('Training and Validation Loss')\n",
        "plt.legend()\n",
        "# fig.title('Mean Absolute Percentage Error Loss')"
      ],
      "metadata": {
        "colab": {
          "base_uri": "https://localhost:8080/",
          "height": 532
        },
        "id": "V-jTZnCHdk1r",
        "outputId": "bd1f28f3-b5e1-4cc4-f3b6-f1484c702967"
      },
      "execution_count": 19,
      "outputs": [
        {
          "output_type": "execute_result",
          "data": {
            "text/plain": [
              "<matplotlib.legend.Legend at 0x7f02879bc130>"
            ]
          },
          "metadata": {},
          "execution_count": 19
        },
        {
          "output_type": "display_data",
          "data": {
            "text/plain": [
              "<Figure size 1224x576 with 1 Axes>"
            ],
            "image/png": "[encoded data removed]"
          },
          "metadata": {
            "needs_background": "light"
          }
        }
      ]
    },
    {
      "cell_type": "markdown",
      "source": [
        "Error: 63.65%\n",
        "```\n",
        "model.add(Conv2D(64, (3,3), padding='valid', strides=2, input_shape=X_train.shape[1:]))\n",
        "model.add(MaxPooling2D(pool_size=(2,2)))\n",
        "model.add(Conv2D(64, (3,3), padding='valid', strides=2, input_shape=X_train.shape[1:]))\n",
        "model.add(MaxPooling2D(pool_size=(2,2)))\n",
        "model.add(AveragePooling2D(pool_size=(2,2)))\n",
        "model.add(Flatten())\n",
        "model.add(Dense(1))\n",
        "```"
      ],
      "metadata": {
        "id": "Tk_V2ubIdHJV"
      }
    },
    {
      "cell_type": "code",
      "source": [
        "fig, axes = plt.subplots(2,1)\n",
        "axes[0].plot(history.history['loss'])\n",
        "axes[0].set_title('Training Loss')\n",
        "# axes[0].set_ylabel('Mean Absolute Percentage Error')\n",
        "axes[0].set_xlabel('Epoch')\n",
        "\n",
        "fig.subplots_adjust(hspace=1)\n",
        "\n",
        "axes[1].plot(history.history['val_mean_absolute_percentage_error'])\n",
        "axes[1].set_title('Validation Loss')\n",
        "axes[1].set_xlabel('Epoch')\n",
        "# fig.title('Mean Absolute Percentage Error Loss')"
      ],
      "metadata": {
        "colab": {
          "base_uri": "https://localhost:8080/",
          "height": 312
        },
        "id": "m7Q0PMqxdAPf",
        "outputId": "a3d347dd-7756-4d16-a149-732b5c940dae"
      },
      "execution_count": 10,
      "outputs": [
        {
          "output_type": "execute_result",
          "data": {
            "text/plain": [
              "Text(0.5, 0, 'Epoch')"
            ]
          },
          "metadata": {},
          "execution_count": 10
        },
        {
          "output_type": "display_data",
          "data": {
            "text/plain": [
              "<Figure size 432x288 with 2 Axes>"
            ],
            "image/png": "[encoded data removed]"
          },
          "metadata": {
            "needs_background": "light"
          }
        }
      ]
    },
    {
      "cell_type": "markdown",
      "source": [
        "Error: 73.31%\n",
        "```\n",
        "model.add(Conv2D(64, (3,3), padding='same', strides=1, input_shape=X_train.shape[1:]))\n",
        "model.add(MaxPooling2D(pool_size=(2,2)))\n",
        "model.add(Conv2D(64, (3,3), padding='same', strides=1, input_shape=X_train.shape[1:]))\n",
        "model.add(MaxPooling2D(pool_size=(2,2)))\n",
        "model.add(AveragePooling2D(pool_size=(2,2)))\n",
        "model.add(Flatten())\n",
        "model.add(Dense(1))\n",
        "```"
      ],
      "metadata": {
        "id": "Zxozwea_cPxZ"
      }
    },
    {
      "cell_type": "code",
      "source": [
        "fig, axes = plt.subplots(2,1)\n",
        "axes[0].plot(history.history['loss'])\n",
        "axes[0].set_title('Training Loss')\n",
        "# axes[0].set_ylabel('Mean Absolute Percentage Error')\n",
        "axes[0].set_xlabel('Epoch')\n",
        "\n",
        "fig.subplots_adjust(hspace=1)\n",
        "\n",
        "axes[1].plot(history.history['val_mean_absolute_percentage_error'])\n",
        "axes[1].set_title('Validation Loss')\n",
        "axes[1].set_xlabel('Epoch')\n",
        "# fig.title('Mean Absolute Percentage Error Loss')"
      ],
      "metadata": {
        "colab": {
          "base_uri": "https://localhost:8080/",
          "height": 312
        },
        "id": "zO1-51eob2lK",
        "outputId": "7e8bf6ae-1d72-4bc3-f936-2285d93a6637"
      },
      "execution_count": 85,
      "outputs": [
        {
          "output_type": "execute_result",
          "data": {
            "text/plain": [
              "Text(0.5, 0, 'Epoch')"
            ]
          },
          "metadata": {},
          "execution_count": 85
        },
        {
          "output_type": "display_data",
          "data": {
            "text/plain": [
              "<Figure size 432x288 with 2 Axes>"
            ],
            "image/png": "[encoded data removed]"
          },
          "metadata": {
            "needs_background": "light"
          }
        }
      ]
    },
    {
      "cell_type": "markdown",
      "source": [
        "Error : 70.15%\n",
        "```\n",
        "model.add(Conv2D(64, (3,3), padding='same', strides=2, input_shape=X_train.shape[1:]))\n",
        "model.add(MaxPooling2D(pool_size=(2,2)))\n",
        "model.add(Conv2D(64, (3,3), padding='same', strides=2, input_shape=X_train.shape[1:]))\n",
        "model.add(MaxPooling2D(pool_size=(2,2)))\n",
        "model.add(AveragePooling2D(pool_size=(2,2)))\n",
        "model.add(Flatten())\n",
        "model.add(Dense(1))\n",
        "```"
      ],
      "metadata": {
        "id": "GQiYqXKEZ9pm"
      }
    },
    {
      "cell_type": "code",
      "source": [
        "fig, axes = plt.subplots(2,1)\n",
        "axes[0].plot(history.history['loss'])\n",
        "axes[0].set_title('Training Loss')\n",
        "# axes[0].set_ylabel('Mean Absolute Percentage Error')\n",
        "axes[0].set_xlabel('Epoch')\n",
        "\n",
        "fig.subplots_adjust(hspace=1)\n",
        "\n",
        "axes[1].plot(history.history['val_mean_absolute_percentage_error'])\n",
        "axes[1].set_title('Validation Loss')\n",
        "axes[1].set_xlabel('Epoch')\n",
        "# fig.title('Mean Absolute Percentage Error Loss')"
      ],
      "metadata": {
        "colab": {
          "base_uri": "https://localhost:8080/",
          "height": 312
        },
        "id": "NQIhWIr_ZynO",
        "outputId": "8cad1792-64a8-45a3-c75b-4540520498b5"
      },
      "execution_count": 12,
      "outputs": [
        {
          "output_type": "execute_result",
          "data": {
            "text/plain": [
              "Text(0.5, 0, 'Epoch')"
            ]
          },
          "metadata": {},
          "execution_count": 12
        },
        {
          "output_type": "display_data",
          "data": {
            "text/plain": [
              "<Figure size 432x288 with 2 Axes>"
            ],
            "image/png": "[encoded data removed]"
          },
          "metadata": {
            "needs_background": "light"
          }
        }
      ]
    },
    {
      "cell_type": "markdown",
      "source": [
        "Error : 82.15%\n",
        "```\n",
        "model.add(Conv2D(64, (3,3), padding='same', strides=2, input_shape=X_train.shape[1:]))\n",
        "model.add(MaxPooling2D(pool_size=(2,2)))\n",
        "model.add(Conv2D(128, (3,3), padding='same', strides=2, input_shape=X_train.shape[1:]))\n",
        "model.add(MaxPooling2D(pool_size=(2,2)))\n",
        "model.add(AveragePooling2D(pool_size=(2,2)))\n",
        "model.add(Flatten())\n",
        "model.add(Dense(1))\n",
        "```"
      ],
      "metadata": {
        "id": "FGJVaKS_ZmbC"
      }
    },
    {
      "cell_type": "code",
      "source": [
        "fig, axes = plt.subplots(2,1)\n",
        "axes[0].plot(history.history['loss'])\n",
        "axes[0].set_title('Training Loss')\n",
        "# axes[0].set_ylabel('Mean Absolute Percentage Error')\n",
        "axes[0].set_xlabel('Epoch')\n",
        "\n",
        "fig.subplots_adjust(hspace=1)\n",
        "\n",
        "axes[1].plot(history.history['val_mean_absolute_percentage_error'])\n",
        "axes[1].set_title('Validation Loss')\n",
        "axes[1].set_xlabel('Epoch')\n",
        "# fig.title('Mean Absolute Percentage Error Loss')"
      ],
      "metadata": {
        "colab": {
          "base_uri": "https://localhost:8080/",
          "height": 312
        },
        "id": "E5Zaix4uZVmU",
        "outputId": "3306f707-f554-41ce-c487-26053af439b3"
      },
      "execution_count": 44,
      "outputs": [
        {
          "output_type": "execute_result",
          "data": {
            "text/plain": [
              "Text(0.5, 0, 'Epoch')"
            ]
          },
          "metadata": {},
          "execution_count": 44
        },
        {
          "output_type": "display_data",
          "data": {
            "text/plain": [
              "<Figure size 432x288 with 2 Axes>"
            ],
            "image/png": "[encoded data removed]"
          },
          "metadata": {
            "needs_background": "light"
          }
        }
      ]
    },
    {
      "cell_type": "markdown",
      "metadata": {
        "id": "JyXrXBFVQ-tL"
      },
      "source": [
        "The metric used in this problem to evaluate the performance is the same we used for training the model, the mean absolute percentage error. Mean absolute percentage error is defined as $\\frac{100}{n} \\sum_n \\frac{|\\hat{y} - y|}{|y|}$ where $y$ is the ground-truth, $\\hat{y}$ is the estimation of the model and `n` the number of elements in the set we are evaluating."
      ]
    },
    {
      "cell_type": "code",
      "metadata": {
        "id": "u2u2qQh90C3K",
        "colab": {
          "base_uri": "https://localhost:8080/"
        },
        "outputId": "99e3cf0a-8609-4718-b819-13a31f97c0e9"
      },
      "source": [
        "prices_predicted = model.predict(X_val).flatten()\n",
        "print(model.predict(X_val).shape)\n",
        "print(Y_val.shape)\n",
        "diff = ((prices_predicted - Y_val) / Y_val) * 100\n",
        "error_mean = np.mean(np.abs(diff))\n",
        "\n",
        "print(\"Predicting house prices - Estimation Error: {:.2f}%\".format(error_mean))"
      ],
      "execution_count": 69,
      "outputs": [
        {
          "output_type": "stream",
          "name": "stdout",
          "text": [
            "4/4 [==============================] - 0s 3ms/step\n",
            "4/4 [==============================] - 0s 3ms/step\n",
            "(106, 1)\n",
            "(106,)\n",
            "Predicting house prices - Estimation Error: 63.04%\n"
          ]
        }
      ]
    },
    {
      "cell_type": "markdown",
      "metadata": {
        "id": "n2uJs6-xG6lD"
      },
      "source": [
        "**Report**:\n",
        "\n",
        "\n",
        "*   Propose a CNN architecture that has an estimation error in the validation set below 75%. \n",
        "*   Present a figure showing the training and validation loss vs the number of training epochs for different architectural design choices. Discuss the gap between the training and validation loss depending on the proposed architecture.\n",
        "*   Report a table with results when using any of the other images from the house (kitchen, bedroom, and bathroom)."
      ]
    }
  ]
}