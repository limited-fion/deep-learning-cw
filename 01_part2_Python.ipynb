{
  "cells": [
    {
      "cell_type": "markdown",
      "metadata": {
        "colab_type": "text",
        "id": "view-in-github"
      },
      "source": [
        "<a href=\"https://colab.research.google.com/github/MatchLab-Imperial/deep-learning-course/blob/master/01_part2_Python.ipynb\" target=\"_parent\"><img src=\"https://colab.research.google.com/assets/colab-badge.svg\" alt=\"Open In Colab\"/></a>"
      ]
    },
    {
      "cell_type": "markdown",
      "metadata": {
        "id": "sWpAGcMXgpd1"
      },
      "source": [
        "# **Scientific packages**\n",
        "\n",
        "In this tutorial, we introduce an overview of some of the features of three scientific packages, NumPy, Pandas and Matplotlib, which are essential tools for data scientists. You will be mainly using Keras in this course, which will be introduced in the next tutorial, but having a good knowledge of NumPy, Pandas and Matplotlib will be also helpful, *e.g.*, for data visualization.\n",
        "\n"
      ]
    },
    {
      "cell_type": "markdown",
      "metadata": {
        "id": "48O3My26gzeu"
      },
      "source": [
        "## NumPy\n",
        "[Official Documentation](https://docs.scipy.org/doc/numpy/reference/)\n",
        "\n",
        "Numpy is an open-source package for scientific computing in Python. In NumPy we can find:\n",
        "\n",
        "*   Powerful N-dimensional array objects\n",
        "*   Sophisticated (broadcasting) functions\n",
        "*   Useful functions for integrating C/C++ code\n",
        "*   Linear algebra and random number capabilities\n",
        "\n",
        "\n",
        "Let's now introduce the `ndarray`, the main data structure used in NumPy.\n",
        "\n",
        "\n",
        "\n"
      ]
    },
    {
      "cell_type": "markdown",
      "metadata": {
        "id": "TMbUV9bqhqeW"
      },
      "source": [
        "### ndarray \n",
        "\n",
        "The ndarray is an efficient structure for multidimensional array facilitating broadcast and vectorization.\n",
        "\n",
        "Examples of creation of `numpy` arrays:"
      ]
    },
    {
      "cell_type": "code",
      "execution_count": 1,
      "metadata": {
        "colab": {
          "base_uri": "https://localhost:8080/"
        },
        "id": "q8-RiOvFXlO1",
        "outputId": "aca80088-455e-4522-95b6-9c2da8256706"
      },
      "outputs": [
        {
          "name": "stdout",
          "output_type": "stream",
          "text": [
            "[ 2  3  5  7 11 13 17 19]\n",
            "2 13\n"
          ]
        }
      ],
      "source": [
        "import numpy as np\n",
        "# Initialize an array in Numpy with a list.\n",
        "prime_numbers = np.array([2,3,5,7,11,13,17,19], dtype=np.int32)\n",
        "                          \n",
        "print(prime_numbers)\n",
        "\n",
        "## Access elements\n",
        "print(prime_numbers[0], prime_numbers[5])"
      ]
    },
    {
      "cell_type": "code",
      "execution_count": 2,
      "metadata": {
        "colab": {
          "base_uri": "https://localhost:8080/"
        },
        "id": "xEa6AZ20E62L",
        "outputId": "59a7174c-a8c0-40a7-f2ac-a9a272b54d04"
      },
      "outputs": [
        {
          "name": "stdout",
          "output_type": "stream",
          "text": [
            "[[2.  3.5 1. ]\n",
            " [1.  0.  4. ]]\n"
          ]
        }
      ],
      "source": [
        "# You can also initialize arrays with more dimensions\n",
        "a = np.array([[2,3.5,1],[1,0,4]])\n",
        "print(a)"
      ]
    },
    {
      "cell_type": "code",
      "execution_count": 3,
      "metadata": {
        "colab": {
          "base_uri": "https://localhost:8080/"
        },
        "id": "HjHCirflnvCl",
        "outputId": "fc221690-20f5-4e5d-856d-727833b819ab"
      },
      "outputs": [
        {
          "name": "stdout",
          "output_type": "stream",
          "text": [
            "(3, 3)\n",
            "[[0. 0. 0.]\n",
            " [0. 0. 0.]\n",
            " [0. 0. 0.]]\n"
          ]
        }
      ],
      "source": [
        "# Alternative initialization methods.\n",
        "# Forms a matrix of 3x3 filled by 0\n",
        "a = np.zeros((3,3))\n",
        "\n",
        "\n",
        "# Check the shape of the matrix\n",
        "print(a.shape)\n",
        "print(a)"
      ]
    },
    {
      "cell_type": "code",
      "execution_count": 4,
      "metadata": {
        "colab": {
          "base_uri": "https://localhost:8080/"
        },
        "id": "etHY0EESylw3",
        "outputId": "4531e165-757e-4d3e-df2f-467e71cd08b1"
      },
      "outputs": [
        {
          "name": "stdout",
          "output_type": "stream",
          "text": [
            "[[1. 1. 1.]\n",
            " [1. 1. 1.]\n",
            " [1. 1. 1.]]\n"
          ]
        }
      ],
      "source": [
        "# Forms a matrix of 3x3 filled by 1\n",
        "a = np.ones((3,3))\n",
        "print(a)"
      ]
    },
    {
      "cell_type": "code",
      "execution_count": 5,
      "metadata": {
        "colab": {
          "base_uri": "https://localhost:8080/"
        },
        "id": "8lxtqO6wyz8F",
        "outputId": "862178d8-2fb5-49c3-e6dc-70e313c7a0d2"
      },
      "outputs": [
        {
          "name": "stdout",
          "output_type": "stream",
          "text": [
            "[[1. 0.]\n",
            " [0. 1.]]\n",
            "[[3]\n",
            " [3]]\n",
            "[[0.17759441 0.26873192 0.07892736]\n",
            " [0.46179321 0.76913379 0.34453897]]\n"
          ]
        }
      ],
      "source": [
        "# Creates 2x2 identity matrix\n",
        "print(np.eye(2))\n",
        "\n",
        "# Creates a constant matrix of 2x1\n",
        "print(np.full((2,1), 3))\n",
        "\n",
        "# Creates a random matrix (uniform in range [0,1)) of 2x3\n",
        "print(np.random.random((2,3)))"
      ]
    },
    {
      "cell_type": "markdown",
      "metadata": {
        "id": "9WDHr_Yn_RP-"
      },
      "source": [
        "### Indexing\n",
        "To access elements from the array, you can index them by using integers and giving an index per dimension."
      ]
    },
    {
      "cell_type": "code",
      "execution_count": 6,
      "metadata": {
        "colab": {
          "base_uri": "https://localhost:8080/"
        },
        "id": "xbq07GTC_mKV",
        "outputId": "d78be6ac-97dc-4bc0-a4c2-a5fd78f26418"
      },
      "outputs": [
        {
          "name": "stdout",
          "output_type": "stream",
          "text": [
            "[[1. 1.]\n",
            " [1. 0.]]\n"
          ]
        }
      ],
      "source": [
        "a = np.ones((2, 2))\n",
        "# To change the element (1,1) we do\n",
        "a[1,1] = 0\n",
        "\n",
        "print(a)"
      ]
    },
    {
      "cell_type": "markdown",
      "metadata": {
        "id": "lk53OrrZAFBW"
      },
      "source": [
        "You can also use slices, which takes a subarray by using the format `first_index:last_index` where `last_index` is not included in the slice"
      ]
    },
    {
      "cell_type": "code",
      "execution_count": 7,
      "metadata": {
        "colab": {
          "base_uri": "https://localhost:8080/"
        },
        "id": "PJSl7iACAFfG",
        "outputId": "877f4294-0fbd-4e83-bc6a-ecf24554dbc4"
      },
      "outputs": [
        {
          "name": "stdout",
          "output_type": "stream",
          "text": [
            "[0. 0. 1.]\n",
            "[[1. 0. 0. 0. 0.]\n",
            " [0. 0. 0. 0. 0.]\n",
            " [0. 0. 1. 0. 0.]\n",
            " [0. 0. 0. 1. 0.]\n",
            " [0. 0. 0. 0. 1.]]\n"
          ]
        }
      ],
      "source": [
        "a = np.eye(5)\n",
        "print(a[0:3, 2])\n",
        "## Doing a[n] is equivalent to a[n, :]\n",
        "a[1] = 0\n",
        "print(a)"
      ]
    },
    {
      "cell_type": "markdown",
      "metadata": {
        "id": "QvBxfwgfB8fZ"
      },
      "source": [
        "### Casting\n",
        "\n",
        "We can also change the type of the array."
      ]
    },
    {
      "cell_type": "code",
      "execution_count": 8,
      "metadata": {
        "colab": {
          "base_uri": "https://localhost:8080/"
        },
        "id": "e25OHL9KkJow",
        "outputId": "89d73eb8-1deb-43a2-aaa9-d4024c4a60dd"
      },
      "outputs": [
        {
          "name": "stdout",
          "output_type": "stream",
          "text": [
            "float64 [1.2 4.3]\n",
            "int32 [1 4]\n"
          ]
        }
      ],
      "source": [
        "# Type casting\n",
        "a = np.asarray([1.2, 4.3])\n",
        "print(a.dtype, a)\n",
        "a = a.astype(np.int32)\n",
        "print(a.dtype, a)"
      ]
    },
    {
      "cell_type": "markdown",
      "metadata": {
        "id": "2_qDCjYzEGWU"
      },
      "source": [
        "### Mathematical operations\n",
        "\n",
        "We can easily do basic array math using both standard operators like `+` or numpy functions"
      ]
    },
    {
      "cell_type": "code",
      "execution_count": 9,
      "metadata": {
        "colab": {
          "base_uri": "https://localhost:8080/"
        },
        "id": "aTfqVKVMmW6R",
        "outputId": "bfbf7283-c17d-4e8b-a6a7-76fe61dac968"
      },
      "outputs": [
        {
          "name": "stdout",
          "output_type": "stream",
          "text": [
            "[[3.  1.5]\n",
            " [3.  3.4]]\n",
            "[[3.  1.5]\n",
            " [3.  3.4]]\n"
          ]
        }
      ],
      "source": [
        "# Vectorization examples\n",
        "a = np.eye(2)\n",
        "b = np.array([[2, 1.5], [3, 2.4]])\n",
        "\n",
        "sum_v = a + b\n",
        "print(sum_v)\n",
        "print(np.add(a, b))"
      ]
    },
    {
      "cell_type": "code",
      "execution_count": 10,
      "metadata": {
        "colab": {
          "base_uri": "https://localhost:8080/"
        },
        "id": "9_Iq9ffeFR3l",
        "outputId": "7188f37b-bd01-4bee-e9e2-8bc8586452ad"
      },
      "outputs": [
        {
          "name": "stdout",
          "output_type": "stream",
          "text": [
            "[[-1.  -1.5]\n",
            " [-3.  -1.4]]\n",
            "[[-1.  -1.5]\n",
            " [-3.  -1.4]]\n"
          ]
        }
      ],
      "source": [
        "sub_v = a - b\n",
        "print(sub_v)\n",
        "print(np.subtract(a, b))"
      ]
    },
    {
      "cell_type": "code",
      "execution_count": 11,
      "metadata": {
        "colab": {
          "base_uri": "https://localhost:8080/"
        },
        "id": "FAXi1zgcFXNc",
        "outputId": "ae1054bb-39ae-4b72-8185-05cf5cba548c"
      },
      "outputs": [
        {
          "name": "stdout",
          "output_type": "stream",
          "text": [
            "[[2.  0. ]\n",
            " [0.  2.4]]\n",
            "[[2.  0. ]\n",
            " [0.  2.4]]\n"
          ]
        }
      ],
      "source": [
        "mul_v = a * b\n",
        "print(mul_v)\n",
        "print(np.multiply(a, b))"
      ]
    },
    {
      "cell_type": "code",
      "execution_count": 12,
      "metadata": {
        "colab": {
          "base_uri": "https://localhost:8080/"
        },
        "id": "mbnAyUPeFpta",
        "outputId": "7ce446dd-5e8e-4557-e1be-995d7a2c5242"
      },
      "outputs": [
        {
          "name": "stdout",
          "output_type": "stream",
          "text": [
            "[[0.5        0.        ]\n",
            " [0.         0.41666667]]\n",
            "[[0.5        0.        ]\n",
            " [0.         0.41666667]]\n"
          ]
        }
      ],
      "source": [
        "mul_v = a / b\n",
        "print(mul_v)\n",
        "print(np.divide(a, b))"
      ]
    },
    {
      "cell_type": "code",
      "execution_count": 13,
      "metadata": {
        "colab": {
          "base_uri": "https://localhost:8080/"
        },
        "id": "S6jHlidIpWJw",
        "outputId": "544ead64-6445-46af-dee6-6d2138d26a79"
      },
      "outputs": [
        {
          "name": "stdout",
          "output_type": "stream",
          "text": [
            "[[1.41421356 1.22474487]\n",
            " [1.73205081 1.54919334]]\n",
            "[[1.41421356 1.22474487]\n",
            " [1.73205081 1.54919334]]\n"
          ]
        }
      ],
      "source": [
        "print(b**0.5)\n",
        "print(np.sqrt(b))\n"
      ]
    },
    {
      "cell_type": "markdown",
      "metadata": {
        "id": "CJSbwk8AF52L"
      },
      "source": [
        "In MATLAB the `*` operation performs matrix multiplication, but here `*` stands for elementwise multiplication (`.*` in MATLAB). To do matrix multiplication we need to use the ```np.dot``` function."
      ]
    },
    {
      "cell_type": "code",
      "execution_count": 14,
      "metadata": {
        "colab": {
          "base_uri": "https://localhost:8080/"
        },
        "id": "VOnskJMEGRDO",
        "outputId": "03b28289-133d-499e-dd9d-5655f31b1eeb"
      },
      "outputs": [
        {
          "name": "stdout",
          "output_type": "stream",
          "text": [
            "[[2.  0. ]\n",
            " [0.  2.4]]\n",
            "[[2.  1.5]\n",
            " [3.  2.4]]\n"
          ]
        }
      ],
      "source": [
        "a = np.array([[2, 1.5], [3, 2.4]])\n",
        "b = np.eye(2)\n",
        "print(a*b)\n",
        "print(np.dot(a,b))"
      ]
    },
    {
      "cell_type": "markdown",
      "metadata": {
        "id": "dgkbI--3HIMt"
      },
      "source": [
        "Some other useful operations are:"
      ]
    },
    {
      "cell_type": "code",
      "execution_count": 15,
      "metadata": {
        "colab": {
          "base_uri": "https://localhost:8080/"
        },
        "id": "LZ0GrlViHMY9",
        "outputId": "3f1a8b02-b14a-44c8-885a-a048747128c1"
      },
      "outputs": [
        {
          "name": "stdout",
          "output_type": "stream",
          "text": [
            "[[0.32835255 0.14724937]\n",
            " [0.00535213 0.12110715]]\n",
            "[[ 3.10708468 -3.77778085]\n",
            " [-0.13731257  8.42410365]]\n",
            "0.03897774380769461\n",
            "[0.32835255 0.12110715]\n"
          ]
        }
      ],
      "source": [
        "# Matrix broadcast multiplication.\n",
        "A = np.random.random((2,2))\n",
        "print(A)\n",
        "\n",
        "A_inv = np.linalg.inv(A) # inverse\n",
        "print(A_inv)\n",
        "\n",
        "A_det = np.linalg.det(A) # determinant\n",
        "print(A_det)\n",
        "\n",
        "A_diag = np.diag(A) # diagonal\n",
        "print(A_diag)"
      ]
    },
    {
      "cell_type": "code",
      "execution_count": 16,
      "metadata": {
        "colab": {
          "base_uri": "https://localhost:8080/"
        },
        "id": "tMZ8VlxJHN8F",
        "outputId": "2bdc9d26-fa53-4d07-f692-98356bff40b1"
      },
      "outputs": [
        {
          "name": "stdout",
          "output_type": "stream",
          "text": [
            "28\n",
            "[[ 2  4  6]\n",
            " [ 4  8 12]\n",
            " [ 6 12 18]]\n"
          ]
        }
      ],
      "source": [
        "# Linear algebra operations.\n",
        "a = np.array([1,2,3])\n",
        "b = np.array([2,4,6])\n",
        "\n",
        "ab = np.inner(a,b) # inner product\n",
        "print(ab)\n",
        "\n",
        "ab = np.outer(a,b) # outer product\n",
        "print(ab)\n"
      ]
    },
    {
      "cell_type": "markdown",
      "metadata": {
        "id": "ibZqo6LaH0OL"
      },
      "source": [
        "### Broadcasting\n",
        "NumPy allows us to do operations with arrays of different sizes. The small array will be modified to have compatible shapes with the large array. An easy example is multiplying a scalar by a matrix e.g. `3.0 * a`, where the `3.0` term is multiplied by all the elements in `a`.\n",
        "\n",
        "The basics and the rules for broadcasting are listed [here](https://docs.scipy.org/doc/numpy/user/basics.broadcasting.html).\n",
        "\n",
        "Another example is:"
      ]
    },
    {
      "cell_type": "code",
      "execution_count": 17,
      "metadata": {
        "colab": {
          "base_uri": "https://localhost:8080/"
        },
        "id": "-5QeOQ3nIyfr",
        "outputId": "2d91e1b3-a0a3-4a56-d28f-9a0cc39bf6b0"
      },
      "outputs": [
        {
          "name": "stdout",
          "output_type": "stream",
          "text": [
            "operands could not be broadcast together with shapes (4,) (3,) \n",
            "[[ 3  9  7]\n",
            " [ 4 10  8]\n",
            " [ 4 10  8]\n",
            " [ 5 11  9]]\n",
            "[3 9 7] [3 9 7]\n"
          ]
        }
      ],
      "source": [
        "a = np.array([2, 3, 3, 4])\n",
        "b = np.array([1, 7, 5])\n",
        "\n",
        "# We use exception handling as we introduced previously\n",
        "try:\n",
        "  a + b\n",
        "except Exception as e:\n",
        "  print(e)\n",
        "# We see that the code fails due to the arrays having different\n",
        "# shapes\n",
        "\n",
        "# However, by adding a new axis to a, due to broadcasting the output c\n",
        "# will have shape (3, 4), and the elements will be \n",
        "# c[0] = b + a[0], c[1] = b + a[1], c[2] = b + a[2], c[3] = b + a[3]\n",
        "c = a[:, np.newaxis] + b\n",
        "print(c)\n",
        "print(c[0], b + a[0])"
      ]
    },
    {
      "cell_type": "markdown",
      "metadata": {
        "id": "ErEoIO2Hq-R1"
      },
      "source": [
        "## Pandas \n",
        "[Official Pandas Cookbook with examples](https://github.com/jvns/pandas-cookbook)\n",
        "\n",
        "\n",
        "The name comes from the term *panel data*. It is an open-source and easy-to-use data structures and data analysis tool.\n",
        "\n",
        "Main distinctive capabilities include:\n",
        "* Fast and efficient DataFrame object for data manipulation;\n",
        "* Tools for reading and writing data;\n",
        "* Data alignment and integrated handling of missing data;\n",
        "* High-performance merging and joining of data sets;\n",
        "* Hierarchical axis indexing provides an intuitive way of working with high-dimensional data in a lower-dimensional data structure."
      ]
    },
    {
      "cell_type": "code",
      "execution_count": 18,
      "metadata": {
        "colab": {
          "base_uri": "https://localhost:8080/"
        },
        "id": "OJLlRlX31mOe",
        "outputId": "58c4850f-124f-4762-9b61-8d6f91e59428"
      },
      "outputs": [
        {
          "name": "stderr",
          "output_type": "stream",
          "text": [
            "  % Total    % Received % Xferd  Average Speed   Time    Time     Time  Current\n",
            "                                 Dload  Upload   Total   Spent    Left  Speed\n",
            "\n",
            "  0     0    0     0    0     0      0      0 --:--:-- --:--:-- --:--:--     0\n",
            "100   222  100   222    0     0    732      0 --:--:-- --:--:-- --:--:--   735\n"
          ]
        }
      ],
      "source": [
        "# For pandas examples we will need a csv file to load with some data\n",
        "# We use a file from this public repo https://github.com/shantnu/Intro-to-Pandas/\n",
        "# In Colab you can use command-line commands by putting ! in front of them\n",
        "# So we use wget to download the file\n",
        "!curl -O https://raw.githubusercontent.com/shantnu/Intro-to-Pandas/master/hubble_data.csv"
      ]
    },
    {
      "cell_type": "code",
      "execution_count": 19,
      "metadata": {
        "colab": {
          "base_uri": "https://localhost:8080/"
        },
        "id": "biwX2vgOvxLq",
        "outputId": "7f542405-a114-4513-8f0f-f5d163a6d1f8"
      },
      "outputs": [
        {
          "name": "stdout",
          "output_type": "stream",
          "text": [
            "    distance  recession_velocity\n",
            "0      0.032                 170\n",
            "1      0.034                 290\n",
            "2      0.214                -130\n",
            "3      0.263                 -70\n",
            "4      0.275                -185\n",
            "5      0.275                -220\n",
            "6      0.450                 200\n",
            "7      0.500                 290\n",
            "8      0.500                 270\n",
            "9      0.630                 200\n",
            "10     0.800                 300\n",
            "11     0.900                 -30\n",
            "12     0.900                 650\n",
            "13     0.900                 150\n",
            "14     0.900                 500\n",
            "15     1.000                 920\n",
            "16     1.100                 450\n",
            "17     1.100                 500\n",
            "18     1.400                 500\n",
            "19     1.700                 960\n",
            "20     2.000                 500\n",
            "21     2.000                 850\n",
            "22     2.000                 800\n",
            "23     2.000                1090\n"
          ]
        }
      ],
      "source": [
        "# Read a file and store its data to a dataframe, \n",
        "# which is the data structure to handle 2d data in Panda.\n",
        "import pandas as pd\n",
        "\n",
        "hubble = pd.read_csv(\"hubble_data.csv\")\n",
        "\n",
        "# We see that the dataframe has also a header (column names)\n",
        "print(hubble)"
      ]
    },
    {
      "cell_type": "code",
      "execution_count": 20,
      "metadata": {
        "colab": {
          "base_uri": "https://localhost:8080/"
        },
        "id": "phEYnlT0zS0p",
        "outputId": "ebb1e3ba-5d23-494e-c7a8-8ad4900617df"
      },
      "outputs": [
        {
          "data": {
            "text/plain": [
              "pandas.core.frame.DataFrame"
            ]
          },
          "execution_count": 20,
          "metadata": {},
          "output_type": "execute_result"
        }
      ],
      "source": [
        "# Get info about the data type.\n",
        "type(hubble)"
      ]
    },
    {
      "cell_type": "code",
      "execution_count": 21,
      "metadata": {
        "colab": {
          "base_uri": "https://localhost:8080/"
        },
        "id": "pbKPpo21zdLY",
        "outputId": "a47046fc-84f2-4a48-f43d-c061a35bdaec"
      },
      "outputs": [
        {
          "name": "stdout",
          "output_type": "stream",
          "text": [
            "<class 'pandas.core.frame.DataFrame'>\n",
            "RangeIndex: 24 entries, 0 to 23\n",
            "Data columns (total 2 columns):\n",
            " #   Column              Non-Null Count  Dtype  \n",
            "---  ------              --------------  -----  \n",
            " 0   distance            24 non-null     float64\n",
            " 1   recession_velocity  24 non-null     int64  \n",
            "dtypes: float64(1), int64(1)\n",
            "memory usage: 512.0 bytes\n"
          ]
        }
      ],
      "source": [
        "# Get info about the content of csv file.\n",
        "hubble.info()"
      ]
    },
    {
      "cell_type": "code",
      "execution_count": 22,
      "metadata": {
        "colab": {
          "base_uri": "https://localhost:8080/",
          "height": 111
        },
        "id": "GgoZulWzz4cb",
        "outputId": "fc2d0626-cc4e-494c-8a94-93c0760ae8ab"
      },
      "outputs": [
        {
          "data": {
            "text/html": [
              "<div>\n",
              "<style scoped>\n",
              "    .dataframe tbody tr th:only-of-type {\n",
              "        vertical-align: middle;\n",
              "    }\n",
              "\n",
              "    .dataframe tbody tr th {\n",
              "        vertical-align: top;\n",
              "    }\n",
              "\n",
              "    .dataframe thead th {\n",
              "        text-align: right;\n",
              "    }\n",
              "</style>\n",
              "<table border=\"1\" class=\"dataframe\">\n",
              "  <thead>\n",
              "    <tr style=\"text-align: right;\">\n",
              "      <th></th>\n",
              "      <th>distance</th>\n",
              "      <th>recession_velocity</th>\n",
              "    </tr>\n",
              "  </thead>\n",
              "  <tbody>\n",
              "    <tr>\n",
              "      <th>0</th>\n",
              "      <td>0.032</td>\n",
              "      <td>170</td>\n",
              "    </tr>\n",
              "    <tr>\n",
              "      <th>1</th>\n",
              "      <td>0.034</td>\n",
              "      <td>290</td>\n",
              "    </tr>\n",
              "  </tbody>\n",
              "</table>\n",
              "</div>"
            ],
            "text/plain": [
              "   distance  recession_velocity\n",
              "0     0.032                 170\n",
              "1     0.034                 290"
            ]
          },
          "execution_count": 22,
          "metadata": {},
          "output_type": "execute_result"
        }
      ],
      "source": [
        "# Visualize first two rows.\n",
        "hubble.head(2)"
      ]
    },
    {
      "cell_type": "code",
      "execution_count": 23,
      "metadata": {
        "colab": {
          "base_uri": "https://localhost:8080/"
        },
        "id": "xnuIUFde1Ara",
        "outputId": "9a733de4-eef0-452d-e317-dcb93b164a07"
      },
      "outputs": [
        {
          "data": {
            "text/plain": [
              "numpy.ndarray"
            ]
          },
          "execution_count": 23,
          "metadata": {},
          "output_type": "execute_result"
        }
      ],
      "source": [
        "# Convert dataframe to numpy array data structure.\n",
        "H = hubble.values\n",
        "type(H)"
      ]
    },
    {
      "cell_type": "markdown",
      "metadata": {
        "id": "gYKpFzyQNZMP"
      },
      "source": [
        "### Indexing\n",
        "\n",
        "We can index the dataframe by the column name which will return the whole column, or by using `hubble.iloc[row_index, column_index]` "
      ]
    },
    {
      "cell_type": "code",
      "execution_count": 24,
      "metadata": {
        "colab": {
          "base_uri": "https://localhost:8080/"
        },
        "id": "UsVH4bRT1maO",
        "outputId": "ed8a0d3d-4af8-4bd5-8593-6db99fa7669d"
      },
      "outputs": [
        {
          "data": {
            "text/plain": [
              "0    0.032\n",
              "1    0.034\n",
              "2    0.214\n",
              "Name: distance, dtype: float64"
            ]
          },
          "execution_count": 24,
          "metadata": {},
          "output_type": "execute_result"
        }
      ],
      "source": [
        "hubble['distance'].head(3)"
      ]
    },
    {
      "cell_type": "code",
      "execution_count": 25,
      "metadata": {
        "colab": {
          "base_uri": "https://localhost:8080/"
        },
        "id": "RfdD08ouN6JV",
        "outputId": "bfea937d-9c9e-46d2-9c63-a69f2e1631de"
      },
      "outputs": [
        {
          "data": {
            "text/plain": [
              "0    0.032\n",
              "1    0.034\n",
              "2    0.214\n",
              "Name: distance, dtype: float64"
            ]
          },
          "execution_count": 25,
          "metadata": {},
          "output_type": "execute_result"
        }
      ],
      "source": [
        "# This returns the same as above\n",
        "hubble.iloc[:, 0].head(3)"
      ]
    },
    {
      "cell_type": "code",
      "execution_count": 26,
      "metadata": {
        "colab": {
          "base_uri": "https://localhost:8080/"
        },
        "id": "W9rGwR03Oe0V",
        "outputId": "841ca394-8742-483f-e4f1-5168e7f7324b"
      },
      "outputs": [
        {
          "data": {
            "text/plain": [
              "distance                0.032\n",
              "recession_velocity    170.000\n",
              "Name: 0, dtype: float64"
            ]
          },
          "execution_count": 26,
          "metadata": {},
          "output_type": "execute_result"
        }
      ],
      "source": [
        "# Now it returns the first row\n",
        "hubble.iloc[0]"
      ]
    },
    {
      "cell_type": "code",
      "execution_count": 27,
      "metadata": {
        "colab": {
          "base_uri": "https://localhost:8080/"
        },
        "id": "p2_8eWBe2i-E",
        "outputId": "5bfb8ad9-7f9d-4c90-f22f-5f04a323c91e"
      },
      "outputs": [
        {
          "data": {
            "text/plain": [
              "pandas.core.series.Series"
            ]
          },
          "execution_count": 27,
          "metadata": {},
          "output_type": "execute_result"
        }
      ],
      "source": [
        "# Check data type of a dataframe column, which is expected to be series:\n",
        "# while data frames is for 2d data, series is a data structure for 1d data.\n",
        "type(hubble['distance'])"
      ]
    },
    {
      "cell_type": "code",
      "execution_count": 28,
      "metadata": {
        "colab": {
          "base_uri": "https://localhost:8080/",
          "height": 204
        },
        "id": "H_Kq_HqIy10B",
        "outputId": "6fc8594f-5cf9-41d7-f4ea-0732e4ba2979"
      },
      "outputs": [
        {
          "data": {
            "text/html": [
              "<div>\n",
              "<style scoped>\n",
              "    .dataframe tbody tr th:only-of-type {\n",
              "        vertical-align: middle;\n",
              "    }\n",
              "\n",
              "    .dataframe tbody tr th {\n",
              "        vertical-align: top;\n",
              "    }\n",
              "\n",
              "    .dataframe thead th {\n",
              "        text-align: right;\n",
              "    }\n",
              "</style>\n",
              "<table border=\"1\" class=\"dataframe\">\n",
              "  <thead>\n",
              "    <tr style=\"text-align: right;\">\n",
              "      <th></th>\n",
              "      <th>distance</th>\n",
              "      <th>recession_velocity</th>\n",
              "    </tr>\n",
              "  </thead>\n",
              "  <tbody>\n",
              "    <tr>\n",
              "      <th>2</th>\n",
              "      <td>0.214</td>\n",
              "      <td>-130</td>\n",
              "    </tr>\n",
              "    <tr>\n",
              "      <th>3</th>\n",
              "      <td>0.263</td>\n",
              "      <td>-70</td>\n",
              "    </tr>\n",
              "    <tr>\n",
              "      <th>4</th>\n",
              "      <td>0.275</td>\n",
              "      <td>-185</td>\n",
              "    </tr>\n",
              "    <tr>\n",
              "      <th>5</th>\n",
              "      <td>0.275</td>\n",
              "      <td>-220</td>\n",
              "    </tr>\n",
              "    <tr>\n",
              "      <th>11</th>\n",
              "      <td>0.900</td>\n",
              "      <td>-30</td>\n",
              "    </tr>\n",
              "  </tbody>\n",
              "</table>\n",
              "</div>"
            ],
            "text/plain": [
              "    distance  recession_velocity\n",
              "2      0.214                -130\n",
              "3      0.263                 -70\n",
              "4      0.275                -185\n",
              "5      0.275                -220\n",
              "11     0.900                 -30"
            ]
          },
          "execution_count": 28,
          "metadata": {},
          "output_type": "execute_result"
        }
      ],
      "source": [
        "# Access to data using some criterions similarly to a query in SQL,\n",
        "# for example, the following code gives as output all the rows\n",
        "# where the recession_velocity is negative.\n",
        "# Note that while previously we have seen that Panda indexing refers to columns,  \n",
        "# now we are selecting rows\n",
        "hubble[hubble['recession_velocity'] < 0]"
      ]
    },
    {
      "cell_type": "code",
      "execution_count": 29,
      "metadata": {
        "colab": {
          "base_uri": "https://localhost:8080/"
        },
        "id": "EZ4DzTBy6OGn",
        "outputId": "228d434d-5c27-4de1-b781-b2b161327f74"
      },
      "outputs": [
        {
          "name": "stdout",
          "output_type": "stream",
          "text": [
            "   distance  recession_velocity\n",
            "0     0.032                 170\n",
            "1     0.034                 290\n",
            "2     0.214                -130\n",
            "3     0.263                 -70\n",
            "4     0.275                -185\n",
            "5     0.275                -220\n",
            "6     0.450                 200\n",
            "7     0.500                 290\n",
            "8     0.500                 270\n"
          ]
        }
      ],
      "source": [
        "# Skip 15 rows in the footer while reading input file.\n",
        "# This is particularly useful when there is irrelevant content in the footer.\n",
        "hubble = pd.read_csv(\"hubble_data.csv\",engine='python',skipfooter=15)\n",
        "print(hubble)\n"
      ]
    },
    {
      "cell_type": "code",
      "execution_count": 30,
      "metadata": {
        "colab": {
          "base_uri": "https://localhost:8080/"
        },
        "id": "05ICIcqF4-qS",
        "outputId": "c8bd2cbb-a559-4710-f2d0-b92ef1a9dfce"
      },
      "outputs": [
        {
          "data": {
            "text/plain": [
              "Index(['distance', 'recession_velocity'], dtype='object')"
            ]
          },
          "execution_count": 30,
          "metadata": {},
          "output_type": "execute_result"
        }
      ],
      "source": [
        "# In some cases it may be necessary to rename column names, \n",
        "# for example, to make them shorter and more readable like in the following case\n",
        "hubble.columns"
      ]
    },
    {
      "cell_type": "code",
      "execution_count": 31,
      "metadata": {
        "colab": {
          "base_uri": "https://localhost:8080/"
        },
        "id": "VXeIaw985-oM",
        "outputId": "b1dce9b3-b082-435b-f2b2-92123c76ee00"
      },
      "outputs": [
        {
          "data": {
            "text/plain": [
              "0    0.032\n",
              "1    0.034\n",
              "Name: dist, dtype: float64"
            ]
          },
          "execution_count": 31,
          "metadata": {},
          "output_type": "execute_result"
        }
      ],
      "source": [
        "# Rename column names.\n",
        "hubble.columns = [\"dist\", \"rec_vel\"]\n",
        "hubble['dist'].head(2)"
      ]
    },
    {
      "cell_type": "code",
      "execution_count": 32,
      "metadata": {
        "colab": {
          "base_uri": "https://localhost:8080/"
        },
        "id": "jz_2ug4oCavp",
        "outputId": "5f5b4f63-9f47-4dd7-868b-5bd65396f530"
      },
      "outputs": [
        {
          "name": "stdout",
          "output_type": "stream",
          "text": [
            "0    0.0490\n",
            "1    0.0630\n",
            "2    0.2010\n",
            "3    0.2560\n",
            "4    0.2565\n",
            "5    0.2530\n",
            "6    0.4700\n",
            "7    0.5290\n",
            "8    0.5270\n",
            "Name: dist, dtype: float64\n"
          ]
        }
      ],
      "source": [
        "# Panda includes some tools to make sophisticate operations with data\n",
        "# using the apply() function and lambda (anonymous) functions\n",
        "hubble['dist'] = hubble.apply(lambda row: row['dist'] + row['rec_vel']/10000, axis=1)\n",
        "print(hubble['dist'])"
      ]
    },
    {
      "cell_type": "code",
      "execution_count": 33,
      "metadata": {
        "colab": {
          "base_uri": "https://localhost:8080/"
        },
        "id": "dWFoUiMzIbKy",
        "outputId": "7d83afae-676c-4557-ff76-01a18c3c490d"
      },
      "outputs": [
        {
          "name": "stdout",
          "output_type": "stream",
          "text": [
            "dist         0.529\n",
            "rec_vel    290.000\n",
            "dtype: float64\n"
          ]
        }
      ],
      "source": [
        "# We can also use apply to perform a global operation to a dataframe.\n",
        "import numpy as np\n",
        "hubble = hubble.apply(np.max, axis=0)\n",
        "print(hubble)"
      ]
    },
    {
      "cell_type": "markdown",
      "metadata": {
        "id": "Pg4a-k70aLsI"
      },
      "source": [
        "## Matplotlib\n",
        "[Official Usage Guide](https://matplotlib.org/tutorials/introductory/usage.html#sphx-glr-tutorials-introductory-usage-py)\n",
        "\n",
        "Matplotlib is a Python plotting library. Matplotlib allows us to generate plots, histograms, power spectra, bar charts, error charts or scatterplots with just a few lines of code.\n",
        "\n",
        "\n",
        "\n",
        "\n",
        "\n"
      ]
    },
    {
      "cell_type": "code",
      "execution_count": 34,
      "metadata": {
        "colab": {
          "base_uri": "https://localhost:8080/",
          "height": 295
        },
        "id": "2ePBnB4Ib_jW",
        "outputId": "80253cce-bbdb-4525-e78e-ea309d551b6f"
      },
      "outputs": [
        {
          "data": {
            "image/png": "[encoded data removed]",
            "text/plain": [
              "<Figure size 640x480 with 1 Axes>"
            ]
          },
          "metadata": {},
          "output_type": "display_data"
        }
      ],
      "source": [
        "# Plot a graph\n",
        "import matplotlib.pyplot as plt\n",
        "import numpy as np\n",
        "x= np.linspace(1*-2*np.pi,2*np.pi,100)\n",
        "y= np.sin(x)\n",
        "plt.plot(x,y)\n",
        "plt.xlabel('x')\n",
        "plt.ylabel('sin(x)')\n",
        "plt.title('My first graph')\n",
        "plt.show()"
      ]
    },
    {
      "cell_type": "code",
      "execution_count": 35,
      "metadata": {
        "id": "65CtRjV94y2r"
      },
      "outputs": [
        {
          "name": "stderr",
          "output_type": "stream",
          "text": [
            "  % Total    % Received % Xferd  Average Speed   Time    Time     Time  Current\n",
            "                                 Dload  Upload   Total   Spent    Left  Speed\n",
            "\n",
            "  0     0    0     0    0     0      0      0 --:--:-- --:--:-- --:--:--     0\n",
            "  0     0    0     0    0     0      0      0 --:--:-- --:--:-- --:--:--     0\n",
            "100 1390k  100 1390k    0     0  3157k      0 --:--:-- --:--:-- --:--:-- 3159k\n"
          ]
        }
      ],
      "source": [
        "# Download another example\n",
        "!curl -O https://raw.githubusercontent.com/ageron/handson-ml/master/datasets/housing/housing.csv"
      ]
    },
    {
      "cell_type": "code",
      "execution_count": 36,
      "metadata": {
        "colab": {
          "base_uri": "https://localhost:8080/",
          "height": 331
        },
        "id": "IJRT6Cf0fXe-",
        "outputId": "d77b114d-5343-4b23-f937-52b3c56f59a5"
      },
      "outputs": [
        {
          "name": "stdout",
          "output_type": "stream",
          "text": [
            "[-122.23 -122.22 -122.24 ... -121.22 -121.32 -121.24]\n",
            "[37.88 37.86 37.85 ... 39.43 39.43 39.37]\n"
          ]
        },
        {
          "data": {
            "image/png": "[encoded data removed]",
            "text/plain": [
              "<Figure size 640x480 with 1 Axes>"
            ]
          },
          "metadata": {},
          "output_type": "display_data"
        }
      ],
      "source": [
        "# Scatter plot\n",
        "housing = pd.read_csv(\"housing.csv\").values\n",
        "x=housing[:,0]\n",
        "y=housing[:,1]\n",
        "print(x)\n",
        "print(y)\n",
        "plt.scatter(x,y)\n",
        "plt.xlabel('longitude')\n",
        "plt.ylabel('latitude')\n",
        "plt.title('latitude')\n",
        "plt.show()\n"
      ]
    },
    {
      "cell_type": "code",
      "execution_count": 37,
      "metadata": {
        "colab": {
          "base_uri": "https://localhost:8080/",
          "height": 279
        },
        "id": "wzOsZns_ilGU",
        "outputId": "64c6ba8a-9d3b-44b8-f15d-b4ea8b1a42ab"
      },
      "outputs": [
        {
          "data": {
            "image/png": "[encoded data removed]",
            "text/plain": [
              "<Figure size 640x480 with 1 Axes>"
            ]
          },
          "metadata": {},
          "output_type": "display_data"
        }
      ],
      "source": [
        "# Plot histograms\n",
        "population = housing[:,5].astype(int)\n",
        "plt.xlabel('population')\n",
        "plt.ylabel('count')\n",
        "plt.hist(population, bins=50, range=(0, 5000))\n",
        "plt.show()"
      ]
    },
    {
      "cell_type": "code",
      "execution_count": 42,
      "metadata": {
        "id": "kUwmPVVqiru2"
      },
      "outputs": [
        {
          "name": "stderr",
          "output_type": "stream",
          "text": [
            "'wget' is not recognized as an internal or external command,\n",
            "operable program or batch file.\n"
          ]
        },
        {
          "ename": "UnidentifiedImageError",
          "evalue": "cannot identify image file 'cat.jpg'",
          "output_type": "error",
          "traceback": [
            "\u001b[1;31m---------------------------------------------------------------------------\u001b[0m",
            "\u001b[1;31mUnidentifiedImageError\u001b[0m                    Traceback (most recent call last)",
            "Cell \u001b[1;32mIn[42], line 4\u001b[0m\n\u001b[0;32m      2\u001b[0m get_ipython()\u001b[39m.\u001b[39msystem(\u001b[39m'\u001b[39m\u001b[39mwget -q -O cat.jpg https://www.catster.com/wp-content/uploads/2018/07/Savannah-cat-long-body-shot.jpg\u001b[39m\u001b[39m'\u001b[39m)\n\u001b[0;32m      3\u001b[0m \u001b[39mimport\u001b[39;00m \u001b[39mmatplotlib\u001b[39;00m\u001b[39m.\u001b[39;00m\u001b[39mimage\u001b[39;00m \u001b[39mas\u001b[39;00m \u001b[39mmpimg\u001b[39;00m\n\u001b[1;32m----> 4\u001b[0m img \u001b[39m=\u001b[39m mpimg\u001b[39m.\u001b[39;49mimread(\u001b[39m'\u001b[39;49m\u001b[39mcat.jpg\u001b[39;49m\u001b[39m'\u001b[39;49m)\n",
            "File \u001b[1;32m~\\AppData\\Local\\Packages\\PythonSoftwareFoundation.Python.3.10_qbz5n2kfra8p0\\LocalCache\\local-packages\\Python310\\site-packages\\matplotlib\\image.py:1541\u001b[0m, in \u001b[0;36mimread\u001b[1;34m(fname, format)\u001b[0m\n\u001b[0;32m   1534\u001b[0m \u001b[39mif\u001b[39;00m \u001b[39misinstance\u001b[39m(fname, \u001b[39mstr\u001b[39m) \u001b[39mand\u001b[39;00m \u001b[39mlen\u001b[39m(parse\u001b[39m.\u001b[39murlparse(fname)\u001b[39m.\u001b[39mscheme) \u001b[39m>\u001b[39m \u001b[39m1\u001b[39m:\n\u001b[0;32m   1535\u001b[0m     \u001b[39m# Pillow doesn't handle URLs directly.\u001b[39;00m\n\u001b[0;32m   1536\u001b[0m     \u001b[39mraise\u001b[39;00m \u001b[39mValueError\u001b[39;00m(\n\u001b[0;32m   1537\u001b[0m         \u001b[39m\"\u001b[39m\u001b[39mPlease open the URL for reading and pass the \u001b[39m\u001b[39m\"\u001b[39m\n\u001b[0;32m   1538\u001b[0m         \u001b[39m\"\u001b[39m\u001b[39mresult to Pillow, e.g. with \u001b[39m\u001b[39m\"\u001b[39m\n\u001b[0;32m   1539\u001b[0m         \u001b[39m\"\u001b[39m\u001b[39m``np.array(PIL.Image.open(urllib.request.urlopen(url)))``.\u001b[39m\u001b[39m\"\u001b[39m\n\u001b[0;32m   1540\u001b[0m         )\n\u001b[1;32m-> 1541\u001b[0m \u001b[39mwith\u001b[39;00m img_open(fname) \u001b[39mas\u001b[39;00m image:\n\u001b[0;32m   1542\u001b[0m     \u001b[39mreturn\u001b[39;00m (_pil_png_to_float_array(image)\n\u001b[0;32m   1543\u001b[0m             \u001b[39mif\u001b[39;00m \u001b[39misinstance\u001b[39m(image, PIL\u001b[39m.\u001b[39mPngImagePlugin\u001b[39m.\u001b[39mPngImageFile) \u001b[39melse\u001b[39;00m\n\u001b[0;32m   1544\u001b[0m             pil_to_array(image))\n",
            "File \u001b[1;32m~\\AppData\\Local\\Packages\\PythonSoftwareFoundation.Python.3.10_qbz5n2kfra8p0\\LocalCache\\local-packages\\Python310\\site-packages\\PIL\\Image.py:3283\u001b[0m, in \u001b[0;36mopen\u001b[1;34m(fp, mode, formats)\u001b[0m\n\u001b[0;32m   3281\u001b[0m     warnings\u001b[39m.\u001b[39mwarn(message)\n\u001b[0;32m   3282\u001b[0m msg \u001b[39m=\u001b[39m \u001b[39m\"\u001b[39m\u001b[39mcannot identify image file \u001b[39m\u001b[39m%r\u001b[39;00m\u001b[39m\"\u001b[39m \u001b[39m%\u001b[39m (filename \u001b[39mif\u001b[39;00m filename \u001b[39melse\u001b[39;00m fp)\n\u001b[1;32m-> 3283\u001b[0m \u001b[39mraise\u001b[39;00m UnidentifiedImageError(msg)\n",
            "\u001b[1;31mUnidentifiedImageError\u001b[0m: cannot identify image file 'cat.jpg'"
          ]
        }
      ],
      "source": [
        "# Visualizing images\n",
        "!wget -q -O cat.jpg https://www.catster.com/wp-content/uploads/2018/07/Savannah-cat-long-body-shot.jpg\n",
        "import matplotlib.image as mpimg\n",
        "img = mpimg.imread('cat.jpg')\n"
      ]
    },
    {
      "cell_type": "code",
      "execution_count": null,
      "metadata": {
        "colab": {
          "base_uri": "https://localhost:8080/",
          "height": 269
        },
        "id": "BcVqroSc4MO-",
        "outputId": "f09a7357-2fd7-4e19-92fe-7693b1207178"
      },
      "outputs": [
        {
          "data": {
            "image/png": "[encoded data removed]",
            "text/plain": [
              "<Figure size 432x288 with 1 Axes>"
            ]
          },
          "metadata": {
            "needs_background": "light",
            "tags": []
          },
          "output_type": "display_data"
        }
      ],
      "source": [
        "imgplot = plt.imshow(img)"
      ]
    }
  ],
  "metadata": {
    "colab": {
      "collapsed_sections": [],
      "include_colab_link": true,
      "name": "01_part2_Python.ipynb",
      "provenance": [],
      "toc_visible": true
    },
    "kernelspec": {
      "display_name": "Python 3",
      "language": "python",
      "name": "python3"
    },
    "language_info": {
      "codemirror_mode": {
        "name": "ipython",
        "version": 3
      },
      "file_extension": ".py",
      "mimetype": "text/x-python",
      "name": "python",
      "nbconvert_exporter": "python",
      "pygments_lexer": "ipython3",
      "version": "3.10.9"
    },
    "vscode": {
      "interpreter": {
        "hash": "5fce30f8dc84c38b7edc0d2dfd0dca5acdff851d6fd4979fbc95a598f37b969b"
      }
    }
  },
  "nbformat": 4,
  "nbformat_minor": 0
}
