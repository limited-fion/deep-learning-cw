{
  "nbformat": 4,
  "nbformat_minor": 0,
  "metadata": {
    "colab": {
      "provenance": [],
      "authorship_tag": "ABX9TyPFL834k5tF/CuUEs3atmlA",
      "include_colab_link": true
    },
    "kernelspec": {
      "name": "python3",
      "display_name": "Python 3"
    },
    "language_info": {
      "name": "python"
    }
  },
  "cells": [
    {
      "cell_type": "markdown",
      "metadata": {
        "id": "view-in-github",
        "colab_type": "text"
      },
      "source": [
        "<a href=\"https://colab.research.google.com/github/limited-fion/deep-learning-cw/blob/master/03_cw.ipynb\" target=\"_parent\"><img src=\"https://colab.research.google.com/assets/colab-badge.svg\" alt=\"Open In Colab\"/></a>"
      ]
    },
    {
      "cell_type": "markdown",
      "source": [
        "Only modify the given CNN architecture to **add Dropout or Batch Normalization **layers when explicitly stated. Use **40 epochs** to plot all of your curves. However, you can **train for more epochs to find your best validation performance if your network has not finished training in those 40 epochs.**"
      ],
      "metadata": {
        "id": "DDYwuzmjsyWF"
      }
    },
    {
      "cell_type": "code",
      "source": [
        "import numpy as np\n",
        "import keras\n",
        "from keras.layers import Conv2D, MaxPooling2D, GlobalAveragePooling2D\n",
        "from keras.models import Sequential\n",
        "from keras.layers import Dense, Dropout, Activation, BatchNormalization\n",
        "from keras.utils import np_utils\n",
        "from keras.datasets import cifar10\n",
        "from keras.optimizers import Adam, SGD\n",
        "from keras import regularizers\n",
        "import matplotlib.pyplot as plt\n",
        "from tensorflow.keras.layers.experimental import preprocessing\n",
        "\n",
        "# load the data\n",
        "(X_train, y_train), (X_test, y_test) = cifar10.load_data()\n",
        "\n",
        "def plot_history(history, metric = None):\n",
        "  # Plots the loss history of training and validation (if existing)\n",
        "  # and a given metric\n",
        "  # Be careful because the axis ranges are automatically adapted\n",
        "  # which may not desirable to compare different runs.\n",
        "  # Also, in some cases you may want to combine several curves in one\n",
        "  # figure for easier comparison, which this function does not do.\n",
        "  \n",
        "  if metric != None:\n",
        "    fig, axes = plt.subplots(2,1)\n",
        "    axes[0].plot(history.history[metric])\n",
        "    try:\n",
        "      axes[0].plot(history.history['val_'+metric])\n",
        "      axes[0].legend(['Train', 'Val'])\n",
        "    except:\n",
        "      pass\n",
        "    axes[0].set_title('{:s}'.format(metric))\n",
        "    axes[0].set_ylabel('{:s}'.format(metric))\n",
        "    axes[0].set_xlabel('Epoch')\n",
        "    fig.subplots_adjust(hspace=0.5)\n",
        "    axes[1].plot(history.history['loss'])\n",
        "    try:\n",
        "      axes[1].plot(history.history['val_loss'])\n",
        "      axes[1].legend(['Train', 'Val'])\n",
        "    except:\n",
        "      pass\n",
        "    axes[1].set_title('Model Loss')\n",
        "    axes[1].set_ylabel('Loss')\n",
        "    axes[1].set_xlabel('Epoch')\n",
        "  else:\n",
        "    plt.plot(history.history['loss'])\n",
        "    try:\n",
        "      plt.plot(history.history['val_loss'])\n",
        "      plt.legend(['Train', 'Val'])\n",
        "    except:\n",
        "      pass\n",
        "    plt.title('Model Loss')\n",
        "    plt.ylabel('Loss')\n",
        "    plt.xlabel('Epoch')"
      ],
      "metadata": {
        "id": "9k7FtRdxfZ1J"
      },
      "execution_count": 95,
      "outputs": []
    },
    {
      "cell_type": "markdown",
      "source": [
        "# **Default model without any data augmentation**"
      ],
      "metadata": {
        "id": "1KZDL-cHshXo"
      }
    },
    {
      "cell_type": "code",
      "execution_count": 3,
      "metadata": {
        "colab": {
          "base_uri": "https://localhost:8080/"
        },
        "id": "rllhQVH4se9h",
        "outputId": "6ce0849f-57ca-4dd4-a43e-aa6750e29074"
      },
      "outputs": [
        {
          "metadata": {
            "tags": null
          },
          "name": "stdout",
          "output_type": "stream",
          "text": [
            "Image shape: (32, 32, 3)\n",
            "Total number of training samples: 50000\n",
            "Total number of validation samples: 10000\n",
            "Epoch 1/40\n"
          ]
        },
        {
          "metadata": {
            "tags": null
          },
          "name": "stderr",
          "output_type": "stream",
          "text": [
            "WARNING:tensorflow:Using a while_loop for converting RngReadAndSkip cause there is no registered converter for this op.\n",
            "WARNING:tensorflow:Using a while_loop for converting Bitcast cause there is no registered converter for this op.\n",
            "WARNING:tensorflow:Using a while_loop for converting Bitcast cause there is no registered converter for this op.\n",
            "WARNING:tensorflow:Using a while_loop for converting StatelessRandomUniformV2 cause there is no registered converter for this op.\n",
            "WARNING:tensorflow:Using a while_loop for converting ImageProjectiveTransformV3 cause there is no registered converter for this op.\n",
            "WARNING:tensorflow:Using a while_loop for converting RngReadAndSkip cause there is no registered converter for this op.\n",
            "WARNING:tensorflow:Using a while_loop for converting Bitcast cause there is no registered converter for this op.\n",
            "WARNING:tensorflow:Using a while_loop for converting Bitcast cause there is no registered converter for this op.\n",
            "WARNING:tensorflow:Using a while_loop for converting StatelessRandomUniformV2 cause there is no registered converter for this op.\n",
            "WARNING:tensorflow:Using a while_loop for converting ImageProjectiveTransformV3 cause there is no registered converter for this op.\n",
            "WARNING:tensorflow:Using a while_loop for converting RngReadAndSkip cause there is no registered converter for this op.\n",
            "WARNING:tensorflow:Using a while_loop for converting Bitcast cause there is no registered converter for this op.\n",
            "WARNING:tensorflow:Using a while_loop for converting Bitcast cause there is no registered converter for this op.\n",
            "WARNING:tensorflow:Using a while_loop for converting StatelessRandomUniformV2 cause there is no registered converter for this op.\n",
            "WARNING:tensorflow:Using a while_loop for converting ImageProjectiveTransformV3 cause there is no registered converter for this op.\n",
            "WARNING:tensorflow:Using a while_loop for converting RngReadAndSkip cause there is no registered converter for this op.\n",
            "WARNING:tensorflow:Using a while_loop for converting Bitcast cause there is no registered converter for this op.\n",
            "WARNING:tensorflow:Using a while_loop for converting Bitcast cause there is no registered converter for this op.\n",
            "WARNING:tensorflow:Using a while_loop for converting StatelessRandomUniformV2 cause there is no registered converter for this op.\n",
            "WARNING:tensorflow:Using a while_loop for converting ImageProjectiveTransformV3 cause there is no registered converter for this op.\n"
          ]
        },
        {
          "output_type": "stream",
          "name": "stdout",
          "text": [
            "1563/1563 [==============================] - 250s 158ms/step - loss: 1.5488 - accuracy: 0.4345 - val_loss: 1.2484 - val_accuracy: 0.5516\n",
            "Epoch 2/40\n",
            "1563/1563 [==============================] - 215s 138ms/step - loss: 1.1746 - accuracy: 0.5800 - val_loss: 1.0635 - val_accuracy: 0.6198\n",
            "Epoch 3/40\n",
            "1563/1563 [==============================] - 213s 137ms/step - loss: 1.0107 - accuracy: 0.6401 - val_loss: 1.0144 - val_accuracy: 0.6406\n",
            "Epoch 4/40\n",
            "1563/1563 [==============================] - 216s 138ms/step - loss: 0.9088 - accuracy: 0.6779 - val_loss: 0.9084 - val_accuracy: 0.6807\n",
            "Epoch 5/40\n",
            "1563/1563 [==============================] - 213s 137ms/step - loss: 0.8162 - accuracy: 0.7115 - val_loss: 0.8691 - val_accuracy: 0.7021\n",
            "Epoch 6/40\n",
            "1563/1563 [==============================] - 216s 138ms/step - loss: 0.7360 - accuracy: 0.7444 - val_loss: 0.7684 - val_accuracy: 0.7346\n",
            "Epoch 7/40\n",
            "1563/1563 [==============================] - 215s 137ms/step - loss: 0.6769 - accuracy: 0.7648 - val_loss: 0.8171 - val_accuracy: 0.7228\n",
            "Epoch 8/40\n",
            "1563/1563 [==============================] - 214s 137ms/step - loss: 0.6222 - accuracy: 0.7821 - val_loss: 0.7792 - val_accuracy: 0.7310\n",
            "Epoch 9/40\n",
            "1563/1563 [==============================] - 215s 138ms/step - loss: 0.5705 - accuracy: 0.8015 - val_loss: 0.6770 - val_accuracy: 0.7678\n",
            "Epoch 10/40\n",
            "1563/1563 [==============================] - 211s 135ms/step - loss: 0.5285 - accuracy: 0.8163 - val_loss: 0.6888 - val_accuracy: 0.7652\n",
            "Epoch 11/40\n",
            "1563/1563 [==============================] - 204s 130ms/step - loss: 0.4861 - accuracy: 0.8302 - val_loss: 0.6514 - val_accuracy: 0.7776\n",
            "Epoch 12/40\n",
            "1563/1563 [==============================] - 203s 130ms/step - loss: 0.4486 - accuracy: 0.8454 - val_loss: 0.6753 - val_accuracy: 0.7763\n",
            "Epoch 13/40\n",
            "1563/1563 [==============================] - 203s 130ms/step - loss: 0.4117 - accuracy: 0.8568 - val_loss: 0.7127 - val_accuracy: 0.7676\n",
            "Epoch 14/40\n",
            "1563/1563 [==============================] - 203s 130ms/step - loss: 0.3781 - accuracy: 0.8687 - val_loss: 0.6827 - val_accuracy: 0.7720\n",
            "Epoch 15/40\n",
            "1563/1563 [==============================] - 203s 130ms/step - loss: 0.3460 - accuracy: 0.8791 - val_loss: 0.6927 - val_accuracy: 0.7741\n",
            "Epoch 16/40\n",
            "1563/1563 [==============================] - 201s 129ms/step - loss: 0.3143 - accuracy: 0.8924 - val_loss: 0.6983 - val_accuracy: 0.7736\n",
            "Epoch 17/40\n",
            "1563/1563 [==============================] - 203s 130ms/step - loss: 0.2810 - accuracy: 0.9031 - val_loss: 0.7521 - val_accuracy: 0.7748\n",
            "Epoch 18/40\n",
            "1563/1563 [==============================] - 205s 131ms/step - loss: 0.2500 - accuracy: 0.9138 - val_loss: 0.6966 - val_accuracy: 0.7872\n",
            "Epoch 19/40\n",
            "1563/1563 [==============================] - 202s 129ms/step - loss: 0.2228 - accuracy: 0.9231 - val_loss: 0.7207 - val_accuracy: 0.7863\n",
            "Epoch 20/40\n",
            "1563/1563 [==============================] - 202s 129ms/step - loss: 0.1995 - accuracy: 0.9312 - val_loss: 0.7640 - val_accuracy: 0.7890\n",
            "Epoch 21/40\n",
            "1563/1563 [==============================] - 201s 129ms/step - loss: 0.1713 - accuracy: 0.9422 - val_loss: 0.7622 - val_accuracy: 0.7910\n",
            "Epoch 22/40\n",
            "1563/1563 [==============================] - 206s 131ms/step - loss: 0.1561 - accuracy: 0.9471 - val_loss: 0.7745 - val_accuracy: 0.7917\n",
            "Epoch 23/40\n",
            "1563/1563 [==============================] - 203s 130ms/step - loss: 0.1327 - accuracy: 0.9560 - val_loss: 0.8271 - val_accuracy: 0.7909\n",
            "Epoch 24/40\n",
            "1563/1563 [==============================] - 204s 130ms/step - loss: 0.1166 - accuracy: 0.9612 - val_loss: 0.8309 - val_accuracy: 0.7915\n",
            "Epoch 25/40\n",
            "1563/1563 [==============================] - 204s 131ms/step - loss: 0.1030 - accuracy: 0.9661 - val_loss: 0.9295 - val_accuracy: 0.7880\n",
            "Epoch 26/40\n",
            "1563/1563 [==============================] - 210s 134ms/step - loss: 0.0884 - accuracy: 0.9720 - val_loss: 0.9473 - val_accuracy: 0.7852\n",
            "Epoch 27/40\n",
            "1563/1563 [==============================] - 211s 135ms/step - loss: 0.0782 - accuracy: 0.9741 - val_loss: 0.9341 - val_accuracy: 0.7898\n",
            "Epoch 28/40\n",
            "1563/1563 [==============================] - 212s 136ms/step - loss: 0.0711 - accuracy: 0.9774 - val_loss: 1.0243 - val_accuracy: 0.7869\n",
            "Epoch 29/40\n",
            "1563/1563 [==============================] - 212s 136ms/step - loss: 0.0641 - accuracy: 0.9796 - val_loss: 0.9684 - val_accuracy: 0.7954\n",
            "Epoch 30/40\n",
            "1563/1563 [==============================] - 210s 134ms/step - loss: 0.0545 - accuracy: 0.9828 - val_loss: 1.0524 - val_accuracy: 0.7963\n",
            "Epoch 31/40\n",
            "1563/1563 [==============================] - 211s 135ms/step - loss: 0.0485 - accuracy: 0.9854 - val_loss: 1.1663 - val_accuracy: 0.7788\n",
            "Epoch 32/40\n",
            "1563/1563 [==============================] - 213s 136ms/step - loss: 0.0540 - accuracy: 0.9828 - val_loss: 1.1046 - val_accuracy: 0.7853\n",
            "Epoch 33/40\n",
            "1563/1563 [==============================] - 212s 135ms/step - loss: 0.0464 - accuracy: 0.9850 - val_loss: 1.1032 - val_accuracy: 0.7852\n",
            "Epoch 34/40\n",
            "1563/1563 [==============================] - 210s 135ms/step - loss: 0.0434 - accuracy: 0.9861 - val_loss: 1.0746 - val_accuracy: 0.7942\n",
            "Epoch 35/40\n",
            "1563/1563 [==============================] - 211s 135ms/step - loss: 0.0347 - accuracy: 0.9894 - val_loss: 1.1341 - val_accuracy: 0.7972\n",
            "Epoch 36/40\n",
            "1563/1563 [==============================] - 210s 134ms/step - loss: 0.0398 - accuracy: 0.9878 - val_loss: 1.1815 - val_accuracy: 0.7933\n",
            "Epoch 37/40\n",
            "1563/1563 [==============================] - 210s 134ms/step - loss: 0.0418 - accuracy: 0.9860 - val_loss: 1.1847 - val_accuracy: 0.7911\n",
            "Epoch 38/40\n",
            "1563/1563 [==============================] - 212s 135ms/step - loss: 0.0336 - accuracy: 0.9895 - val_loss: 1.2019 - val_accuracy: 0.7920\n",
            "Epoch 39/40\n",
            "1563/1563 [==============================] - 211s 135ms/step - loss: 0.0406 - accuracy: 0.9872 - val_loss: 1.1984 - val_accuracy: 0.7942\n",
            "Epoch 40/40\n",
            "1563/1563 [==============================] - 210s 134ms/step - loss: 0.0301 - accuracy: 0.9909 - val_loss: 1.2745 - val_accuracy: 0.7873\n"
          ]
        }
      ],
      "source": [
        "print('Image shape: {0}'.format(X_train.shape[1:]))\n",
        "print('Total number of training samples: {0}'.format(X_train.shape[0]))\n",
        "print('Total number of validation samples: {0}'.format(X_test.shape[0]))\n",
        "\n",
        "X_train = X_train.reshape(-1,32,32,3)\n",
        "\n",
        "## Normalization block\n",
        "norm_layer = preprocessing.Normalization()\n",
        "norm_layer.adapt(X_train)\n",
        "X_train_n = norm_layer(X_train)\n",
        "X_test_n = norm_layer(X_test)\n",
        "\n",
        "# You can modify the data_augmentation variable below to add your\n",
        "# data augmentation pipeline.\n",
        "# By default we do not apply any augmentation (RandomZoom(0) is equivalent\n",
        "# to not performing any augmentation)\n",
        "data_augmentation = keras.Sequential(\n",
        "    [\n",
        "        preprocessing.RandomZoom(0)\n",
        "    ]\n",
        ")\n",
        "# We will use glorot_uniform as a initialization by default\n",
        "initialization = 'glorot_uniform'\n",
        "# Use the architecture given below, only modify it to add Dropout/BatchNorm\n",
        "model = Sequential()\n",
        "model.add(data_augmentation)\n",
        "model.add(Conv2D(32, (3, 3), padding='same', kernel_initializer=initialization))\n",
        "model.add(Activation('relu'))\n",
        "model.add(MaxPooling2D(pool_size=(2, 2), strides=(2, 2), padding='same'))\n",
        "\n",
        "model.add(Conv2D(64, (3, 3), padding='same', kernel_initializer=initialization))\n",
        "model.add(Activation('relu'))\n",
        "model.add(MaxPooling2D(pool_size=(2, 2), strides=(2, 2), padding='same'))\n",
        "\n",
        "model.add(Conv2D(128, (3, 3), padding='same', kernel_initializer=initialization))\n",
        "model.add(Activation('relu'))\n",
        "model.add(MaxPooling2D(pool_size=(2, 2), strides=(2, 2), padding='same'))\n",
        "\n",
        "model.add(Conv2D(256, (3, 3), padding='same', kernel_initializer=initialization))\n",
        "model.add(Activation('relu'))\n",
        "# As we use global average pooling, we don't need to use Flatten\n",
        "model.add(GlobalAveragePooling2D())\n",
        "model.add(Dense(10, kernel_initializer=initialization))\n",
        "model.add(Activation('softmax'))\n",
        "\n",
        "\n",
        "Y_train_class = np_utils.to_categorical(y_train, 10)\n",
        "Y_test_class = np_utils.to_categorical(y_test, 10)\n",
        "# By default use Adam with lr=3e-4. Change it to SGD when asked to\n",
        "opt = Adam(lr=3e-4)\n",
        "model.compile(loss='categorical_crossentropy',\n",
        "              optimizer=opt,\n",
        "              metrics=['accuracy'])\n",
        "# Use 40 epochs as default value to plot your curves\n",
        "history = model.fit(X_train_n, Y_train_class, epochs=40, validation_data=(X_test_n,Y_test_class))"
      ]
    },
    {
      "cell_type": "code",
      "source": [
        "plot_history(history, 'categorical_accuracy')"
      ],
      "metadata": {
        "id": "T2w_g4AG5atP",
        "outputId": "648940d3-f324-4e1b-ddda-c99e9ab11d60",
        "colab": {
          "base_uri": "https://localhost:8080/",
          "height": 165
        }
      },
      "execution_count": 96,
      "outputs": [
        {
          "output_type": "error",
          "ename": "NameError",
          "evalue": "ignored",
          "traceback": [
            "\u001b[0;31m---------------------------------------------------------------------------\u001b[0m",
            "\u001b[0;31mNameError\u001b[0m                                 Traceback (most recent call last)",
            "\u001b[0;32m<ipython-input-96-ed833607bbe1>\u001b[0m in \u001b[0;36m<module>\u001b[0;34m\u001b[0m\n\u001b[0;32m----> 1\u001b[0;31m \u001b[0mplot_history\u001b[0m\u001b[0;34m(\u001b[0m\u001b[0mhistory\u001b[0m\u001b[0;34m,\u001b[0m \u001b[0;34m'categorical_accuracy'\u001b[0m\u001b[0;34m)\u001b[0m\u001b[0;34m\u001b[0m\u001b[0;34m\u001b[0m\u001b[0m\n\u001b[0m",
            "\u001b[0;31mNameError\u001b[0m: name 'history' is not defined"
          ]
        }
      ]
    },
    {
      "cell_type": "markdown",
      "source": [
        "*   Define two data augmentation strategies (one more aggressive than the other) and train the model with data augmentation. Clearly state the two augmentation strategies you apply (i.e., the specific transformations). Discuss the training and validation loss curves for the two data augmentation strategies along with the original run without data augmentation. \n",
        "\n"
      ],
      "metadata": {
        "id": "V9n9dEgptEoP"
      }
    },
    {
      "cell_type": "markdown",
      "source": [
        "# **Data augmentation 1 - Flip vertical; Rotation: 0.6**"
      ],
      "metadata": {
        "id": "rncBVGHWuDhd"
      }
    },
    {
      "cell_type": "code",
      "source": [
        "print('Image shape: {0}'.format(X_train.shape[1:]))\n",
        "print('Total number of training samples: {0}'.format(X_train.shape[0]))\n",
        "print('Total number of validation samples: {0}'.format(X_test.shape[0]))\n",
        "\n",
        "X_train = X_train.reshape(-1,32,32,3)\n",
        "\n",
        "## Normalization block\n",
        "norm_layer = preprocessing.Normalization()\n",
        "norm_layer.adapt(X_train)\n",
        "X_train_n = norm_layer(X_train)\n",
        "X_test_n = norm_layer(X_test)\n",
        "\n",
        "data_augmentation = keras.Sequential(\n",
        "    [   \n",
        "        preprocessing.RandomFlip(\"vertical\"),\n",
        "        preprocessing.RandomRotation(0.6)\n",
        "    ]\n",
        ")"
      ],
      "metadata": {
        "id": "yRSFB6WFfXVa",
        "outputId": "e8000d4c-163e-465f-d8fd-e1f52a01c930",
        "colab": {
          "base_uri": "https://localhost:8080/"
        }
      },
      "execution_count": 93,
      "outputs": [
        {
          "output_type": "stream",
          "name": "stdout",
          "text": [
            "Image shape: (32, 32, 3)\n",
            "Total number of training samples: 50000\n",
            "Total number of validation samples: 10000\n"
          ]
        }
      ]
    },
    {
      "cell_type": "code",
      "source": [
        "N=2\n",
        "# fig1 = plt.figure(figsize=(10,10))\n",
        "# fig1 = plt.imshow(X_train[0], cmap='gray')\n",
        "start_val = 0 # pick an element for the code to plot the following N**2 values\n",
        "fig, axes = plt.subplots(N,N)\n",
        "items = list(range(0, 10))\n",
        "for row in range(N):\n",
        "  for col in range(N):\n",
        "    idx = start_val+row+N*col\n",
        "    axes[row,col].imshow(X_train[idx], cmap='gray')\n",
        "    fig.subplots_adjust(hspace=0.5)\n",
        "    y_target = int(y_train[idx])\n",
        "    target = str(items[y_target])\n",
        "    axes[row,col].set_title(target)\n",
        "    axes[row,col].set_xticks([])\n",
        "    axes[row,col].set_yticks([])\n",
        "     "
      ],
      "metadata": {
        "id": "9HtUkJCxoi5L",
        "outputId": "23edec75-79d0-4694-af92-46c5bf3d7915",
        "colab": {
          "base_uri": "https://localhost:8080/",
          "height": 268
        }
      },
      "execution_count": 92,
      "outputs": [
        {
          "output_type": "display_data",
          "data": {
            "text/plain": [
              "<Figure size 432x288 with 4 Axes>"
            ],
            "image/png": "[encoded data removed]"
          },
          "metadata": {}
        }
      ]
    },
    {
      "cell_type": "code",
      "source": [
        "# We will use glorot_uniform as a initialization by default\n",
        "initialization = 'glorot_uniform'\n",
        "# Use the architecture given below, only modify it to add Dropout/BatchNorm\n",
        "model = Sequential()\n",
        "model.add(data_augmentation)\n",
        "model.add(Conv2D(32, (3, 3), padding='same', kernel_initializer=initialization))\n",
        "model.add(Activation('relu'))\n",
        "model.add(MaxPooling2D(pool_size=(2, 2), strides=(2, 2), padding='same'))\n",
        "\n",
        "model.add(Conv2D(64, (3, 3), padding='same', kernel_initializer=initialization))\n",
        "model.add(Activation('relu'))\n",
        "model.add(MaxPooling2D(pool_size=(2, 2), strides=(2, 2), padding='same'))\n",
        "\n",
        "model.add(Conv2D(128, (3, 3), padding='same', kernel_initializer=initialization))\n",
        "model.add(Activation('relu'))\n",
        "model.add(MaxPooling2D(pool_size=(2, 2), strides=(2, 2), padding='same'))\n",
        "\n",
        "model.add(Conv2D(256, (3, 3), padding='same', kernel_initializer=initialization))\n",
        "model.add(Activation('relu'))\n",
        "# As we use global average pooling, we don't need to use Flatten\n",
        "model.add(GlobalAveragePooling2D())\n",
        "model.add(Dense(10, kernel_initializer=initialization))\n",
        "model.add(Activation('softmax'))\n",
        "\n",
        "\n",
        "Y_train_class = np_utils.to_categorical(y_train, 10)\n",
        "Y_test_class = np_utils.to_categorical(y_test, 10)\n",
        "# By default use Adam with lr=3e-4. Change it to SGD when asked to\n",
        "opt = Adam(lr=3e-4)\n",
        "model.compile(loss='categorical_crossentropy',\n",
        "              optimizer=opt,\n",
        "              metrics=['accuracy'])\n",
        "# Use 40 epochs as default value to plot your curves\n",
        "history = model.fit(X_train_n, Y_train_class, epochs=40, validation_data=(X_test_n,Y_test_class))"
      ],
      "metadata": {
        "colab": {
          "base_uri": "https://localhost:8080/",
          "height": 1000
        },
        "id": "J0N4JbZau-XF",
        "outputId": "f0538f45-17ef-44d2-9c07-630b1460efb9"
      },
      "execution_count": 94,
      "outputs": [
        {
          "output_type": "stream",
          "name": "stdout",
          "text": [
            "Epoch 1/40\n"
          ]
        },
        {
          "output_type": "stream",
          "name": "stderr",
          "text": [
            "/usr/local/lib/python3.8/dist-packages/keras/optimizers/optimizer_v2/adam.py:117: UserWarning: The `lr` argument is deprecated, use `learning_rate` instead.\n",
            "  super().__init__(name, **kwargs)\n",
            "WARNING:tensorflow:Using a while_loop for converting RngReadAndSkip cause there is no registered converter for this op.\n",
            "WARNING:tensorflow:Using a while_loop for converting Bitcast cause there is no registered converter for this op.\n",
            "WARNING:tensorflow:Using a while_loop for converting Bitcast cause there is no registered converter for this op.\n",
            "WARNING:tensorflow:Using a while_loop for converting StatelessRandomUniformV2 cause there is no registered converter for this op.\n",
            "WARNING:tensorflow:Using a while_loop for converting ImageProjectiveTransformV3 cause there is no registered converter for this op.\n",
            "WARNING:tensorflow:Using a while_loop for converting RngReadAndSkip cause there is no registered converter for this op.\n",
            "WARNING:tensorflow:Using a while_loop for converting Bitcast cause there is no registered converter for this op.\n",
            "WARNING:tensorflow:Using a while_loop for converting Bitcast cause there is no registered converter for this op.\n",
            "WARNING:tensorflow:Using a while_loop for converting StatelessRandomUniformV2 cause there is no registered converter for this op.\n",
            "WARNING:tensorflow:Using a while_loop for converting ImageProjectiveTransformV3 cause there is no registered converter for this op.\n",
            "WARNING:tensorflow:Using a while_loop for converting RngReadAndSkip cause there is no registered converter for this op.\n",
            "WARNING:tensorflow:Using a while_loop for converting Bitcast cause there is no registered converter for this op.\n",
            "WARNING:tensorflow:Using a while_loop for converting Bitcast cause there is no registered converter for this op.\n",
            "WARNING:tensorflow:Using a while_loop for converting StatelessRandomUniformV2 cause there is no registered converter for this op.\n",
            "WARNING:tensorflow:Using a while_loop for converting ImageProjectiveTransformV3 cause there is no registered converter for this op.\n",
            "WARNING:tensorflow:Using a while_loop for converting RngReadAndSkip cause there is no registered converter for this op.\n",
            "WARNING:tensorflow:Using a while_loop for converting Bitcast cause there is no registered converter for this op.\n",
            "WARNING:tensorflow:Using a while_loop for converting Bitcast cause there is no registered converter for this op.\n",
            "WARNING:tensorflow:Using a while_loop for converting StatelessRandomUniformV2 cause there is no registered converter for this op.\n",
            "WARNING:tensorflow:Using a while_loop for converting ImageProjectiveTransformV3 cause there is no registered converter for this op.\n"
          ]
        },
        {
          "output_type": "stream",
          "name": "stdout",
          "text": [
            "1563/1563 [==============================] - 226s 142ms/step - loss: 1.8586 - accuracy: 0.3196 - val_loss: 1.6051 - val_accuracy: 0.4320\n",
            "Epoch 2/40\n",
            "1563/1563 [==============================] - 221s 141ms/step - loss: 1.6153 - accuracy: 0.4192 - val_loss: 1.4448 - val_accuracy: 0.4828\n",
            "Epoch 3/40\n",
            "1563/1563 [==============================] - 228s 146ms/step - loss: 1.5041 - accuracy: 0.4621 - val_loss: 1.4085 - val_accuracy: 0.4993\n",
            "Epoch 4/40\n",
            "1563/1563 [==============================] - 220s 141ms/step - loss: 1.4346 - accuracy: 0.4860 - val_loss: 1.4403 - val_accuracy: 0.4949\n",
            "Epoch 5/40\n",
            "1563/1563 [==============================] - 223s 142ms/step - loss: 1.3763 - accuracy: 0.5085 - val_loss: 1.4141 - val_accuracy: 0.4951\n",
            "Epoch 6/40\n",
            "1563/1563 [==============================] - 220s 141ms/step - loss: 1.3240 - accuracy: 0.5268 - val_loss: 1.3567 - val_accuracy: 0.5308\n",
            "Epoch 7/40\n",
            "1563/1563 [==============================] - 223s 143ms/step - loss: 1.2764 - accuracy: 0.5459 - val_loss: 1.2902 - val_accuracy: 0.5500\n",
            "Epoch 8/40\n",
            "1563/1563 [==============================] - 223s 143ms/step - loss: 1.2337 - accuracy: 0.5597 - val_loss: 1.2976 - val_accuracy: 0.5483\n",
            "Epoch 9/40\n",
            "1563/1563 [==============================] - ETA: 0s - loss: 1.1962 - accuracy: 0.5713"
          ]
        },
        {
          "output_type": "error",
          "ename": "KeyboardInterrupt",
          "evalue": "ignored",
          "traceback": [
            "\u001b[0;31m---------------------------------------------------------------------------\u001b[0m",
            "\u001b[0;31mKeyboardInterrupt\u001b[0m                         Traceback (most recent call last)",
            "\u001b[0;32m<ipython-input-94-be229b1460d9>\u001b[0m in \u001b[0;36m<module>\u001b[0;34m\u001b[0m\n\u001b[1;32m     32\u001b[0m               metrics=['accuracy'])\n\u001b[1;32m     33\u001b[0m \u001b[0;31m# Use 40 epochs as default value to plot your curves\u001b[0m\u001b[0;34m\u001b[0m\u001b[0;34m\u001b[0m\u001b[0;34m\u001b[0m\u001b[0m\n\u001b[0;32m---> 34\u001b[0;31m \u001b[0mhistory\u001b[0m \u001b[0;34m=\u001b[0m \u001b[0mmodel\u001b[0m\u001b[0;34m.\u001b[0m\u001b[0mfit\u001b[0m\u001b[0;34m(\u001b[0m\u001b[0mX_train_n\u001b[0m\u001b[0;34m,\u001b[0m \u001b[0mY_train_class\u001b[0m\u001b[0;34m,\u001b[0m \u001b[0mepochs\u001b[0m\u001b[0;34m=\u001b[0m\u001b[0;36m40\u001b[0m\u001b[0;34m,\u001b[0m \u001b[0mvalidation_data\u001b[0m\u001b[0;34m=\u001b[0m\u001b[0;34m(\u001b[0m\u001b[0mX_test_n\u001b[0m\u001b[0;34m,\u001b[0m\u001b[0mY_test_class\u001b[0m\u001b[0;34m)\u001b[0m\u001b[0;34m)\u001b[0m\u001b[0;34m\u001b[0m\u001b[0;34m\u001b[0m\u001b[0m\n\u001b[0m",
            "\u001b[0;32m/usr/local/lib/python3.8/dist-packages/keras/utils/traceback_utils.py\u001b[0m in \u001b[0;36merror_handler\u001b[0;34m(*args, **kwargs)\u001b[0m\n\u001b[1;32m     63\u001b[0m         \u001b[0mfiltered_tb\u001b[0m \u001b[0;34m=\u001b[0m \u001b[0;32mNone\u001b[0m\u001b[0;34m\u001b[0m\u001b[0;34m\u001b[0m\u001b[0m\n\u001b[1;32m     64\u001b[0m         \u001b[0;32mtry\u001b[0m\u001b[0;34m:\u001b[0m\u001b[0;34m\u001b[0m\u001b[0;34m\u001b[0m\u001b[0m\n\u001b[0;32m---> 65\u001b[0;31m             \u001b[0;32mreturn\u001b[0m \u001b[0mfn\u001b[0m\u001b[0;34m(\u001b[0m\u001b[0;34m*\u001b[0m\u001b[0margs\u001b[0m\u001b[0;34m,\u001b[0m \u001b[0;34m**\u001b[0m\u001b[0mkwargs\u001b[0m\u001b[0;34m)\u001b[0m\u001b[0;34m\u001b[0m\u001b[0;34m\u001b[0m\u001b[0m\n\u001b[0m\u001b[1;32m     66\u001b[0m         \u001b[0;32mexcept\u001b[0m \u001b[0mException\u001b[0m \u001b[0;32mas\u001b[0m \u001b[0me\u001b[0m\u001b[0;34m:\u001b[0m\u001b[0;34m\u001b[0m\u001b[0;34m\u001b[0m\u001b[0m\n\u001b[1;32m     67\u001b[0m             \u001b[0mfiltered_tb\u001b[0m \u001b[0;34m=\u001b[0m \u001b[0m_process_traceback_frames\u001b[0m\u001b[0;34m(\u001b[0m\u001b[0me\u001b[0m\u001b[0;34m.\u001b[0m\u001b[0m__traceback__\u001b[0m\u001b[0;34m)\u001b[0m\u001b[0;34m\u001b[0m\u001b[0;34m\u001b[0m\u001b[0m\n",
            "\u001b[0;32m/usr/local/lib/python3.8/dist-packages/keras/engine/training.py\u001b[0m in \u001b[0;36mfit\u001b[0;34m(self, x, y, batch_size, epochs, verbose, callbacks, validation_split, validation_data, shuffle, class_weight, sample_weight, initial_epoch, steps_per_epoch, validation_steps, validation_batch_size, validation_freq, max_queue_size, workers, use_multiprocessing)\u001b[0m\n\u001b[1;32m   1692\u001b[0m                             \u001b[0msteps_per_execution\u001b[0m\u001b[0;34m=\u001b[0m\u001b[0mself\u001b[0m\u001b[0;34m.\u001b[0m\u001b[0m_steps_per_execution\u001b[0m\u001b[0;34m,\u001b[0m\u001b[0;34m\u001b[0m\u001b[0;34m\u001b[0m\u001b[0m\n\u001b[1;32m   1693\u001b[0m                         )\n\u001b[0;32m-> 1694\u001b[0;31m                     val_logs = self.evaluate(\n\u001b[0m\u001b[1;32m   1695\u001b[0m                         \u001b[0mx\u001b[0m\u001b[0;34m=\u001b[0m\u001b[0mval_x\u001b[0m\u001b[0;34m,\u001b[0m\u001b[0;34m\u001b[0m\u001b[0;34m\u001b[0m\u001b[0m\n\u001b[1;32m   1696\u001b[0m                         \u001b[0my\u001b[0m\u001b[0;34m=\u001b[0m\u001b[0mval_y\u001b[0m\u001b[0;34m,\u001b[0m\u001b[0;34m\u001b[0m\u001b[0;34m\u001b[0m\u001b[0m\n",
            "\u001b[0;32m/usr/local/lib/python3.8/dist-packages/keras/utils/traceback_utils.py\u001b[0m in \u001b[0;36merror_handler\u001b[0;34m(*args, **kwargs)\u001b[0m\n\u001b[1;32m     63\u001b[0m         \u001b[0mfiltered_tb\u001b[0m \u001b[0;34m=\u001b[0m \u001b[0;32mNone\u001b[0m\u001b[0;34m\u001b[0m\u001b[0;34m\u001b[0m\u001b[0m\n\u001b[1;32m     64\u001b[0m         \u001b[0;32mtry\u001b[0m\u001b[0;34m:\u001b[0m\u001b[0;34m\u001b[0m\u001b[0;34m\u001b[0m\u001b[0m\n\u001b[0;32m---> 65\u001b[0;31m             \u001b[0;32mreturn\u001b[0m \u001b[0mfn\u001b[0m\u001b[0;34m(\u001b[0m\u001b[0;34m*\u001b[0m\u001b[0margs\u001b[0m\u001b[0;34m,\u001b[0m \u001b[0;34m**\u001b[0m\u001b[0mkwargs\u001b[0m\u001b[0;34m)\u001b[0m\u001b[0;34m\u001b[0m\u001b[0;34m\u001b[0m\u001b[0m\n\u001b[0m\u001b[1;32m     66\u001b[0m         \u001b[0;32mexcept\u001b[0m \u001b[0mException\u001b[0m \u001b[0;32mas\u001b[0m \u001b[0me\u001b[0m\u001b[0;34m:\u001b[0m\u001b[0;34m\u001b[0m\u001b[0;34m\u001b[0m\u001b[0m\n\u001b[1;32m     67\u001b[0m             \u001b[0mfiltered_tb\u001b[0m \u001b[0;34m=\u001b[0m \u001b[0m_process_traceback_frames\u001b[0m\u001b[0;34m(\u001b[0m\u001b[0me\u001b[0m\u001b[0;34m.\u001b[0m\u001b[0m__traceback__\u001b[0m\u001b[0;34m)\u001b[0m\u001b[0;34m\u001b[0m\u001b[0;34m\u001b[0m\u001b[0m\n",
            "\u001b[0;32m/usr/local/lib/python3.8/dist-packages/keras/engine/training.py\u001b[0m in \u001b[0;36mevaluate\u001b[0;34m(self, x, y, batch_size, verbose, sample_weight, steps, callbacks, max_queue_size, workers, use_multiprocessing, return_dict, **kwargs)\u001b[0m\n\u001b[1;32m   2038\u001b[0m                         ):\n\u001b[1;32m   2039\u001b[0m                             \u001b[0mcallbacks\u001b[0m\u001b[0;34m.\u001b[0m\u001b[0mon_test_batch_begin\u001b[0m\u001b[0;34m(\u001b[0m\u001b[0mstep\u001b[0m\u001b[0;34m)\u001b[0m\u001b[0;34m\u001b[0m\u001b[0;34m\u001b[0m\u001b[0m\n\u001b[0;32m-> 2040\u001b[0;31m                             \u001b[0mtmp_logs\u001b[0m \u001b[0;34m=\u001b[0m \u001b[0mself\u001b[0m\u001b[0;34m.\u001b[0m\u001b[0mtest_function\u001b[0m\u001b[0;34m(\u001b[0m\u001b[0miterator\u001b[0m\u001b[0;34m)\u001b[0m\u001b[0;34m\u001b[0m\u001b[0;34m\u001b[0m\u001b[0m\n\u001b[0m\u001b[1;32m   2041\u001b[0m                             \u001b[0;32mif\u001b[0m \u001b[0mdata_handler\u001b[0m\u001b[0;34m.\u001b[0m\u001b[0mshould_sync\u001b[0m\u001b[0;34m:\u001b[0m\u001b[0;34m\u001b[0m\u001b[0;34m\u001b[0m\u001b[0m\n\u001b[1;32m   2042\u001b[0m                                 \u001b[0mcontext\u001b[0m\u001b[0;34m.\u001b[0m\u001b[0masync_wait\u001b[0m\u001b[0;34m(\u001b[0m\u001b[0;34m)\u001b[0m\u001b[0;34m\u001b[0m\u001b[0;34m\u001b[0m\u001b[0m\n",
            "\u001b[0;32m/usr/local/lib/python3.8/dist-packages/tensorflow/python/util/traceback_utils.py\u001b[0m in \u001b[0;36merror_handler\u001b[0;34m(*args, **kwargs)\u001b[0m\n\u001b[1;32m    148\u001b[0m     \u001b[0mfiltered_tb\u001b[0m \u001b[0;34m=\u001b[0m \u001b[0;32mNone\u001b[0m\u001b[0;34m\u001b[0m\u001b[0;34m\u001b[0m\u001b[0m\n\u001b[1;32m    149\u001b[0m     \u001b[0;32mtry\u001b[0m\u001b[0;34m:\u001b[0m\u001b[0;34m\u001b[0m\u001b[0;34m\u001b[0m\u001b[0m\n\u001b[0;32m--> 150\u001b[0;31m       \u001b[0;32mreturn\u001b[0m \u001b[0mfn\u001b[0m\u001b[0;34m(\u001b[0m\u001b[0;34m*\u001b[0m\u001b[0margs\u001b[0m\u001b[0;34m,\u001b[0m \u001b[0;34m**\u001b[0m\u001b[0mkwargs\u001b[0m\u001b[0;34m)\u001b[0m\u001b[0;34m\u001b[0m\u001b[0;34m\u001b[0m\u001b[0m\n\u001b[0m\u001b[1;32m    151\u001b[0m     \u001b[0;32mexcept\u001b[0m \u001b[0mException\u001b[0m \u001b[0;32mas\u001b[0m \u001b[0me\u001b[0m\u001b[0;34m:\u001b[0m\u001b[0;34m\u001b[0m\u001b[0;34m\u001b[0m\u001b[0m\n\u001b[1;32m    152\u001b[0m       \u001b[0mfiltered_tb\u001b[0m \u001b[0;34m=\u001b[0m \u001b[0m_process_traceback_frames\u001b[0m\u001b[0;34m(\u001b[0m\u001b[0me\u001b[0m\u001b[0;34m.\u001b[0m\u001b[0m__traceback__\u001b[0m\u001b[0;34m)\u001b[0m\u001b[0;34m\u001b[0m\u001b[0;34m\u001b[0m\u001b[0m\n",
            "\u001b[0;32m/usr/local/lib/python3.8/dist-packages/tensorflow/python/eager/polymorphic_function/polymorphic_function.py\u001b[0m in \u001b[0;36m__call__\u001b[0;34m(self, *args, **kwds)\u001b[0m\n\u001b[1;32m    878\u001b[0m \u001b[0;34m\u001b[0m\u001b[0m\n\u001b[1;32m    879\u001b[0m       \u001b[0;32mwith\u001b[0m \u001b[0mOptionalXlaContext\u001b[0m\u001b[0;34m(\u001b[0m\u001b[0mself\u001b[0m\u001b[0;34m.\u001b[0m\u001b[0m_jit_compile\u001b[0m\u001b[0;34m)\u001b[0m\u001b[0;34m:\u001b[0m\u001b[0;34m\u001b[0m\u001b[0;34m\u001b[0m\u001b[0m\n\u001b[0;32m--> 880\u001b[0;31m         \u001b[0mresult\u001b[0m \u001b[0;34m=\u001b[0m \u001b[0mself\u001b[0m\u001b[0;34m.\u001b[0m\u001b[0m_call\u001b[0m\u001b[0;34m(\u001b[0m\u001b[0;34m*\u001b[0m\u001b[0margs\u001b[0m\u001b[0;34m,\u001b[0m \u001b[0;34m**\u001b[0m\u001b[0mkwds\u001b[0m\u001b[0;34m)\u001b[0m\u001b[0;34m\u001b[0m\u001b[0;34m\u001b[0m\u001b[0m\n\u001b[0m\u001b[1;32m    881\u001b[0m \u001b[0;34m\u001b[0m\u001b[0m\n\u001b[1;32m    882\u001b[0m       \u001b[0mnew_tracing_count\u001b[0m \u001b[0;34m=\u001b[0m \u001b[0mself\u001b[0m\u001b[0;34m.\u001b[0m\u001b[0mexperimental_get_tracing_count\u001b[0m\u001b[0;34m(\u001b[0m\u001b[0;34m)\u001b[0m\u001b[0;34m\u001b[0m\u001b[0;34m\u001b[0m\u001b[0m\n",
            "\u001b[0;32m/usr/local/lib/python3.8/dist-packages/tensorflow/python/eager/polymorphic_function/polymorphic_function.py\u001b[0m in \u001b[0;36m_call\u001b[0;34m(self, *args, **kwds)\u001b[0m\n\u001b[1;32m    917\u001b[0m       \u001b[0;31m# In this case we have not created variables on the first call. So we can\u001b[0m\u001b[0;34m\u001b[0m\u001b[0;34m\u001b[0m\u001b[0;34m\u001b[0m\u001b[0m\n\u001b[1;32m    918\u001b[0m       \u001b[0;31m# run the first trace but we should fail if variables are created.\u001b[0m\u001b[0;34m\u001b[0m\u001b[0;34m\u001b[0m\u001b[0;34m\u001b[0m\u001b[0m\n\u001b[0;32m--> 919\u001b[0;31m       \u001b[0mresults\u001b[0m \u001b[0;34m=\u001b[0m \u001b[0mself\u001b[0m\u001b[0;34m.\u001b[0m\u001b[0m_variable_creation_fn\u001b[0m\u001b[0;34m(\u001b[0m\u001b[0;34m*\u001b[0m\u001b[0margs\u001b[0m\u001b[0;34m,\u001b[0m \u001b[0;34m**\u001b[0m\u001b[0mkwds\u001b[0m\u001b[0;34m)\u001b[0m\u001b[0;34m\u001b[0m\u001b[0;34m\u001b[0m\u001b[0m\n\u001b[0m\u001b[1;32m    920\u001b[0m       \u001b[0;32mif\u001b[0m \u001b[0mself\u001b[0m\u001b[0;34m.\u001b[0m\u001b[0m_created_variables\u001b[0m \u001b[0;32mand\u001b[0m \u001b[0;32mnot\u001b[0m \u001b[0mALLOW_DYNAMIC_VARIABLE_CREATION\u001b[0m\u001b[0;34m:\u001b[0m\u001b[0;34m\u001b[0m\u001b[0;34m\u001b[0m\u001b[0m\n\u001b[1;32m    921\u001b[0m         raise ValueError(\"Creating variables on a non-first call to a function\"\n",
            "\u001b[0;32m/usr/local/lib/python3.8/dist-packages/tensorflow/python/eager/polymorphic_function/tracing_compiler.py\u001b[0m in \u001b[0;36m__call__\u001b[0;34m(self, *args, **kwargs)\u001b[0m\n\u001b[1;32m    132\u001b[0m       (concrete_function,\n\u001b[1;32m    133\u001b[0m        filtered_flat_args) = self._maybe_define_function(args, kwargs)\n\u001b[0;32m--> 134\u001b[0;31m     return concrete_function._call_flat(\n\u001b[0m\u001b[1;32m    135\u001b[0m         filtered_flat_args, captured_inputs=concrete_function.captured_inputs)  # pylint: disable=protected-access\n\u001b[1;32m    136\u001b[0m \u001b[0;34m\u001b[0m\u001b[0m\n",
            "\u001b[0;32m/usr/local/lib/python3.8/dist-packages/tensorflow/python/eager/polymorphic_function/monomorphic_function.py\u001b[0m in \u001b[0;36m_call_flat\u001b[0;34m(self, args, captured_inputs, cancellation_manager)\u001b[0m\n\u001b[1;32m   1743\u001b[0m         and executing_eagerly):\n\u001b[1;32m   1744\u001b[0m       \u001b[0;31m# No tape is watching; skip to running the function.\u001b[0m\u001b[0;34m\u001b[0m\u001b[0;34m\u001b[0m\u001b[0;34m\u001b[0m\u001b[0m\n\u001b[0;32m-> 1745\u001b[0;31m       return self._build_call_outputs(self._inference_function.call(\n\u001b[0m\u001b[1;32m   1746\u001b[0m           ctx, args, cancellation_manager=cancellation_manager))\n\u001b[1;32m   1747\u001b[0m     forward_backward = self._select_forward_and_backward_functions(\n",
            "\u001b[0;32m/usr/local/lib/python3.8/dist-packages/tensorflow/python/eager/polymorphic_function/monomorphic_function.py\u001b[0m in \u001b[0;36mcall\u001b[0;34m(self, ctx, args, cancellation_manager)\u001b[0m\n\u001b[1;32m    376\u001b[0m       \u001b[0;32mwith\u001b[0m \u001b[0m_InterpolateFunctionError\u001b[0m\u001b[0;34m(\u001b[0m\u001b[0mself\u001b[0m\u001b[0;34m)\u001b[0m\u001b[0;34m:\u001b[0m\u001b[0;34m\u001b[0m\u001b[0;34m\u001b[0m\u001b[0m\n\u001b[1;32m    377\u001b[0m         \u001b[0;32mif\u001b[0m \u001b[0mcancellation_manager\u001b[0m \u001b[0;32mis\u001b[0m \u001b[0;32mNone\u001b[0m\u001b[0;34m:\u001b[0m\u001b[0;34m\u001b[0m\u001b[0;34m\u001b[0m\u001b[0m\n\u001b[0;32m--> 378\u001b[0;31m           outputs = execute.execute(\n\u001b[0m\u001b[1;32m    379\u001b[0m               \u001b[0mstr\u001b[0m\u001b[0;34m(\u001b[0m\u001b[0mself\u001b[0m\u001b[0;34m.\u001b[0m\u001b[0msignature\u001b[0m\u001b[0;34m.\u001b[0m\u001b[0mname\u001b[0m\u001b[0;34m)\u001b[0m\u001b[0;34m,\u001b[0m\u001b[0;34m\u001b[0m\u001b[0;34m\u001b[0m\u001b[0m\n\u001b[1;32m    380\u001b[0m               \u001b[0mnum_outputs\u001b[0m\u001b[0;34m=\u001b[0m\u001b[0mself\u001b[0m\u001b[0;34m.\u001b[0m\u001b[0m_num_outputs\u001b[0m\u001b[0;34m,\u001b[0m\u001b[0;34m\u001b[0m\u001b[0;34m\u001b[0m\u001b[0m\n",
            "\u001b[0;32m/usr/local/lib/python3.8/dist-packages/tensorflow/python/eager/execute.py\u001b[0m in \u001b[0;36mquick_execute\u001b[0;34m(op_name, num_outputs, inputs, attrs, ctx, name)\u001b[0m\n\u001b[1;32m     50\u001b[0m   \u001b[0;32mtry\u001b[0m\u001b[0;34m:\u001b[0m\u001b[0;34m\u001b[0m\u001b[0;34m\u001b[0m\u001b[0m\n\u001b[1;32m     51\u001b[0m     \u001b[0mctx\u001b[0m\u001b[0;34m.\u001b[0m\u001b[0mensure_initialized\u001b[0m\u001b[0;34m(\u001b[0m\u001b[0;34m)\u001b[0m\u001b[0;34m\u001b[0m\u001b[0;34m\u001b[0m\u001b[0m\n\u001b[0;32m---> 52\u001b[0;31m     tensors = pywrap_tfe.TFE_Py_Execute(ctx._handle, device_name, op_name,\n\u001b[0m\u001b[1;32m     53\u001b[0m                                         inputs, attrs, num_outputs)\n\u001b[1;32m     54\u001b[0m   \u001b[0;32mexcept\u001b[0m \u001b[0mcore\u001b[0m\u001b[0;34m.\u001b[0m\u001b[0m_NotOkStatusException\u001b[0m \u001b[0;32mas\u001b[0m \u001b[0me\u001b[0m\u001b[0;34m:\u001b[0m\u001b[0;34m\u001b[0m\u001b[0;34m\u001b[0m\u001b[0m\n",
            "\u001b[0;31mKeyboardInterrupt\u001b[0m: "
          ]
        }
      ]
    },
    {
      "cell_type": "markdown",
      "source": [
        "# **Data augmentation 2 - Rotation: 0.8; Zoom height factor: 0.4**"
      ],
      "metadata": {
        "id": "3ZwO3T-iyAFs"
      }
    },
    {
      "cell_type": "code",
      "source": [
        "print('Image shape: {0}'.format(X_train.shape[1:]))\n",
        "print('Total number of training samples: {0}'.format(X_train.shape[0]))\n",
        "print('Total number of validation samples: {0}'.format(X_test.shape[0]))\n",
        "\n",
        "X_train = X_train.reshape(-1,32,32,3)\n",
        "\n",
        "## Normalization block\n",
        "norm_layer = preprocessing.Normalization()\n",
        "norm_layer.adapt(X_train)\n",
        "X_train_n = norm_layer(X_train)\n",
        "X_test_n = norm_layer(X_test)\n",
        "\n",
        "# You can modify the data_augmentation variable below to add your\n",
        "# data augmentation pipeline.\n",
        "# By default we do not apply any augmentation (RandomZoom(0) is equivalent\n",
        "# to not performing any augmentation)\n",
        "data_augmentation = keras.Sequential(\n",
        "    [   \n",
        "        preprocessing.RandomRotation(0.8),\n",
        "        preprocessing.RandomZoom(height_factor=0.4)\n",
        "    ]\n",
        ")\n",
        "# We will use glorot_uniform as a initialization by default\n",
        "initialization = 'glorot_uniform'\n",
        "# Use the architecture given below, only modify it to add Dropout/BatchNorm\n",
        "model = Sequential()\n",
        "model.add(data_augmentation)\n",
        "model.add(Conv2D(32, (3, 3), padding='same', kernel_initializer=initialization))\n",
        "model.add(Activation('relu'))\n",
        "model.add(MaxPooling2D(pool_size=(2, 2), strides=(2, 2), padding='same'))\n",
        "\n",
        "model.add(Conv2D(64, (3, 3), padding='same', kernel_initializer=initialization))\n",
        "model.add(Activation('relu'))\n",
        "model.add(MaxPooling2D(pool_size=(2, 2), strides=(2, 2), padding='same'))\n",
        "\n",
        "model.add(Conv2D(128, (3, 3), padding='same', kernel_initializer=initialization))\n",
        "model.add(Activation('relu'))\n",
        "model.add(MaxPooling2D(pool_size=(2, 2), strides=(2, 2), padding='same'))\n",
        "\n",
        "model.add(Conv2D(256, (3, 3), padding='same', kernel_initializer=initialization))\n",
        "model.add(Activation('relu'))\n",
        "# As we use global average pooling, we don't need to use Flatten\n",
        "model.add(GlobalAveragePooling2D())\n",
        "model.add(Dense(10, kernel_initializer=initialization))\n",
        "model.add(Activation('softmax'))\n",
        "\n",
        "\n",
        "Y_train_class = np_utils.to_categorical(y_train, 10)\n",
        "Y_test_class = np_utils.to_categorical(y_test, 10)\n",
        "# By default use Adam with lr=3e-4. Change it to SGD when asked to\n",
        "opt = Adam(lr=3e-4)\n",
        "model.compile(loss='categorical_crossentropy',\n",
        "              optimizer=opt,\n",
        "              metrics=['accuracy'])\n",
        "# Use 40 epochs as default value to plot your curves\n",
        "history = model.fit(X_train_n, Y_train_class, epochs=40, validation_data=(X_test_n,Y_test_class))"
      ],
      "metadata": {
        "id": "wHeeAd3MupY1"
      },
      "execution_count": null,
      "outputs": []
    },
    {
      "cell_type": "markdown",
      "source": [
        "*   Attach in the appendix those training and validation curves. \n",
        "\n"
      ],
      "metadata": {
        "id": "FfCuySNotGPV"
      }
    },
    {
      "cell_type": "markdown",
      "source": [
        "*   Report in a table the best validation accuracy obtained for the three runs (no data augmentation, data augmentation 1, data augmentation 2).\n",
        "\n"
      ],
      "metadata": {
        "id": "lkjX0jvntH7N"
      }
    },
    {
      "cell_type": "markdown",
      "source": [
        "# **Baseline + Dropout**"
      ],
      "metadata": {
        "id": "f608WuH54n6u"
      }
    },
    {
      "cell_type": "code",
      "source": [
        "print('Image shape: {0}'.format(X_train.shape[1:]))\n",
        "print('Total number of training samples: {0}'.format(X_train.shape[0]))\n",
        "print('Total number of validation samples: {0}'.format(X_test.shape[0]))\n",
        "\n",
        "X_train = X_train.reshape(-1,32,32,3)\n",
        "\n",
        "## Normalization block\n",
        "norm_layer = preprocessing.Normalization()\n",
        "norm_layer.adapt(X_train)\n",
        "X_train_n = norm_layer(X_train)\n",
        "X_test_n = norm_layer(X_test)\n",
        "\n",
        "# You can modify the data_augmentation variable below to add your\n",
        "# data augmentation pipeline.\n",
        "# By default we do not apply any augmentation (RandomZoom(0) is equivalent\n",
        "# to not performing any augmentation)\n",
        "data_augmentation = keras.Sequential(\n",
        "    [   \n",
        "        preprocessing.RandomRotation(0.8),\n",
        "        preprocessing.RandomZoom(height_factor=0.4)\n",
        "    ]\n",
        ")\n",
        "# We will use glorot_uniform as a initialization by default\n",
        "initialization = 'glorot_uniform'\n",
        "# Use the architecture given below, only modify it to add Dropout/BatchNorm\n",
        "model = Sequential()\n",
        "model.add(data_augmentation)\n",
        "model.add(Conv2D(32, (3, 3), padding='same', kernel_initializer=initialization))\n",
        "model.add(Activation('relu'))\n",
        "model.add(MaxPooling2D(pool_size=(2, 2), strides=(2, 2), padding='same'))\n",
        "\n",
        "model.add(Conv2D(64, (3, 3), padding='same', kernel_initializer=initialization))\n",
        "model.add(Activation('relu'))\n",
        "model.add(MaxPooling2D(pool_size=(2, 2), strides=(2, 2), padding='same'))\n",
        "\n",
        "model.add(Conv2D(128, (3, 3), padding='same', kernel_initializer=initialization))\n",
        "model.add(Activation('relu'))\n",
        "model.add(MaxPooling2D(pool_size=(2, 2), strides=(2, 2), padding='same'))\n",
        "\n",
        "model.add(Conv2D(256, (3, 3), padding='same', kernel_initializer=initialization))\n",
        "model.add(Activation('relu'))\n",
        "# As we use global average pooling, we don't need to use Flatten\n",
        "model.add(GlobalAveragePooling2D())\n",
        "model.add(Dense(512, activation='relu', input_shape=(784,)))\n",
        "model.add(Dropout(0.3))\n",
        "model.add(Dense(512, activation='relu'))\n",
        "model.add(Dropout(0.3))\n",
        "model.add(Dense(10, activation='softmax'))\n",
        "model.add(Dense(10, kernel_initializer=initialization))\n",
        "model.add(Activation('softmax'))\n",
        "\n",
        "\n",
        "Y_train_class = np_utils.to_categorical(y_train, 10)\n",
        "Y_test_class = np_utils.to_categorical(y_test, 10)\n",
        "# By default use Adam with lr=3e-4. Change it to SGD when asked to\n",
        "opt = Adam(lr=3e-4)\n",
        "model.compile(loss='categorical_crossentropy',\n",
        "              optimizer=opt,\n",
        "              metrics=['accuracy'])\n",
        "# Use 40 epochs as default value to plot your curves\n",
        "history = model.fit(X_train_n, Y_train_class, epochs=40, validation_data=(X_test_n,Y_test_class))"
      ],
      "metadata": {
        "id": "YPHFxbVY4uTR"
      },
      "execution_count": null,
      "outputs": []
    },
    {
      "cell_type": "code",
      "source": [],
      "metadata": {
        "id": "NqagUP7r5KGC"
      },
      "execution_count": null,
      "outputs": []
    }
  ]
}